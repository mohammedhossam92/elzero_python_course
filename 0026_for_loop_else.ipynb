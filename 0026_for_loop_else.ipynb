{
 "cells": [
  {
   "cell_type": "code",
   "execution_count": 1,
   "metadata": {},
   "outputs": [],
   "source": [
    "\n",
    "# syntax\n",
    "    # for item in iterable_object:\n",
    "       # do_something"
   ]
  },
  {
   "cell_type": "code",
   "execution_count": 2,
   "metadata": {},
   "outputs": [],
   "source": [
    "# item is a variable You create \n",
    "# item refer also to position we visit and will run \n",
    "# and visit all items to the end\n",
    "# iterable object ==> sequence [list, tuple, dictionary, string ...]"
   ]
  },
  {
   "cell_type": "code",
   "execution_count": 5,
   "metadata": {},
   "outputs": [
    {
     "name": "stdout",
     "output_type": "stream",
     "text": [
      "osama"
     ]
    }
   ],
   "source": [
    "name = \"osama\"\n",
    "\n",
    "for letter in name:\n",
    "    print(letter, end=\"\")"
   ]
  },
  {
   "cell_type": "code",
   "execution_count": 8,
   "metadata": {},
   "outputs": [
    {
     "name": "stdout",
     "output_type": "stream",
     "text": [
      "my progress in html is ==> 90%\n",
      "my progress in css is ==> 80%\n",
      "my progress in js is ==> 70%\n",
      "my progress in sql is ==> 50%\n",
      "my progress in python is ==> 90%\n"
     ]
    }
   ],
   "source": [
    "skills = {\n",
    "    \"html\": \"90%\",\n",
    "    \"css\": \"80%\",\n",
    "    \"js\": \"70%\",\n",
    "    \"sql\": \"50%\",\n",
    "    \"python\": \"90%\",\n",
    "}\n",
    "\n",
    "\n",
    "for skill in skills:\n",
    "    print(f\"my progress in {skill} is ==> {skills.get(skill)}\")"
   ]
  },
  {
   "cell_type": "markdown",
   "metadata": {},
   "source": [
    "# nested for loop"
   ]
  },
  {
   "cell_type": "code",
   "execution_count": 5,
   "metadata": {},
   "outputs": [
    {
     "name": "stdout",
     "output_type": "stream",
     "text": [
      "osama skills are:\n",
      "- HTML ==> '90%'\n",
      "- CSS ==> '70%'\n",
      "- JS ==> '80%'\n",
      "Ahmed skills are:\n",
      "- HTML ==> '80%'\n",
      "- CSS ==> '50%'\n",
      "- JS ==> '40%'\n",
      "sayed skills are:\n",
      "- HTML ==> '50%'\n",
      "- CSS ==> '40%'\n",
      "- JS ==> '80%'\n"
     ]
    }
   ],
   "source": [
    "group = {\n",
    "    \"osama\": {\n",
    "        \"HTML\": \"90%\",\n",
    "        \"CSS\": \"70%\",\n",
    "        \"JS\": \"80%\"\n",
    "\n",
    "    },\n",
    "    \"Ahmed\":{\n",
    "        \"HTML\": \"80%\",\n",
    "        \"CSS\": \"50%\",\n",
    "        \"JS\": \"40%\"\n",
    "    },\n",
    "    \"sayed\":{\n",
    "        \"HTML\": \"50%\",\n",
    "        \"CSS\": \"40%\",\n",
    "        \"JS\": \"80%\"\n",
    "    }\n",
    "}\n",
    "\n",
    "\n",
    "for person in group:\n",
    "    print(f\"{person} skills are:\")\n",
    "    for skill in group[person]:\n",
    "        #           parent_dict[key_of_inner_dict][key] == value\n",
    "        print(f\"- {skill} ==> '{group[person][skill]}'\")"
   ]
  },
  {
   "cell_type": "code",
   "execution_count": 9,
   "metadata": {},
   "outputs": [
    {
     "name": "stdout",
     "output_type": "stream",
     "text": [
      "osama skills are:- HTML <-> 90% && - CSS <-> 70% && - JS <-> 80% && \n",
      "\n",
      "Ahmed skills are:- HTML <-> 80% && - CSS <-> 50% && - JS <-> 40% && \n",
      "\n",
      "sayed skills are:- HTML <-> 50% && - CSS <-> 40% && - JS <-> 80% && \n",
      "\n"
     ]
    }
   ],
   "source": [
    "# another way using .items() method\n",
    "\n",
    "new_group = {\n",
    "    \"osama\": {\n",
    "        \"HTML\": \"90%\",\n",
    "        \"CSS\": \"70%\",\n",
    "        \"JS\": \"80%\"\n",
    "\n",
    "    },\n",
    "    \"Ahmed\":{\n",
    "        \"HTML\": \"80%\",\n",
    "        \"CSS\": \"50%\",\n",
    "        \"JS\": \"40%\"\n",
    "    },\n",
    "    \"sayed\":{\n",
    "        \"HTML\": \"50%\",\n",
    "        \"CSS\": \"40%\",\n",
    "        \"JS\": \"80%\"\n",
    "    }\n",
    "}\n",
    "\n",
    "for name, personal_skill in new_group.items():\n",
    "    print(f'{name} skills are:', end=\"\")\n",
    "    for new_skill,progress in personal_skill.items():\n",
    "        print(f\"- {new_skill} <-> {progress}\", end=\" && \")\n",
    "    print(\"\\n\")"
   ]
  }
 ],
 "metadata": {
  "kernelspec": {
   "display_name": "Python 3",
   "language": "python",
   "name": "python3"
  },
  "language_info": {
   "codemirror_mode": {
    "name": "ipython",
    "version": 3
   },
   "file_extension": ".py",
   "mimetype": "text/x-python",
   "name": "python",
   "nbconvert_exporter": "python",
   "pygments_lexer": "ipython3",
   "version": "3.12.0"
  }
 },
 "nbformat": 4,
 "nbformat_minor": 2
}
