{
 "cells": [
  {
   "cell_type": "code",
   "execution_count": 7,
   "metadata": {},
   "outputs": [
    {
     "name": "stdout",
     "output_type": "stream",
     "text": [
      "################################################################################\n",
      "########You can write the full name of the unit or the first letter only########\n",
      "################################################################################\n",
      "units available are [day, week, month]\n",
      "You choosed day unit\n",
      "Your age in days is : 11,680 days\n"
     ]
    }
   ],
   "source": [
    "# intro\n",
    "print(\"#\" * 80)\n",
    "print(\"You can write the full name of the unit or the first letter only\".\n",
    "      center(80, \"#\"))\n",
    "print(\"#\" * 80)\n",
    "\n",
    "\n",
    "age = int(input(\"what is Your age in years ?\").strip())\n",
    "print(\"units available are [day, week, month]\")\n",
    "unit = input(\"please choose the unit from the previous list? \").strip().lower()\n",
    "\n",
    "\n",
    "months = age * 12\n",
    "weeks = months * 4\n",
    "days = age * 365\n",
    "\n",
    "if unit == \"day\" or unit == \"d\":\n",
    "    print(\"You choosed day unit\")\n",
    "    print(f\"Your age in days is : {days:,} days\")\n",
    "\n",
    "elif unit == \"week\" or unit == \"w\":\n",
    "    print(\"You choosed week unit\")\n",
    "    print(f\"Your age in weeks is : {weeks:,} weeks\")\n",
    "\n",
    "elif unit == \"month\" or unit == \"m\":\n",
    "    print(\"You choosed month unit\")\n",
    "    print(f\"Your age in months is : {months:,} months\")\n",
    "\n",
    "else:\n",
    "    print(\"You entered unavailable unit\")\n"
   ]
  }
 ],
 "metadata": {
  "kernelspec": {
   "display_name": "Python 3",
   "language": "python",
   "name": "python3"
  },
  "language_info": {
   "codemirror_mode": {
    "name": "ipython",
    "version": 3
   },
   "file_extension": ".py",
   "mimetype": "text/x-python",
   "name": "python",
   "nbconvert_exporter": "python",
   "pygments_lexer": "ipython3",
   "version": "3.12.0"
  }
 },
 "nbformat": 4,
 "nbformat_minor": 2
}
