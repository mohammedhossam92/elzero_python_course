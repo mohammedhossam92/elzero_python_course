{
 "cells": [
  {
   "cell_type": "markdown",
   "metadata": {},
   "source": [
    "# tuple\n",
    "\n",
    "* 1- Tuple items are enclosed in parenthesis ()\n",
    "* 2- You can remove parenthesis if you want\n",
    "* 3- Tuples are ordered items, You can use index to access them\n",
    "* 4- Tuples are immutable you can't edit\n",
    "* 5- tuple items are not unique\n",
    "* 6- Tuple can have different data types\n",
    "* 7- Tuple with one element .\n",
    "   \n",
    "     -- you place a comma after the element"
   ]
  },
  {
   "cell_type": "code",
   "execution_count": 3,
   "metadata": {},
   "outputs": [
    {
     "name": "stdout",
     "output_type": "stream",
     "text": [
      "('ahmed', 'mona')\n",
      "('ahmed', 'mona', 'eman')\n",
      "<class 'tuple'>\n",
      "<class 'tuple'>\n"
     ]
    }
   ],
   "source": [
    "Tuple_1 = (\"ahmed\", \"mona\")\n",
    "# tuple example with removing parenthesis\n",
    "Tuple_2 = \"ahmed\", \"mona\", \"eman\"\n",
    "\n",
    "print(Tuple_1)\n",
    "print(Tuple_2)\n",
    "\n",
    "print(type(Tuple_1))\n",
    "print(type(Tuple_2))\n"
   ]
  },
  {
   "cell_type": "code",
   "execution_count": 7,
   "metadata": {},
   "outputs": [
    {
     "name": "stdout",
     "output_type": "stream",
     "text": [
      "7\n",
      "10\n"
     ]
    }
   ],
   "source": [
    "Tuple_3 = (1, 2, 6, 7, 8, 9, 10)\n",
    "\n",
    "print(Tuple_3[3]) # access element in tuple\n",
    "print(Tuple_3[-1]) # access element in tuple"
   ]
  },
  {
   "cell_type": "code",
   "execution_count": 10,
   "metadata": {},
   "outputs": [
    {
     "name": "stdout",
     "output_type": "stream",
     "text": [
      "Ahmed\n",
      "<class 'str'>\n",
      "('ahmed',)\n",
      "<class 'tuple'>\n"
     ]
    }
   ],
   "source": [
    "# Tuple example with one element\n",
    "\n",
    "# wrong way\n",
    "_tuple = (\"Ahmed\")\n",
    "\n",
    "print(_tuple)\n",
    "print(type(_tuple))\n",
    "\n",
    "# right way\n",
    "# by placing a comma after the first element\n",
    " \n",
    "_new_tuple = (\"ahmed\",) \n",
    "print(_new_tuple)\n",
    "print(type(_new_tuple))"
   ]
  },
  {
   "cell_type": "markdown",
   "metadata": {},
   "source": [
    "## Tuple concatenation"
   ]
  },
  {
   "cell_type": "code",
   "execution_count": 15,
   "metadata": {},
   "outputs": [
    {
     "name": "stdout",
     "output_type": "stream",
     "text": [
      "(1, 2, 3, 4, 6, 7, 8)\n",
      "(1, 2, 3, 4, 'a', 'b', 6, 7, 8)\n"
     ]
    }
   ],
   "source": [
    "a = (1, 2, 3, 4) \n",
    "b= (6, 7, 8)\n",
    "d = a + (\"a\", \"b\") + b\n",
    "\n",
    "c = a + b\n",
    "print(c)\n",
    "print(d)"
   ]
  },
  {
   "cell_type": "markdown",
   "metadata": {},
   "source": [
    "## tuple, list and string repeat"
   ]
  },
  {
   "cell_type": "code",
   "execution_count": 19,
   "metadata": {},
   "outputs": [
    {
     "name": "stdout",
     "output_type": "stream",
     "text": [
      "osama osama osama osama osama osama \n",
      "('A', 'B', 'C', 'A', 'B', 'C', 'A', 'B', 'C', 'A', 'B', 'C', 'A', 'B', 'C', 'A', 'B', 'C')\n",
      "[1, 2, 5, 10, 1, 2, 5, 10, 1, 2, 5, 10, 1, 2, 5, 10, 1, 2, 5, 10, 1, 2, 5, 10]\n"
     ]
    }
   ],
   "source": [
    "my_string = \"osama \"\n",
    "my_tuple = (\"A\", \"B\", \"C\")\n",
    "my_list = [1, 2, 5, 10]\n",
    "\n",
    "\n",
    "\n",
    "print(my_string * 6)\n",
    "print(my_tuple * 6)\n",
    "print(my_list * 6)"
   ]
  },
  {
   "cell_type": "markdown",
   "metadata": {},
   "source": [
    "# MEthods"
   ]
  },
  {
   "cell_type": "markdown",
   "metadata": {},
   "source": [
    "* 1- count()"
   ]
  },
  {
   "cell_type": "code",
   "execution_count": 24,
   "metadata": {},
   "outputs": [
    {
     "name": "stdout",
     "output_type": "stream",
     "text": [
      "3\n",
      "1\n"
     ]
    }
   ],
   "source": [
    "_a_tuple = (1, 3, 2, 3, 5, 4, 3)\n",
    "\n",
    "print(_a_tuple.count(3)) # return how many number 3 is  repeated\n",
    "print(_a_tuple.count(2)) # return how many number 3 is  repeated"
   ]
  },
  {
   "cell_type": "markdown",
   "metadata": {},
   "source": [
    "* 2- index()"
   ]
  },
  {
   "cell_type": "code",
   "execution_count": 26,
   "metadata": {},
   "outputs": [
    {
     "name": "stdout",
     "output_type": "stream",
     "text": [
      "4\n"
     ]
    }
   ],
   "source": [
    "_a_tuple = (1, 3, 2, 3, 5, 4, 3)\n",
    "\n",
    "print(_a_tuple.index(5))"
   ]
  },
  {
   "cell_type": "markdown",
   "metadata": {},
   "source": [
    "## Tuple DESTRUCT"
   ]
  },
  {
   "cell_type": "code",
   "execution_count": 30,
   "metadata": {},
   "outputs": [
    {
     "name": "stdout",
     "output_type": "stream",
     "text": [
      "A\n",
      "B\n",
      "C\n",
      "6\n"
     ]
    }
   ],
   "source": [
    "a = (\"A\", \"B\", \"C\", 5, 6)\n",
    "x,y,z, _ , v= a\n",
    "\n",
    "# _ underscore sign means ignore this variable \n",
    "print(x)\n",
    "print(y)\n",
    "print(z)\n",
    "print(v)\n",
    "\n"
   ]
  }
 ],
 "metadata": {
  "kernelspec": {
   "display_name": "Python 3",
   "language": "python",
   "name": "python3"
  },
  "language_info": {
   "codemirror_mode": {
    "name": "ipython",
    "version": 3
   },
   "file_extension": ".py",
   "mimetype": "text/x-python",
   "name": "python",
   "nbconvert_exporter": "python",
   "pygments_lexer": "ipython3",
   "version": "3.12.0"
  }
 },
 "nbformat": 4,
 "nbformat_minor": 2
}
