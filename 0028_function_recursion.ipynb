{
 "cells": [
  {
   "cell_type": "markdown",
   "metadata": {},
   "source": [
    "# function recursion\n",
    "\n"
   ]
  },
  {
   "cell_type": "code",
   "execution_count": 4,
   "metadata": {},
   "outputs": [
    {
     "name": "stdout",
     "output_type": "stream",
     "text": [
      "world\n",
      "mohamed\n"
     ]
    }
   ],
   "source": [
    "# example on function that remove the repeated letters\n",
    "\n",
    "# the word is wwwoooorrldd\n",
    "\n",
    "\n",
    "def clean_word(word):\n",
    "    if len(word) == 1:\n",
    "        return word\n",
    "    # check if the first letter of the remaining or existing word are equal\n",
    "    elif word[0] == word[1]:\n",
    "        # if equal we run the function again but this time\n",
    "        # we ignore the first letter\n",
    "        return clean_word(word[1:])\n",
    "    else:\n",
    "        pass\n",
    "    # if the first two letters are not equal \n",
    "    # we store the first letter in the function \n",
    "    # and run the function again from the second letter\n",
    "    # to check if the second letter is equal to the third and so on\n",
    "    return word[0] + clean_word(word[1:])\n",
    "\n",
    "print(clean_word(\"wwwoooorrlddddd\"))\n",
    "print(clean_word(\"mmoohaaaammmmeeeed\"))"
   ]
  },
  {
   "cell_type": "code",
   "execution_count": null,
   "metadata": {},
   "outputs": [],
   "source": []
  }
 ],
 "metadata": {
  "kernelspec": {
   "display_name": "Python 3",
   "language": "python",
   "name": "python3"
  },
  "language_info": {
   "codemirror_mode": {
    "name": "ipython",
    "version": 3
   },
   "file_extension": ".py",
   "mimetype": "text/x-python",
   "name": "python",
   "nbconvert_exporter": "python",
   "pygments_lexer": "ipython3",
   "version": "3.12.0"
  }
 },
 "nbformat": 4,
 "nbformat_minor": 2
}
