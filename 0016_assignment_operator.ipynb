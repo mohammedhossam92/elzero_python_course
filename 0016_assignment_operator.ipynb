{
 "cells": [
  {
   "cell_type": "markdown",
   "metadata": {},
   "source": [
    "**we use = to assign values to variables**\n"
   ]
  },
  {
   "cell_type": "markdown",
   "metadata": {},
   "source": [
    "## hand short operators "
   ]
  },
  {
   "cell_type": "markdown",
   "metadata": {},
   "source": [
    "* x = x + 1    ==>  x += 1\n",
    "* x = x - 1    ==>  x -= 1\n",
    "* x = x * 1    ==>  x *= 1\n",
    "* x = x / 1    ==>  x /= 1\n",
    "* x = x // 1   ==>  x //= 1\n",
    "* x = x ** 1   ==>  x **= 1\n",
    "* x = x % 1    ==>  x %= 1"
   ]
  }
 ],
 "metadata": {
  "language_info": {
   "name": "python"
  }
 },
 "nbformat": 4,
 "nbformat_minor": 2
}
