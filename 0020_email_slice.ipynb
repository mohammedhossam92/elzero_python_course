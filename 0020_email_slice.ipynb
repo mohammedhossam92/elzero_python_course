{
 "cells": [
  {
   "cell_type": "markdown",
   "metadata": {},
   "source": [
    "### practical application "
   ]
  },
  {
   "cell_type": "code",
   "execution_count": 4,
   "metadata": {},
   "outputs": [
    {
     "name": "stdout",
     "output_type": "stream",
     "text": [
      "osama_elzero\n"
     ]
    }
   ],
   "source": [
    "email = \"osama_elzero@gmail.com\"\n",
    "\n",
    "# email[stat:end(which is the index of @)]\n",
    "user_name = email[0:email.index(\"@\")]  \n",
    "print(user_name)"
   ]
  },
  {
   "cell_type": "code",
   "execution_count": 6,
   "metadata": {},
   "outputs": [
    {
     "name": "stdout",
     "output_type": "stream",
     "text": [
      "osama_elzero\n"
     ]
    }
   ],
   "source": [
    "# another way for slicing\n",
    "email = \"osama_elzero@gmail.com\"\n",
    "user_name = email.split(\"@\")[0]\n",
    "print(user_name)"
   ]
  },
  {
   "cell_type": "code",
   "execution_count": 1,
   "metadata": {},
   "outputs": [
    {
     "name": "stdout",
     "output_type": "stream",
     "text": [
      "hello Your user is 'mohamedhossam' and your host of email is 'gmail.com'\n"
     ]
    }
   ],
   "source": [
    "user_email = \"mohamedhossam@gmail.com\"\n",
    "user_name_1 = user_email[:user_email.index(\"@\")]\n",
    "host = user_email[user_email.index(\"@\") + 1:]\n",
    "\n",
    "print(f\"hello Your user is '{user_name_1}' and your host of email is '{host}'\")"
   ]
  },
  {
   "cell_type": "code",
   "execution_count": 3,
   "metadata": {},
   "outputs": [
    {
     "name": "stdout",
     "output_type": "stream",
     "text": [
      "Your age in months is 384 month\n",
      "Your age in days is 11520 days\n",
      "Your age hours is 276,480 hour\n"
     ]
    }
   ],
   "source": [
    "# another practical example\n",
    "# age in details\n",
    "\n",
    "# get the age use strip() ==> to eliminate spaces around the string\n",
    "# then convert the whole result into int\n",
    "age = int(input(\"what is Your age? \").strip())\n",
    "\n",
    "months = age * 12\n",
    "days = months * 30\n",
    "hours = days * 24\n",
    "\n",
    "\n",
    "print(f\"Your age in months is {months} month\")\n",
    "print(f\"Your age in days is {days} days\")\n",
    "print(f\"Your age hours is {hours:,} hour\")"
   ]
  }
 ],
 "metadata": {
  "kernelspec": {
   "display_name": "Python 3",
   "language": "python",
   "name": "python3"
  },
  "language_info": {
   "codemirror_mode": {
    "name": "ipython",
    "version": 3
   },
   "file_extension": ".py",
   "mimetype": "text/x-python",
   "name": "python",
   "nbconvert_exporter": "python",
   "pygments_lexer": "ipython3",
   "version": "3.12.0"
  }
 },
 "nbformat": 4,
 "nbformat_minor": 2
}
