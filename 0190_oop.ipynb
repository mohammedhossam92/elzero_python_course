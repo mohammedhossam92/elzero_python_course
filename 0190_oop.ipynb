{
 "cells": [
  {
   "cell_type": "code",
   "execution_count": 22,
   "metadata": {},
   "outputs": [
    {
     "ename": "TypeError",
     "evalue": "Member.full_name() missing 1 required positional argument: 'self'",
     "output_type": "error",
     "traceback": [
      "\u001b[1;31m---------------------------------------------------------------------------\u001b[0m",
      "\u001b[1;31mTypeError\u001b[0m                                 Traceback (most recent call last)",
      "\u001b[1;32md:\\1-self learning\\2- programming courses\\2-python\\notes_on_learning_python\\elzero course\\0190_oop.ipynb Cell 1\u001b[0m line \u001b[0;36m1\n\u001b[0;32m     <a href='vscode-notebook-cell:/d%3A/1-self%20learning/2-%20programming%20courses/2-python/notes_on_learning_python/elzero%20course/0190_oop.ipynb#W0sZmlsZQ%3D%3D?line=9'>10</a>\u001b[0m         \u001b[39mreturn\u001b[39;00m \u001b[39mself\u001b[39m\u001b[39m.\u001b[39mfirst_name \u001b[39m+\u001b[39m \u001b[39m'\u001b[39m\u001b[39m \u001b[39m\u001b[39m'\u001b[39m \u001b[39m+\u001b[39m\u001b[39mself\u001b[39m\u001b[39m.\u001b[39mlast_name\n\u001b[0;32m     <a href='vscode-notebook-cell:/d%3A/1-self%20learning/2-%20programming%20courses/2-python/notes_on_learning_python/elzero%20course/0190_oop.ipynb#W0sZmlsZQ%3D%3D?line=14'>15</a>\u001b[0m \u001b[39m# self ==> point to the object instance so instance methods is related to only instances\u001b[39;00m\n\u001b[0;32m     <a href='vscode-notebook-cell:/d%3A/1-self%20learning/2-%20programming%20courses/2-python/notes_on_learning_python/elzero%20course/0190_oop.ipynb#W0sZmlsZQ%3D%3D?line=15'>16</a>\u001b[0m \u001b[39m# if we accessed it directly from the class it will give an error\u001b[39;00m\n\u001b[0;32m     <a href='vscode-notebook-cell:/d%3A/1-self%20learning/2-%20programming%20courses/2-python/notes_on_learning_python/elzero%20course/0190_oop.ipynb#W0sZmlsZQ%3D%3D?line=16'>17</a>\u001b[0m \u001b[39m# but if we replaced the self with the object instance it will work\u001b[39;00m\n\u001b[1;32m---> <a href='vscode-notebook-cell:/d%3A/1-self%20learning/2-%20programming%20courses/2-python/notes_on_learning_python/elzero%20course/0190_oop.ipynb#W0sZmlsZQ%3D%3D?line=17'>18</a>\u001b[0m \u001b[39mprint\u001b[39m(Member\u001b[39m.\u001b[39;49mfull_name())\n\u001b[0;32m     <a href='vscode-notebook-cell:/d%3A/1-self%20learning/2-%20programming%20courses/2-python/notes_on_learning_python/elzero%20course/0190_oop.ipynb#W0sZmlsZQ%3D%3D?line=19'>20</a>\u001b[0m user_1 \u001b[39m=\u001b[39m Member(\u001b[39m\"\u001b[39m\u001b[39mahmed\u001b[39m\u001b[39m\"\u001b[39m, \u001b[39m\"\u001b[39m\u001b[39mosama\u001b[39m\u001b[39m\"\u001b[39m)\n\u001b[0;32m     <a href='vscode-notebook-cell:/d%3A/1-self%20learning/2-%20programming%20courses/2-python/notes_on_learning_python/elzero%20course/0190_oop.ipynb#W0sZmlsZQ%3D%3D?line=20'>21</a>\u001b[0m user_2 \u001b[39m=\u001b[39m Member(\u001b[39m\"\u001b[39m\u001b[39mEman\u001b[39m\u001b[39m\"\u001b[39m, \u001b[39m\"\u001b[39m\u001b[39mosama\u001b[39m\u001b[39m\"\u001b[39m)\n",
      "\u001b[1;31mTypeError\u001b[0m: Member.full_name() missing 1 required positional argument: 'self'"
     ]
    }
   ],
   "source": [
    "class Member:\n",
    "\n",
    "    not_allowed_list = [\"hello\", \"car\", \"man\"]\n",
    "\n",
    "    def __init__(self, first_name, last_name) -> None:\n",
    "        self.first_name = first_name\n",
    "        self.last_name = last_name\n",
    "\n",
    "    def full_name(self):\n",
    "        return self.first_name + ' ' +self.last_name\n",
    "\n",
    "\n",
    "\n",
    "\n",
    "# self ==> point to the object instance so instance methods \n",
    "# is related to only instances\n",
    "\n",
    "# if we accessed it directly from the class it will give an error\n",
    "# but if we replaced the self with the object instance it will work\n",
    "print(Member.full_name())\n",
    "\n"
   ]
  },
  {
   "cell_type": "code",
   "execution_count": 24,
   "metadata": {},
   "outputs": [
    {
     "name": "stdout",
     "output_type": "stream",
     "text": [
      "ahmed osama\n",
      "Eman osama\n",
      "Elsayed osama\n",
      "['hello', 'car', 'man']\n",
      "['hello', 'car', 'man']\n"
     ]
    }
   ],
   "source": [
    "\n",
    "class Member:\n",
    "\n",
    "    not_allowed_list = [\"hello\", \"car\", \"man\"]\n",
    "\n",
    "    def __init__(self, first_name, last_name) -> None:\n",
    "        self.first_name = first_name\n",
    "        self.last_name = last_name\n",
    "\n",
    "    def full_name(self):\n",
    "        return self.first_name + ' ' +self.last_name\n",
    "\n",
    "\n",
    "user_1 = Member(\"ahmed\", \"osama\")\n",
    "user_2 = Member(\"Eman\", \"osama\")\n",
    "user_3 = Member(\"Elsayed\", \"osama\")\n",
    "user_4 = Member(\"mona\", \"osama\")\n",
    "user_5 = Member(\"maryam\", \"osama\")\n",
    "\n",
    "\n",
    "print(user_1.full_name())\n",
    "print(user_2.full_name())\n",
    "print(user_3.full_name())\n",
    "\n",
    "\n",
    "\n",
    "\n",
    "# cause not_allowed_list is a public attribute it can be accessed \n",
    "# through the instance and class\n",
    "print(user_1.not_allowed_list)\n",
    "print(Member.not_allowed_list)"
   ]
  },
  {
   "cell_type": "code",
   "execution_count": 45,
   "metadata": {},
   "outputs": [
    {
     "name": "stdout",
     "output_type": "stream",
     "text": [
      "97f70f50-42f2-4d69-9ce5-ef087ba611fe\n",
      "[Test] (97f70f50-42f2-4d69-9ce5-ef087ba611fe) {'name': 'Host', 'age': '10', 'id': '97f70f50-42f2-4d69-9ce5-ef087ba611fe', 'number': '1000'}\n",
      "{'name': 'Host', 'age': '10', 'id': '97f70f50-42f2-4d69-9ce5-ef087ba611fe', 'number': '1000'}\n"
     ]
    }
   ],
   "source": [
    "from uuid import uuid4\n",
    "class Test:\n",
    "\n",
    "    def __init__(self,*args,**kwargs) -> None:\n",
    "        self.name = \"ahmed\"\n",
    "        self.age = \"10\"\n",
    "        self.id = str(uuid4())\n",
    "    \n",
    "    def __str__(self) -> str:\n",
    "        return f\"[{self.__class__.__name__}] ({self.id}) {self.__dict__}\"\n",
    "\n",
    "    def print_module(self):\n",
    "        print(\"hello\")\n",
    "\n",
    "    def to_dict(self):\n",
    "        return self.__dict__()\n",
    "\n",
    "\n",
    "test = Test()\n",
    "test.name = \"Host\"\n",
    "test.number = \"1000\"\n",
    "print(test.id)\n",
    "print(test)\n",
    "print(test.__dict__)"
   ]
  },
  {
   "cell_type": "code",
   "execution_count": null,
   "metadata": {},
   "outputs": [],
   "source": []
  }
 ],
 "metadata": {
  "kernelspec": {
   "display_name": "Python 3",
   "language": "python",
   "name": "python3"
  },
  "language_info": {
   "codemirror_mode": {
    "name": "ipython",
    "version": 3
   },
   "file_extension": ".py",
   "mimetype": "text/x-python",
   "name": "python",
   "nbconvert_exporter": "python",
   "pygments_lexer": "ipython3",
   "version": "3.12.0"
  }
 },
 "nbformat": 4,
 "nbformat_minor": 2
}
