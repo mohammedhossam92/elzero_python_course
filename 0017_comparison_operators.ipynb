{
 "cells": [
  {
   "cell_type": "markdown",
   "metadata": {},
   "source": [
    "* (==)       equal\n",
    "* (!=)       not equal to \n",
    "* (>)        greater than\n",
    "* (<)        less than\n",
    "* (>=)       greater than or equal to\n",
    "* (<=)       less than or equal to"
   ]
  }
 ],
 "metadata": {
  "language_info": {
   "name": "python"
  }
 },
 "nbformat": 4,
 "nbformat_minor": 2
}
