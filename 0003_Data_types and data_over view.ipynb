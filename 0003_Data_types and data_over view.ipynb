{
 "cells": [
  {
   "cell_type": "markdown",
   "metadata": {},
   "source": [
    "#### 1- there are some types of data \n",
    "####     numbers ==> like ages, phone numbers, etc\n",
    "####     booleans ==> yes or no .. agent got salary or not \n",
    "####     strings ==> words between double quotes like ==> \"hello\" \n",
    "####     variables doesn't contain the data. \n",
    "**variables just refer to the location in the memory containing the data**"
   ]
  },
  {
   "cell_type": "code",
   "execution_count": 1,
   "metadata": {},
   "outputs": [
    {
     "name": "stdout",
     "output_type": "stream",
     "text": [
      "<class 'str'>\n"
     ]
    }
   ],
   "source": [
    "# we can use the built in function ==> type()  ==> to get the type of specific data\n",
    "# for example\n",
    "print(type(\"ahmed\"))"
   ]
  },
  {
   "cell_type": "markdown",
   "metadata": {},
   "source": [
    "## data types examples:\n",
    "* 10 ==> int \n",
    "* -10 ==> int\n",
    "* 10.2 ==> float\n",
    "* 10.639 ==> float\n",
    "* \"ahmed\" ==> string\n",
    "* [1, 2, 3, 4] ==> list\n",
    "* (1, 2, 3) ==> tuple\n",
    "* {\"key\": \"value\"} ==> dict  which is dictionary in python"
   ]
  }
 ],
 "metadata": {
  "kernelspec": {
   "display_name": "Python 3",
   "language": "python",
   "name": "python3"
  },
  "language_info": {
   "codemirror_mode": {
    "name": "ipython",
    "version": 3
   },
   "file_extension": ".py",
   "mimetype": "text/x-python",
   "name": "python",
   "nbconvert_exporter": "python",
   "pygments_lexer": "ipython3",
   "version": "3.12.0"
  },
  "orig_nbformat": 4
 },
 "nbformat": 4,
 "nbformat_minor": 2
}
