{
 "cells": [
  {
   "cell_type": "markdown",
   "metadata": {},
   "source": [
    "# Python built in functions"
   ]
  },
  {
   "cell_type": "markdown",
   "metadata": {},
   "source": [
    "### 16- enumerate()"
   ]
  },
  {
   "cell_type": "code",
   "execution_count": 1,
   "metadata": {},
   "outputs": [
    {
     "name": "stdout",
     "output_type": "stream",
     "text": [
      "<class 'enumerate'>\n",
      "####################\n",
      "(0, 'html')\n",
      "(1, 'css')\n",
      "(2, 'js')\n",
      "####################\n",
      "0 - html\n",
      "1 - css\n",
      "2 - js\n"
     ]
    }
   ],
   "source": [
    "# syntax\n",
    "# enumerate(iterable, start=0 by default)\n",
    "\n",
    "skills = [\"html\", \"css\", \"js\"]\n",
    "\n",
    "mySkillsWithCounter = enumerate(skills)\n",
    "# it has a type of enumerate \n",
    "print(type(mySkillsWithCounter))\n",
    "\n",
    "print (\"#\" * 20)\n",
    "for skill in mySkillsWithCounter:\n",
    "    print(skill) # it will print the counter and the element\n",
    "print (\"#\" * 20)\n",
    "\n",
    "# advanced\n",
    "# -----------------------------------------------------------------------------\n",
    "# . Enumerate Creates an Iterator:\n",
    "\n",
    "# When you call enumerate(skills), it doesn't create a list of tuples. Instead,\n",
    "# it returns an iterator.\n",
    "# An iterator is an object that allows you to traverse through a sequence \n",
    "#of elements one at a time, but you can't go back to previous elements.\n",
    "# 2. First Loop Exhausts the Iterator:\n",
    "\n",
    "# The first for skill in mySkillsWithCounter: loop iterates through \n",
    "# the iterator, consuming each element (counter, skill) pair.\n",
    "# Once the iterator has been exhausted, there are no more elements \n",
    "# left to iterate over.\n",
    "# so if we want to use the variable again we should call the function again\n",
    "# -----------------------------------------------------------------------------\n",
    "mySkillsWithCounter = enumerate(skills) \n",
    "# without this line the loop won't run\n",
    "# or just write :\n",
    "# for counter, skill in enumerate(skills):\n",
    "for counter, skill in mySkillsWithCounter:\n",
    "    print(f\"{counter} - {skill}\")\n",
    "\n"
   ]
  },
  {
   "cell_type": "markdown",
   "metadata": {},
   "source": [
    "### 17- help()"
   ]
  },
  {
   "cell_type": "code",
   "execution_count": 3,
   "metadata": {},
   "outputs": [
    {
     "name": "stdout",
     "output_type": "stream",
     "text": [
      "Help on built-in function print in module builtins:\n",
      "\n",
      "print(*args, sep=' ', end='\\n', file=None, flush=False)\n",
      "    Prints the values to a stream, or to sys.stdout by default.\n",
      "\n",
      "    sep\n",
      "      string inserted between values, default a space.\n",
      "    end\n",
      "      string appended after the last value, default a newline.\n",
      "    file\n",
      "      a file-like object (stream); defaults to the current sys.stdout.\n",
      "    flush\n",
      "      whether to forcibly flush the stream.\n",
      "\n",
      "None\n"
     ]
    }
   ],
   "source": [
    "# return the documentation for using the given built in function\n",
    "print(help(print))"
   ]
  },
  {
   "cell_type": "markdown",
   "metadata": {},
   "source": [
    "### 18- reversed()"
   ]
  },
  {
   "cell_type": "code",
   "execution_count": 8,
   "metadata": {},
   "outputs": [
    {
     "name": "stdout",
     "output_type": "stream",
     "text": [
      "['o', 'r', 'e', 'z', 'l', 'E']\n",
      "o r e z l E\n",
      "o r e z l E "
     ]
    }
   ],
   "source": [
    "my_string = \"Elzero\"\n",
    "\n",
    "print(list(reversed(my_string)))\n",
    "my_reversed_list = list(reversed(my_string))\n",
    "# a way to print the reversed list\n",
    "print(\" \".join(my_reversed_list))\n",
    "# another way for printing\n",
    "for letter in my_reversed_list:\n",
    "    print(letter, end=' ')\n"
   ]
  }
 ],
 "metadata": {
  "kernelspec": {
   "display_name": "Python 3",
   "language": "python",
   "name": "python3"
  },
  "language_info": {
   "codemirror_mode": {
    "name": "ipython",
    "version": 3
   },
   "file_extension": ".py",
   "mimetype": "text/x-python",
   "name": "python",
   "nbconvert_exporter": "python",
   "pygments_lexer": "ipython3",
   "version": "3.12.0"
  }
 },
 "nbformat": 4,
 "nbformat_minor": 2
}
