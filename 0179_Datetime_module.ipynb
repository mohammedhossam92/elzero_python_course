{
 "cells": [
  {
   "cell_type": "markdown",
   "metadata": {},
   "source": [
    "###  formatting date time \n",
    "\n"
   ]
  },
  {
   "cell_type": "code",
   "execution_count": 8,
   "metadata": {},
   "outputs": [
    {
     "name": "stdout",
     "output_type": "stream",
     "text": [
      "<class 'datetime.datetime'>\n",
      "01 February 1992\n"
     ]
    }
   ],
   "source": [
    "import datetime\n",
    "\n",
    "# a way to store into a variable then format the variable  \n",
    "my_birthday = datetime.datetime(1992, 2, 1)\n",
    "print(type(my_birthday))\n",
    "print(my_birthday.strftime(\"%d %B %Y\"))"
   ]
  },
  {
   "cell_type": "code",
   "execution_count": 53,
   "metadata": {},
   "outputs": [
    {
     "name": "stdout",
     "output_type": "stream",
     "text": [
      "06 December 2023 time ==> 02:19:29\n"
     ]
    }
   ],
   "source": [
    "# another way to format directly while initiating the method \n",
    "my_birthday = datetime.datetime.now().strftime(\"%d %B %Y time ==> %H:%M:%S\")\n",
    "print(my_birthday)"
   ]
  },
  {
   "cell_type": "code",
   "execution_count": 60,
   "metadata": {},
   "outputs": [
    {
     "name": "stdout",
     "output_type": "stream",
     "text": [
      "11631\n"
     ]
    }
   ],
   "source": [
    "# another example \n",
    "\n",
    "my_birthday = datetime.datetime(1992, 2, 1)\n",
    "my_now = datetime.datetime.now()\n",
    "\n",
    "my_age = my_now - my_birthday\n",
    "print(my_age.days)"
   ]
  }
 ],
 "metadata": {
  "kernelspec": {
   "display_name": "Python 3",
   "language": "python",
   "name": "python3"
  },
  "language_info": {
   "codemirror_mode": {
    "name": "ipython",
    "version": 3
   },
   "file_extension": ".py",
   "mimetype": "text/x-python",
   "name": "python",
   "nbconvert_exporter": "python",
   "pygments_lexer": "ipython3",
   "version": "3.12.0"
  }
 },
 "nbformat": 4,
 "nbformat_minor": 2
}
