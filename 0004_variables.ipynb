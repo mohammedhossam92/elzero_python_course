{
 "cells": [
  {
   "cell_type": "markdown",
   "metadata": {},
   "source": [
    "# naming convention rules in python:\n",
    "* it can start with ant letter from A to Z capital\n",
    "* it can start with ant letter from a to z small\n",
    "* can start with _ underscore character\n",
    "* can't start with special characters like @ or -\n",
    "* can include numbers or underscore\n",
    "* Name is not like name \n",
    "* You can't use variable before assignment\n",
    "* name should be descriptive  \n",
    "* you can't use language keyword as variable name"
   ]
  },
  {
   "cell_type": "markdown",
   "metadata": {},
   "source": [
    "***python is dynamically typed language and not static like C for example**\n",
    "\n",
    "what we mean is the type of the variable change dynamically"
   ]
  },
  {
   "cell_type": "code",
   "execution_count": 1,
   "metadata": {},
   "outputs": [
    {
     "name": "stdout",
     "output_type": "stream",
     "text": [
      " ahmed\n"
     ]
    }
   ],
   "source": [
    "# example for dynamic language\n",
    "\n",
    "x = 10  # here x is of type int \n",
    "x = \" ahmed\"  # here x changed to string \n",
    "print(x)"
   ]
  },
  {
   "cell_type": "code",
   "execution_count": 2,
   "metadata": {},
   "outputs": [
    {
     "name": "stdout",
     "output_type": "stream",
     "text": [
      "\n",
      "Here is a list of the Python keywords.  Enter any keyword to get more help.\n",
      "\n",
      "False               class               from                or\n",
      "None                continue            global              pass\n",
      "True                def                 if                  raise\n",
      "and                 del                 import              return\n",
      "as                  elif                in                  try\n",
      "assert              else                is                  while\n",
      "async               except              lambda              with\n",
      "await               finally             nonlocal            yield\n",
      "break               for                 not                 \n",
      "\n"
     ]
    }
   ],
   "source": [
    "# to get the keyword preserved for the language \n",
    "help(\"keywords\")"
   ]
  },
  {
   "cell_type": "code",
   "execution_count": null,
   "metadata": {},
   "outputs": [],
   "source": [
    "# to assign multiple variable to multiple values\n",
    "\n",
    "a, b, c = 1, 2, 3    # but this is not a good practice \n",
    "\n"
   ]
  }
 ],
 "metadata": {
  "kernelspec": {
   "display_name": "Python 3",
   "language": "python",
   "name": "python3"
  },
  "language_info": {
   "codemirror_mode": {
    "name": "ipython",
    "version": 3
   },
   "file_extension": ".py",
   "mimetype": "text/x-python",
   "name": "python",
   "nbconvert_exporter": "python",
   "pygments_lexer": "ipython3",
   "version": "3.12.0"
  },
  "orig_nbformat": 4
 },
 "nbformat": 4,
 "nbformat_minor": 2
}
