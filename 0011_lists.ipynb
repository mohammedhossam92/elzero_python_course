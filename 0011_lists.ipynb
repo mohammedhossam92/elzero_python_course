{
 "cells": [
  {
   "cell_type": "markdown",
   "metadata": {},
   "source": [
    "# LISTS"
   ]
  },
  {
   "cell_type": "markdown",
   "metadata": {},
   "source": [
    "* are in square enclosed brackets ==>   []\n",
    "* lists are ordered we can use index to access elements\n",
    "* lists are mutable ==> add , delete, edit \n",
    "* list items are not unique\n",
    "* lists can have different data types\n",
    "* lists are like array but they are not array "
   ]
  },
  {
   "cell_type": "code",
   "execution_count": 19,
   "metadata": {},
   "outputs": [
    {
     "name": "stdout",
     "output_type": "stream",
     "text": [
      "['one', 'two', 1, 2, True]\n",
      "two\n",
      "True\n",
      "['two', 1]\n",
      "['one', 'two', 1]\n",
      "['two', 1, 2, True]\n",
      "['one', 1, True]\n",
      "['one', 'two', 3, 2, False]\n",
      "[2, False]\n",
      "['A', 'B']\n",
      "[1, 2, 3, 'x', 'Y', 'z', True]\n"
     ]
    }
   ],
   "source": [
    "My_awesome_list = [\"one\", \"two\", 1, 2 , True]\n",
    "print(My_awesome_list)\n",
    "print(My_awesome_list[1]) # access second element\n",
    "print(My_awesome_list[-1]) # access from the end\n",
    "print(My_awesome_list[1:3]) # slicing ==> end not included\n",
    "print(My_awesome_list[:3]) \n",
    "print(My_awesome_list[1:]) \n",
    "print(My_awesome_list[0:5:2]) \n",
    "\n",
    "\n",
    "My_awesome_list[2] = 3  # change the third element with 3\n",
    "My_awesome_list[-1] = False  # change the last element\n",
    "\n",
    "print(My_awesome_list)\n",
    "My_awesome_list[0:3] = []  # we removed the range given\n",
    "print(My_awesome_list)\n",
    "My_awesome_list[0:2] = [\"A\", \"B\"]\n",
    "print(My_awesome_list)\n",
    "My_awesome_list = [1, 2, 3, \"x\",\"Y\", \"z\", True]\n",
    "print(My_awesome_list)\n",
    "\n",
    "\n",
    "\n"
   ]
  },
  {
   "cell_type": "markdown",
   "metadata": {},
   "source": [
    "# lists methods"
   ]
  },
  {
   "cell_type": "markdown",
   "metadata": {},
   "source": [
    "### 1- append()\n",
    "* syntax \n",
    "==>  list_name.append()"
   ]
  },
  {
   "cell_type": "code",
   "execution_count": 22,
   "metadata": {},
   "outputs": [
    {
     "name": "stdout",
     "output_type": "stream",
     "text": [
      "['osama', 'mohammed', 'ahmed', 'mona', 'Eman', 100, True]\n",
      "['osama', 'mohammed', 'ahmed', 'mona', 'Eman', 100, True, ['koko', 'mariam']]\n"
     ]
    }
   ],
   "source": [
    "# example\n",
    "\n",
    "my_friend_list = [\"osama\", \"mohammed\", \"ahmed\", \"mona\"]\n",
    "my_old_friends = [\"koko\", \"mariam\"]\n",
    "my_friend_list.append(\"Eman\") # we can add string\n",
    "my_friend_list.append(100) # or we can add numbers\n",
    "my_friend_list.append(True) # or add booleans\n",
    "\n",
    "print(my_friend_list)\n",
    "my_friend_list.append(my_old_friends) # it will be added as a one element\n",
    "print(my_friend_list)"
   ]
  },
  {
   "cell_type": "markdown",
   "metadata": {},
   "source": [
    "### 2- extend()\n",
    "**it adds a list to another list**"
   ]
  },
  {
   "cell_type": "code",
   "execution_count": 23,
   "metadata": {},
   "outputs": [
    {
     "name": "stdout",
     "output_type": "stream",
     "text": [
      "[1, 2, 3, 4, 'A', 'B', 'B', 'D', 'A', 'D']\n"
     ]
    }
   ],
   "source": [
    "# example\n",
    "\n",
    "a = [1, 2, 3, 4]\n",
    "b = [\"A\", \"B\", \"B\", \"D\"]\n",
    "c = [\"A\", \"D\"]\n",
    "\n",
    "a.extend(b)\n",
    "a.extend(c)\n",
    "print(a)"
   ]
  },
  {
   "cell_type": "markdown",
   "metadata": {},
   "source": [
    "### 3- remove()\n",
    "\n",
    "-- remove the first given element "
   ]
  },
  {
   "cell_type": "code",
   "execution_count": 25,
   "metadata": {},
   "outputs": [
    {
     "name": "stdout",
     "output_type": "stream",
     "text": [
      "[1, 2, '5', True, 'mohammed']\n"
     ]
    }
   ],
   "source": [
    "a = [1, 2, \"mohammed\", \"5\", True, \"mohammed\"]\n",
    "\n",
    "a.remove(\"mohammed\")   # remove the first incidence of mohammed\n",
    "\n",
    "print(a)"
   ]
  },
  {
   "cell_type": "markdown",
   "metadata": {},
   "source": [
    "### 4- sort()\n",
    "-- sort the numbers in ascending way\n",
    "\n",
    "\n",
    "-- sort support numbers only or string only but not mixed list"
   ]
  },
  {
   "cell_type": "code",
   "execution_count": 31,
   "metadata": {},
   "outputs": [
    {
     "name": "stdout",
     "output_type": "stream",
     "text": [
      "[-10, 1, 5, 6]\n",
      "[6, 5, 1, -10]\n"
     ]
    }
   ],
   "source": [
    "x = [5, 6, 1, -10]\n",
    "x.sort()\n",
    "# sort has option reverse and by default is false\n",
    "print(x)   # sorted \n",
    "\n",
    "x.sort(reverse=True)   # sorting in descending way\n",
    "print(x)"
   ]
  },
  {
   "cell_type": "markdown",
   "metadata": {},
   "source": [
    "### 5- reverse\n",
    "\n",
    "reverse the list only"
   ]
  },
  {
   "cell_type": "code",
   "execution_count": 33,
   "metadata": {},
   "outputs": [
    {
     "name": "stdout",
     "output_type": "stream",
     "text": [
      "['osama', 70, 50, 100, 'ahmed']\n"
     ]
    }
   ],
   "source": [
    "xy = [\"ahmed\", 100, 50, 70, \"osama\"]\n",
    "\n",
    "xy.reverse()\n",
    "\n",
    "print(xy)"
   ]
  },
  {
   "cell_type": "markdown",
   "metadata": {},
   "source": [
    "## 6- clear()\n",
    "\n",
    "-- remove all items from list"
   ]
  },
  {
   "cell_type": "code",
   "execution_count": 35,
   "metadata": {},
   "outputs": [
    {
     "name": "stdout",
     "output_type": "stream",
     "text": [
      "[]\n"
     ]
    }
   ],
   "source": [
    "# example \n",
    "\n",
    "a = [1, 2, 3, 4]\n",
    "a.clear()    # clear all items from list\n",
    "print(a)"
   ]
  },
  {
   "cell_type": "markdown",
   "metadata": {},
   "source": [
    "## 7- copy()"
   ]
  },
  {
   "cell_type": "code",
   "execution_count": 39,
   "metadata": {},
   "outputs": [
    {
     "name": "stdout",
     "output_type": "stream",
     "text": [
      "[5, 6, 7, 8, 9]\n",
      "[5, 6, 7, 8, 9]\n",
      "[5, 6, 7, 8, 9, 10]\n",
      "[5, 6, 7, 8, 9]\n"
     ]
    }
   ],
   "source": [
    "b = [5, 6, 7, 8, 9]\n",
    "c = b.copy()   # return a shallow copy\n",
    "\n",
    "print(b)   # main list\n",
    "print(c)   # copied list\n",
    "\n",
    "b.append(10)\n",
    "print(b)  # main list\n",
    "print(c)  # copied list\n"
   ]
  },
  {
   "cell_type": "markdown",
   "metadata": {},
   "source": [
    "### 8- count()"
   ]
  },
  {
   "cell_type": "code",
   "execution_count": 41,
   "metadata": {},
   "outputs": [
    {
     "name": "stdout",
     "output_type": "stream",
     "text": [
      "4\n"
     ]
    }
   ],
   "source": [
    "list_ = [1, 2, 6, 1, 1, 1]\n",
    "\n",
    "\n",
    "print(list_.count(1))"
   ]
  },
  {
   "cell_type": "markdown",
   "metadata": {},
   "source": [
    "### 9- index()"
   ]
  },
  {
   "cell_type": "code",
   "execution_count": 42,
   "metadata": {},
   "outputs": [
    {
     "name": "stdout",
     "output_type": "stream",
     "text": [
      "2\n"
     ]
    }
   ],
   "source": [
    "names = [\"mohamed\", \"hamed\", \"osama\"]\n",
    "print(names.index(\"osama\"))"
   ]
  },
  {
   "cell_type": "markdown",
   "metadata": {},
   "source": [
    "### 10- insert()\n",
    "\n",
    "list.insert(index,object)  # remember all data in python object"
   ]
  },
  {
   "cell_type": "code",
   "execution_count": 44,
   "metadata": {},
   "outputs": [
    {
     "name": "stdout",
     "output_type": "stream",
     "text": [
      "[1, 555, 23, 5]\n"
     ]
    }
   ],
   "source": [
    "_list = [1,23,5]\n",
    "_list.insert(1,555) # you gave the index which the new item will be \n",
    "                                    # inserted before\n",
    "print(_list)"
   ]
  },
  {
   "cell_type": "markdown",
   "metadata": {},
   "source": [
    "### 11 - pop()     ==> remove and return the given index"
   ]
  },
  {
   "cell_type": "code",
   "execution_count": 47,
   "metadata": {},
   "outputs": [
    {
     "name": "stdout",
     "output_type": "stream",
     "text": [
      "100\n"
     ]
    }
   ],
   "source": [
    "_my_list = [1, 1, 100, 6, 8]\n",
    "\n",
    "print(_my_list.pop(2))"
   ]
  },
  {
   "cell_type": "code",
   "execution_count": null,
   "metadata": {},
   "outputs": [],
   "source": []
  }
 ],
 "metadata": {
  "kernelspec": {
   "display_name": "Python 3",
   "language": "python",
   "name": "python3"
  },
  "language_info": {
   "codemirror_mode": {
    "name": "ipython",
    "version": 3
   },
   "file_extension": ".py",
   "mimetype": "text/x-python",
   "name": "python",
   "nbconvert_exporter": "python",
   "pygments_lexer": "ipython3",
   "version": "3.12.0"
  }
 },
 "nbformat": 4,
 "nbformat_minor": 2
}
