{
 "cells": [
  {
   "cell_type": "markdown",
   "metadata": {},
   "source": [
    "# escape sequence characters\n",
    "* \\b ==> backspace\n",
    "* \\ newline + \\ ==> skip new line\n",
    "* \\\\\\ ==> to print backslash\n",
    "* \\' ==> backslash to escape single or double quotes\n",
    "* \\\" ==> backslash to escape double quotes\n",
    "* \\n ==> line feed character\n",
    "* \\r ==> carriage \n",
    "* \\t ==> horizontal tab\n",
    "* \\xhh ==> character hex value "
   ]
  },
  {
   "cell_type": "code",
   "execution_count": 1,
   "metadata": {},
   "outputs": [
    {
     "name": "stdout",
     "output_type": "stream",
     "text": [
      "hellworld\n"
     ]
    }
   ],
   "source": [
    "print(\"hello\\bworld\") # will remove o"
   ]
  },
  {
   "cell_type": "code",
   "execution_count": 2,
   "metadata": {},
   "outputs": [
    {
     "name": "stdout",
     "output_type": "stream",
     "text": [
      "hello\n",
      "world\n"
     ]
    }
   ],
   "source": [
    "print(\"hello\\nworld\") # print world in separate line"
   ]
  },
  {
   "cell_type": "code",
   "execution_count": 3,
   "metadata": {},
   "outputs": [
    {
     "name": "stdout",
     "output_type": "stream",
     "text": [
      "hello      world      new\n"
     ]
    }
   ],
   "source": [
    "#backslash to skip newline \n",
    "print(\"hello\\\n",
    "      world\\\n",
    "      new\")"
   ]
  },
  {
   "cell_type": "code",
   "execution_count": 4,
   "metadata": {},
   "outputs": [
    {
     "name": "stdout",
     "output_type": "stream",
     "text": [
      "this is 'quote here'\n",
      "this is \"quote here\" \n"
     ]
    }
   ],
   "source": [
    "print('this is \\'quote here\\'')\n",
    "print(\"this is \\\"quote here\\\" \")"
   ]
  },
  {
   "cell_type": "code",
   "execution_count": 7,
   "metadata": {},
   "outputs": [
    {
     "name": "stdout",
     "output_type": "stream",
     "text": [
      "world world\n",
      "world \n"
     ]
    }
   ],
   "source": [
    "print(\"hello world\\rworld\")  # replace the first letters or numbers with \n",
    "                            # the number of letters in the word after \\r\n",
    "print(\"hello \\rworld\")  "
   ]
  },
  {
   "cell_type": "code",
   "execution_count": 8,
   "metadata": {},
   "outputs": [
    {
     "name": "stdout",
     "output_type": "stream",
     "text": [
      "horizontal\ttab\n"
     ]
    }
   ],
   "source": [
    "print(\"horizontal\\ttab\")"
   ]
  },
  {
   "cell_type": "code",
   "execution_count": 10,
   "metadata": {},
   "outputs": [
    {
     "name": "stdout",
     "output_type": "stream",
     "text": [
      "Os\n"
     ]
    }
   ],
   "source": [
    "print(\"\\x4f\\x73\")"
   ]
  },
  {
   "cell_type": "code",
   "execution_count": null,
   "metadata": {},
   "outputs": [],
   "source": [
    "\n",
    "\n"
   ]
  },
  {
   "cell_type": "code",
   "execution_count": null,
   "metadata": {},
   "outputs": [],
   "source": []
  }
 ],
 "metadata": {
  "kernelspec": {
   "display_name": "Python 3",
   "language": "python",
   "name": "python3"
  },
  "language_info": {
   "codemirror_mode": {
    "name": "ipython",
    "version": 3
   },
   "file_extension": ".py",
   "mimetype": "text/x-python",
   "name": "python",
   "nbconvert_exporter": "python",
   "pygments_lexer": "ipython3",
   "version": "3.12.0"
  }
 },
 "nbformat": 4,
 "nbformat_minor": 2
}
