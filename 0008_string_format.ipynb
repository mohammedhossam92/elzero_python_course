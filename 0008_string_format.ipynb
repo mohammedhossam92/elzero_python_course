{
 "cells": [
  {
   "cell_type": "markdown",
   "metadata": {},
   "source": [
    "# format"
   ]
  },
  {
   "cell_type": "markdown",
   "metadata": {},
   "source": [
    "## old way \n",
    "* using format specifier like in C lang "
   ]
  },
  {
   "cell_type": "markdown",
   "metadata": {},
   "source": [
    "**print(\"string to be printed %s %d %f\" % (fist_var, second_var, third_var))**"
   ]
  },
  {
   "cell_type": "code",
   "execution_count": 3,
   "metadata": {},
   "outputs": [
    {
     "name": "stdout",
     "output_type": "stream",
     "text": [
      "my name is :mohammed\n"
     ]
    },
    {
     "ename": "TypeError",
     "evalue": "can only concatenate str (not \"int\") to str",
     "output_type": "error",
     "traceback": [
      "\u001b[1;31m---------------------------------------------------------------------------\u001b[0m",
      "\u001b[1;31mTypeError\u001b[0m                                 Traceback (most recent call last)",
      "\u001b[1;32md:\\1-self learning\\2- programming courses\\2-python\\notes_on_learning_python\\elzero course\\0008_string_format.ipynb Cell 4\u001b[0m line \u001b[0;36m8\n\u001b[0;32m      <a href='vscode-notebook-cell:/d%3A/1-self%20learning/2-%20programming%20courses/2-python/notes_on_learning_python/elzero%20course/0008_string_format.ipynb#W4sZmlsZQ%3D%3D?line=4'>5</a>\u001b[0m birth_year \u001b[39m=\u001b[39m \u001b[39m1992\u001b[39m\n\u001b[0;32m      <a href='vscode-notebook-cell:/d%3A/1-self%20learning/2-%20programming%20courses/2-python/notes_on_learning_python/elzero%20course/0008_string_format.ipynb#W4sZmlsZQ%3D%3D?line=6'>7</a>\u001b[0m \u001b[39mprint\u001b[39m(\u001b[39m\"\u001b[39m\u001b[39mmy name is :\u001b[39m\u001b[39m\"\u001b[39m \u001b[39m+\u001b[39m name)\n\u001b[1;32m----> <a href='vscode-notebook-cell:/d%3A/1-self%20learning/2-%20programming%20courses/2-python/notes_on_learning_python/elzero%20course/0008_string_format.ipynb#W4sZmlsZQ%3D%3D?line=7'>8</a>\u001b[0m \u001b[39mprint\u001b[39m(\u001b[39m\"\u001b[39;49m\u001b[39mmy name is :\u001b[39;49m\u001b[39m\"\u001b[39;49m \u001b[39m+\u001b[39;49m name \u001b[39m+\u001b[39;49m \u001b[39m\"\u001b[39;49m\u001b[39m and my age is \u001b[39;49m\u001b[39m\"\u001b[39;49m \u001b[39m+\u001b[39;49m age) \u001b[39m# error \u001b[39;00m\n\u001b[0;32m      <a href='vscode-notebook-cell:/d%3A/1-self%20learning/2-%20programming%20courses/2-python/notes_on_learning_python/elzero%20course/0008_string_format.ipynb#W4sZmlsZQ%3D%3D?line=8'>9</a>\u001b[0m                                                     \u001b[39m# because we can't concatenate int to string\u001b[39;00m\n",
      "\u001b[1;31mTypeError\u001b[0m: can only concatenate str (not \"int\") to str"
     ]
    }
   ],
   "source": [
    "#example\n",
    "\n",
    "name = \"mohammed\"\n",
    "age = 32\n",
    "birth_year = 1992\n",
    "\n",
    "print(\"my name is :\" + name)\n",
    "print(\"my name is :\" + name + \" and my age is \" + age) # error \n",
    "                                # because we can't concatenate int to string\n"
   ]
  },
  {
   "cell_type": "code",
   "execution_count": 9,
   "metadata": {},
   "outputs": [
    {
     "name": "stdout",
     "output_type": "stream",
     "text": [
      "my name is mohammed\n",
      "my name is mohammed and my age is 32 and birth year is 1992\n"
     ]
    }
   ],
   "source": [
    "\n",
    "name = \"mohammed\"\n",
    "age = 32\n",
    "birth_year = 1992\n",
    "\n",
    "print(\"my name is %s\" % name)\n",
    "print(\"my name is %s and my age is %d and birth year is %d\"\n",
    "       % (name, age, birth_year))"
   ]
  },
  {
   "cell_type": "code",
   "execution_count": 10,
   "metadata": {},
   "outputs": [],
   "source": [
    "#  %s ==> string\n",
    "#  %d ==> integer\n",
    "#  %f ==> float"
   ]
  },
  {
   "cell_type": "markdown",
   "metadata": {},
   "source": [
    "* control floating point"
   ]
  },
  {
   "cell_type": "code",
   "execution_count": 13,
   "metadata": {},
   "outputs": [
    {
     "name": "stdout",
     "output_type": "stream",
     "text": [
      "his name is ahmed and his degree is 99.96\n"
     ]
    }
   ],
   "source": [
    "name = \"ahmed\"\n",
    "degree = 99.956546\n",
    "\n",
    "print(\"his name is %s and his degree is %.2f\" %(name, degree)) \n",
    "# the number after point is the number of numbers after floating point to print"
   ]
  },
  {
   "cell_type": "markdown",
   "metadata": {},
   "source": [
    "* Truncate string"
   ]
  },
  {
   "cell_type": "code",
   "execution_count": 14,
   "metadata": {},
   "outputs": [
    {
     "name": "stdout",
     "output_type": "stream",
     "text": [
      "short message is  hello\n"
     ]
    }
   ],
   "source": [
    "lone_string = \" hello everybody all around the world and hello mr osama\"\n",
    "\n",
    "print(\"short message is %.6s\" % lone_string) # print number of letters after \n",
    "                                            # the floating point"
   ]
  },
  {
   "cell_type": "markdown",
   "metadata": {},
   "source": [
    "# formatting new_way"
   ]
  },
  {
   "cell_type": "markdown",
   "metadata": {},
   "source": [
    "* **.format() method**"
   ]
  },
  {
   "cell_type": "code",
   "execution_count": 20,
   "metadata": {},
   "outputs": [
    {
     "name": "stdout",
     "output_type": "stream",
     "text": [
      "my name is mohammed\n",
      "my name is mohammed\n",
      "my name is mohammed and my age is 32 and birth year is 1992\n",
      "my name is mohammed and my age is 32 and birth year is 1992\n"
     ]
    }
   ],
   "source": [
    "name = \"mohammed\"\n",
    "age = 32\n",
    "birth_year = 1992\n",
    "\n",
    "print(\"my name is %s\" % name)  # old way\n",
    "print(\"my name is {}\".format(name))   # new_way\n",
    "\n",
    "print(\"my name is %s and my age is %d and birth year is %d\"\n",
    "       % (name, age, birth_year))    # old_WAy\n",
    "print(\"my name is {} and my age is {} and birth year is {}\"\n",
    "       .format(name, age, birth_year))"
   ]
  },
  {
   "cell_type": "code",
   "execution_count": 22,
   "metadata": {},
   "outputs": [
    {
     "name": "stdout",
     "output_type": "stream",
     "text": [
      "his name is ahmed and his degree is 99.96\n",
      "his name is ahmed and his degree is 99.96\n"
     ]
    }
   ],
   "source": [
    "name = \"ahmed\"\n",
    "degree = 99.956546\n",
    "\n",
    "print(\"his name is %s and his degree is %.2f\" %(name, degree))  # old way\n",
    "print(\"his name is {:s} and his degree is {:.2f}\".format(name, degree))#new way\n"
   ]
  },
  {
   "cell_type": "code",
   "execution_count": 24,
   "metadata": {},
   "outputs": [
    {
     "name": "stdout",
     "output_type": "stream",
     "text": [
      "short message is  hello\n"
     ]
    }
   ],
   "source": [
    "# truncate in new way\n",
    "\n",
    "lone_string = \" hello everybody all around the world and hello mr\"\n",
    "\n",
    "print(\"short message is {:.6s}\".format(lone_string)) # print number of letters \n",
    "                                                    # after the floating point"
   ]
  },
  {
   "cell_type": "code",
   "execution_count": 32,
   "metadata": {},
   "outputs": [
    {
     "name": "stdout",
     "output_type": "stream",
     "text": [
      "my money is : 52562158545\n",
      "my money is : 52_562_158_545\n",
      "my money is : 52_562_158_545\n",
      "my money is : 52,562,158,545\n"
     ]
    }
   ],
   "source": [
    "# formatting numbers like money\n",
    "# \n",
    "my_money = 52562158545\n",
    "\n",
    "print(\"my money is : {}\".format(my_money))\n",
    "print(\"my money is : {:_}\".format(my_money))\n",
    "print(\"my money is : {:_d}\".format(my_money))\n",
    "print(\"my money is : {:,d}\".format(my_money))"
   ]
  },
  {
   "cell_type": "code",
   "execution_count": 36,
   "metadata": {},
   "outputs": [
    {
     "name": "stdout",
     "output_type": "stream",
     "text": [
      "hello one two three\n",
      "hello three two one\n",
      "hello two three one\n"
     ]
    }
   ],
   "source": [
    "# rearrange items using their index in .format() ==> .format(index_1,index_2)\n",
    "\n",
    "a, b, c = \"one\", \"two\", \"three\"\n",
    "print(\"hello {} {} {}\".format(a,b,c))\n",
    "print(\"hello {2} {1} {0}\".format(a,b,c))\n",
    "print(\"hello {1} {2} {0}\".format(a,b,c))"
   ]
  },
  {
   "cell_type": "code",
   "execution_count": 42,
   "metadata": {},
   "outputs": [
    {
     "name": "stdout",
     "output_type": "stream",
     "text": [
      "numbers are 10 20 30\n",
      "numbers are 30 20 10\n",
      "numbers are 20 30 10.00\n"
     ]
    }
   ],
   "source": [
    "# using arranging for numbers\n",
    "\n",
    "x, y, z = 10, 20, 30\n",
    "\n",
    "print(\"numbers are {} {} {}\".format(x,y,z))\n",
    "print(\"numbers are {2} {1} {0}\".format(x,y,z))\n",
    "print(\"numbers are {1:d} {2:d} {0:.2f}\".format(x,y,z))"
   ]
  },
  {
   "cell_type": "markdown",
   "metadata": {},
   "source": [
    "# format in version 3.6+\n"
   ]
  },
  {
   "cell_type": "code",
   "execution_count": 45,
   "metadata": {},
   "outputs": [
    {
     "name": "stdout",
     "output_type": "stream",
     "text": [
      "my name is mohammed and my_age is 32\n"
     ]
    }
   ],
   "source": [
    "# using f-string format\n",
    "my_name = \"mohammed\"\n",
    "my_age = 32\n",
    "\n",
    "print(f\"my name is {my_name} and my_age is {my_age}\")"
   ]
  }
 ],
 "metadata": {
  "kernelspec": {
   "display_name": "Python 3",
   "language": "python",
   "name": "python3"
  },
  "language_info": {
   "codemirror_mode": {
    "name": "ipython",
    "version": 3
   },
   "file_extension": ".py",
   "mimetype": "text/x-python",
   "name": "python",
   "nbconvert_exporter": "python",
   "pygments_lexer": "ipython3",
   "version": "3.12.0"
  }
 },
 "nbformat": 4,
 "nbformat_minor": 2
}
