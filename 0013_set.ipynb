{
 "cells": [
  {
   "cell_type": "markdown",
   "metadata": {},
   "source": [
    "# set"
   ]
  },
  {
   "cell_type": "markdown",
   "metadata": {},
   "source": [
    "* 1- set items are enclosed in curly braces\n",
    "* 2- set items not ordered and not indexed\n",
    "* 3- set indexing and slicing can not be done\n",
    "* 4- set has only immutable data type(numbers, strings, Tuples)\n",
    "   \n",
    "   -- Lists and Dict Are not\n",
    "* 5- set items are unique\n"
   ]
  },
  {
   "cell_type": "code",
   "execution_count": 46,
   "metadata": {},
   "outputs": [
    {
     "name": "stdout",
     "output_type": "stream",
     "text": [
      "{'ahmed', 100, 'mona', 200}\n"
     ]
    }
   ],
   "source": [
    "my_set_one = {\"ahmed\", \"mona\", 100, 200}\n",
    "print(my_set_one)"
   ]
  },
  {
   "cell_type": "code",
   "execution_count": 2,
   "metadata": {},
   "outputs": [
    {
     "name": "stdout",
     "output_type": "stream",
     "text": [
      "{1, 2, 3, 5, 6}\n"
     ]
    }
   ],
   "source": [
    "# example for set unique\n",
    "\n",
    "my_set_two = {1, 2, 3, 1, 5, 3, 6, 3}\n",
    "print(my_set_two)"
   ]
  },
  {
   "cell_type": "markdown",
   "metadata": {},
   "source": [
    "## SET methods"
   ]
  },
  {
   "cell_type": "markdown",
   "metadata": {},
   "source": [
    "* 1- .clear()"
   ]
  },
  {
   "cell_type": "code",
   "execution_count": 7,
   "metadata": {},
   "outputs": [
    {
     "name": "stdout",
     "output_type": "stream",
     "text": [
      "set()\n"
     ]
    }
   ],
   "source": [
    "#example\n",
    "\n",
    "my_set_three = {1, 2, 3, 1, 5, 3, 6, 3}\n",
    "my_set_three.clear()  ## ==> clear all elements in set\n",
    "print(my_set_three)"
   ]
  },
  {
   "cell_type": "markdown",
   "metadata": {},
   "source": [
    "* 2- .union()"
   ]
  },
  {
   "cell_type": "code",
   "execution_count": 140,
   "metadata": {},
   "outputs": [
    {
     "name": "stdout",
     "output_type": "stream",
     "text": [
      "{1, 2, 3, 4, 5, 6, 7}\n",
      "{1, 2, 3, 4, 5, 6, 7, 8, 9, 10}\n",
      "{1, 2, 3, 4, 5, 6, 7, 8, 9, 10}\n",
      "{1, 2, 3, 4}\n"
     ]
    }
   ],
   "source": [
    "#example\n",
    "my_set_three = {1, 2, 3, 4}\n",
    "my_set_four = {5, 6, 7}\n",
    "my_set_five = {8, 9, 10}\n",
    "print(my_set_three.union(my_set_four)) # .union()\n",
    "print(my_set_three.union(my_set_four, my_set_five)) # .union()\n",
    "print(my_set_three | my_set_four | my_set_five)  # another way\n",
    "print(my_set_three)"
   ]
  },
  {
   "cell_type": "markdown",
   "metadata": {},
   "source": [
    "* 3- .add()"
   ]
  },
  {
   "cell_type": "code",
   "execution_count": 23,
   "metadata": {},
   "outputs": [
    {
     "name": "stdout",
     "output_type": "stream",
     "text": [
      "{1, 'b', 6, 7, 'a'}\n"
     ]
    }
   ],
   "source": [
    "a = {1, \"a\", \"b\"}\n",
    "a.add(6)   # take only one argument\n",
    "a.add(7)\n",
    "print(a)"
   ]
  },
  {
   "cell_type": "markdown",
   "metadata": {},
   "source": [
    "* 4- .copy()"
   ]
  },
  {
   "cell_type": "code",
   "execution_count": 27,
   "metadata": {},
   "outputs": [
    {
     "name": "stdout",
     "output_type": "stream",
     "text": [
      "{1, 2, 3, 4, 5, 6, 7}\n"
     ]
    }
   ],
   "source": [
    "v = {1, 2, 3, 4, 5, 6, 7}\n",
    "x = v.copy()    # shallow copy\n",
    "print(x)"
   ]
  },
  {
   "cell_type": "markdown",
   "metadata": {},
   "source": [
    "* 5- .remove()"
   ]
  },
  {
   "cell_type": "code",
   "execution_count": 29,
   "metadata": {},
   "outputs": [
    {
     "name": "stdout",
     "output_type": "stream",
     "text": [
      "{1, 2, 3, 4, 5, 6}\n"
     ]
    },
    {
     "ename": "KeyError",
     "evalue": "8",
     "output_type": "error",
     "traceback": [
      "\u001b[1;31m---------------------------------------------------------------------------\u001b[0m",
      "\u001b[1;31mKeyError\u001b[0m                                  Traceback (most recent call last)",
      "\u001b[1;32md:\\1-self learning\\2- programming courses\\2-python\\notes_on_learning_python\\elzero course\\0013_set.ipynb Cell 15\u001b[0m line \u001b[0;36m4\n\u001b[0;32m      <a href='vscode-notebook-cell:/d%3A/1-self%20learning/2-%20programming%20courses/2-python/notes_on_learning_python/elzero%20course/0013_set.ipynb#X30sZmlsZQ%3D%3D?line=1'>2</a>\u001b[0m g\u001b[39m.\u001b[39mremove(\u001b[39m7\u001b[39m)\n\u001b[0;32m      <a href='vscode-notebook-cell:/d%3A/1-self%20learning/2-%20programming%20courses/2-python/notes_on_learning_python/elzero%20course/0013_set.ipynb#X30sZmlsZQ%3D%3D?line=2'>3</a>\u001b[0m \u001b[39mprint\u001b[39m(g)\n\u001b[1;32m----> <a href='vscode-notebook-cell:/d%3A/1-self%20learning/2-%20programming%20courses/2-python/notes_on_learning_python/elzero%20course/0013_set.ipynb#X30sZmlsZQ%3D%3D?line=3'>4</a>\u001b[0m g\u001b[39m.\u001b[39;49mremove(\u001b[39m8\u001b[39;49m)\n\u001b[0;32m      <a href='vscode-notebook-cell:/d%3A/1-self%20learning/2-%20programming%20courses/2-python/notes_on_learning_python/elzero%20course/0013_set.ipynb#X30sZmlsZQ%3D%3D?line=4'>5</a>\u001b[0m \u001b[39mprint\u001b[39m(g)\n",
      "\u001b[1;31mKeyError\u001b[0m: 8"
     ]
    }
   ],
   "source": [
    "g = {1, 2, 3, 4, 5, 6, 7}\n",
    "g.remove(7)\n",
    "print(g)\n",
    "g.remove(8) # the element isn't inside the set so remove method raise error\n",
    "print(g)"
   ]
  },
  {
   "cell_type": "markdown",
   "metadata": {},
   "source": [
    "* 6- .discard()   ==> the same like .remove()  but \n",
    "\n",
    "-- if the element is not in the SET it doesn't raise an error"
   ]
  },
  {
   "cell_type": "code",
   "execution_count": 124,
   "metadata": {},
   "outputs": [
    {
     "name": "stdout",
     "output_type": "stream",
     "text": [
      "{1, 2, 3, 4, 5, 6}\n",
      "{1, 2, 3, 4, 5, 6}\n"
     ]
    }
   ],
   "source": [
    "# example\n",
    "\n",
    "m = {1, 2, 3, 4, 5, 6, 7}\n",
    "m.discard(7)\n",
    "print(m)\n",
    "m.discard(8) # the element isn't inside the set however no Errors raised\n",
    "print(m)"
   ]
  },
  {
   "cell_type": "markdown",
   "metadata": {},
   "source": [
    "* 7- .pop()\n",
    " ==> removes a random element from the SET"
   ]
  },
  {
   "cell_type": "code",
   "execution_count": 141,
   "metadata": {},
   "outputs": [
    {
     "data": {
      "text/plain": [
       "False"
      ]
     },
     "execution_count": 141,
     "metadata": {},
     "output_type": "execute_result"
    }
   ],
   "source": [
    "#EXample\n",
    "\n",
    "test = {\"ahmed\", 1, True, False, \"osama\", \"Ebraheem\"}\n",
    "test.pop()    # removed a random element from the SET"
   ]
  },
  {
   "cell_type": "markdown",
   "metadata": {},
   "source": [
    "* 8- .update() ==> the same like .union() except for it update the SET itself\n",
    "\n"
   ]
  },
  {
   "cell_type": "code",
   "execution_count": 144,
   "metadata": {},
   "outputs": [
    {
     "name": "stdout",
     "output_type": "stream",
     "text": [
      "{1, 2, 3, 4, 5, 6, 7}\n",
      "{1, 2, 3, 4, 5, 6, 7, 'hello', 'new', 'set'}\n"
     ]
    }
   ],
   "source": [
    "# example\n",
    "\n",
    "k = {1, 2, 3, 4}\n",
    "l = {1, 5, 6, 7}\n",
    "\n",
    "k.update(l)   # it updates the k SET and remove the occurrence of elements \n",
    "print(k)     \n",
    "k.update([\"hello\", \"set\", \"new\"]) # ==> you can also update with a list\n",
    "print(k)"
   ]
  },
  {
   "cell_type": "markdown",
   "metadata": {},
   "source": [
    "* 9- .difference()       ==> tells which elements present in first Set and not in others"
   ]
  },
  {
   "cell_type": "code",
   "execution_count": 1,
   "metadata": {},
   "outputs": [
    {
     "name": "stdout",
     "output_type": "stream",
     "text": [
      "{1, 2, 3, 4, 5}\n",
      "{3, 5}\n",
      "==========\n",
      "{3, 5}\n"
     ]
    }
   ],
   "source": [
    "a = {1, 2, 3, 4, 5}\n",
    "b = {1, 2, \"osama\", 4, \"Ahmed\"}\n",
    "print(a)\n",
    "print(a.difference(b))    # a - b\n",
    "print(\"=\" * 10)\n",
    "print(a - b)    # a - b\n"
   ]
  },
  {
   "cell_type": "markdown",
   "metadata": {},
   "source": [
    "* 10- difference_update() ==> it get the difference and update the \n",
    "\n",
    "original SET with the new value"
   ]
  },
  {
   "cell_type": "code",
   "execution_count": 3,
   "metadata": {},
   "outputs": [
    {
     "name": "stdout",
     "output_type": "stream",
     "text": [
      "{1, 2, 3, 4, 5}\n",
      "{3, 5}\n"
     ]
    }
   ],
   "source": [
    "xx = {1, 2, 3, 4, 5}\n",
    "yy = {1, 2, \"osama\", 4, \"Ahmed\"}\n",
    "print(xx)\n",
    "xx.difference_update(yy) # a - b and update xx \n",
    "print(xx)\n"
   ]
  },
  {
   "cell_type": "markdown",
   "metadata": {},
   "source": [
    "* 11- .itersection()  ==> elements present in first SET and other SETS"
   ]
  },
  {
   "cell_type": "code",
   "execution_count": 6,
   "metadata": {},
   "outputs": [
    {
     "name": "stdout",
     "output_type": "stream",
     "text": [
      "{1, 2, 3, 4, 5}\n",
      "{1, 2, 4}\n",
      "{1, 2, 3, 4, 5}\n"
     ]
    }
   ],
   "source": [
    "zz = {1, 2, 3, 4, 5}\n",
    "z = {1, 2, \"osama\", 4, \"Ahmed\"}\n",
    "print(zz)\n",
    "print(zz.intersection(z)) # a & b\n",
    "print(zz)"
   ]
  },
  {
   "cell_type": "markdown",
   "metadata": {},
   "source": [
    "* 12- .intersection_update() ==> the same like previous except for\n",
    "\n",
    "it updates the original SET"
   ]
  },
  {
   "cell_type": "code",
   "execution_count": 10,
   "metadata": {},
   "outputs": [
    {
     "name": "stdout",
     "output_type": "stream",
     "text": [
      "{1, 2, 3, 4, 5, 6, 7, 8, 10}\n",
      "{1, 2, 4}\n"
     ]
    }
   ],
   "source": [
    "yyy = {1, 2, 3, 4, 5, 6, 7, 8, 10}\n",
    "Y = {1, 2, \"osama\", 4, \"Ahmed\"}\n",
    "print(yyy)\n",
    "yyy.intersection_update(Y)  # get the similar elements \n",
    "                           # and update the original SET\n",
    "print(yyy)"
   ]
  },
  {
   "cell_type": "markdown",
   "metadata": {},
   "source": [
    "* 13- .symmetric_difference() ==> elements that doesn't exist in both at the same time in other words element present in one SET but not in the other SET"
   ]
  },
  {
   "cell_type": "code",
   "execution_count": 12,
   "metadata": {},
   "outputs": [
    {
     "name": "stdout",
     "output_type": "stream",
     "text": [
      "{1, 2, 4, 5, 6, 7, 8, 9, 10}\n",
      "{3, 6, 9}\n",
      "{1, 2, 4, 5, 6, 7, 8, 9, 10}\n"
     ]
    }
   ],
   "source": [
    "i = {1, 2, 4, 5, 6, 7, 8, 9, 10}\n",
    "q = {1,2, 7, 4, 3, 5, 8, 7, 10}\n",
    "\n",
    "print(i)\n",
    "print(i.symmetric_difference(q))    # i ^ q\n",
    "print(i)"
   ]
  },
  {
   "cell_type": "markdown",
   "metadata": {},
   "source": [
    "* 14- .symmertic_update() ==> the same like previous except for it \n",
    "\n",
    "update the original SET with the new Value/s\n"
   ]
  },
  {
   "cell_type": "code",
   "execution_count": 17,
   "metadata": {},
   "outputs": [
    {
     "name": "stdout",
     "output_type": "stream",
     "text": [
      "{1, 2, 4, 5, 6, 7, 8, 9, 10}\n",
      "{3, 6, 9}\n"
     ]
    }
   ],
   "source": [
    "k = {1, 2, 4, 5, 6, 7, 8, 9, 10}\n",
    "L = {1,2, 7, 4, 3, 5, 8, 7, 10}\n",
    "\n",
    "print(k)\n",
    "k.symmetric_difference_update(L)    # i ^ q\n",
    "print(k)"
   ]
  },
  {
   "cell_type": "markdown",
   "metadata": {},
   "source": [
    "* 15- .issuperset() ==> checks if the whole elements in the \n",
    "\n",
    "second set present in the original SeT"
   ]
  },
  {
   "cell_type": "code",
   "execution_count": 21,
   "metadata": {},
   "outputs": [
    {
     "name": "stdout",
     "output_type": "stream",
     "text": [
      "True\n",
      "False\n"
     ]
    }
   ],
   "source": [
    "ii = {1, 2, 3, 4}\n",
    "xy = {1, 2, 3}\n",
    "yx = {1, 2, 3, 4, 5}\n",
    "\n",
    "print(ii.issuperset(xy))\n",
    "print(ii.issuperset(yx))"
   ]
  },
  {
   "cell_type": "markdown",
   "metadata": {},
   "source": [
    "* 16- .issubset() ==> check if the whole elements in original set \n",
    "\n",
    "are in the given SET"
   ]
  },
  {
   "cell_type": "code",
   "execution_count": 24,
   "metadata": {},
   "outputs": [
    {
     "name": "stdout",
     "output_type": "stream",
     "text": [
      "False\n",
      "True\n"
     ]
    }
   ],
   "source": [
    "b = {1, 2, 3, 4}\n",
    "n = {1, 2, 3}\n",
    "m = {1, 2, 3, 4, 5}\n",
    "\n",
    "print(b.issubset(n))\n",
    "print(b.issubset(m))"
   ]
  },
  {
   "cell_type": "markdown",
   "metadata": {},
   "source": [
    "* 17- .isdisjoint() ==> in other word |> does both have similarities in numbers\n"
   ]
  },
  {
   "cell_type": "code",
   "execution_count": 25,
   "metadata": {},
   "outputs": [
    {
     "name": "stdout",
     "output_type": "stream",
     "text": [
      "False\n",
      "True\n"
     ]
    }
   ],
   "source": [
    "t = {1, 2, 3, 4}\n",
    "u = {1, 2, 3}\n",
    "o = {10, 11, 12, 15}\n",
    "\n",
    "print(t.isdisjoint(u))\n",
    "print(t.isdisjoint(o))"
   ]
  }
 ],
 "metadata": {
  "kernelspec": {
   "display_name": "Python 3",
   "language": "python",
   "name": "python3"
  },
  "language_info": {
   "codemirror_mode": {
    "name": "ipython",
    "version": 3
   },
   "file_extension": ".py",
   "mimetype": "text/x-python",
   "name": "python",
   "nbconvert_exporter": "python",
   "pygments_lexer": "ipython3",
   "version": "3.12.0"
  }
 },
 "nbformat": 4,
 "nbformat_minor": 2
}
