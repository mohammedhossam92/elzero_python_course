{
 "cells": [
  {
   "cell_type": "markdown",
   "metadata": {},
   "source": [
    "#### in programming you need to know if the output of your \n",
    "code is TRUE of FALSE "
   ]
  },
  {
   "cell_type": "code",
   "execution_count": 2,
   "metadata": {},
   "outputs": [
    {
     "name": "stdout",
     "output_type": "stream",
     "text": [
      "False\n",
      "True\n"
     ]
    }
   ],
   "source": [
    "# example\n",
    "name = \"\" # string with no space\n",
    "print(name.isspace())\n",
    "name = \" \" # string with space\n",
    "print(name.isspace())"
   ]
  },
  {
   "cell_type": "markdown",
   "metadata": {},
   "source": [
    "**we have a built in function called bool()**"
   ]
  },
  {
   "cell_type": "code",
   "execution_count": 4,
   "metadata": {},
   "outputs": [
    {
     "name": "stdout",
     "output_type": "stream",
     "text": [
      "True\n",
      "True\n",
      "True\n",
      "True\n"
     ]
    }
   ],
   "source": [
    "# examples on function bool with result True\n",
    "\n",
    "print(bool(\"ahmed\"))\n",
    "print(bool(100))\n",
    "print(bool(100.25))\n",
    "print(bool([1, 2, 3, 4, 5]))"
   ]
  },
  {
   "cell_type": "code",
   "execution_count": 9,
   "metadata": {},
   "outputs": [
    {
     "name": "stdout",
     "output_type": "stream",
     "text": [
      "False\n",
      "False\n",
      "False\n",
      "False\n"
     ]
    }
   ],
   "source": [
    "# examples on function bool with result False\n",
    "\n",
    "print(bool(0))\n",
    "print(bool(\"\"))\n",
    "print(bool([]))\n",
    "print(bool(None))"
   ]
  },
  {
   "cell_type": "code",
   "execution_count": 8,
   "metadata": {},
   "outputs": [
    {
     "name": "stdout",
     "output_type": "stream",
     "text": [
      "False\n",
      "True\n",
      "####################\n",
      "True\n",
      "####################\n",
      "False\n",
      "True\n"
     ]
    }
   ],
   "source": [
    "name = \"ahmed\"\n",
    "age = 18\n",
    "country = \"Egypt\"\n",
    "\n",
    "print(name == \"ahmed\" and age == 17)\n",
    "print(name == \"ahmed\" and age == 18)\n",
    "\n",
    "print(\"#\" * 20)\n",
    "\n",
    "print(name == \"ahmed\" or age == 17)\n",
    "\n",
    "print(\"#\" * 20)\n",
    "\n",
    "print(not name == \"ahmed\")\n",
    "print(not age == 15)"
   ]
  }
 ],
 "metadata": {
  "kernelspec": {
   "display_name": "Python 3",
   "language": "python",
   "name": "python3"
  },
  "language_info": {
   "codemirror_mode": {
    "name": "ipython",
    "version": 3
   },
   "file_extension": ".py",
   "mimetype": "text/x-python",
   "name": "python",
   "nbconvert_exporter": "python",
   "pygments_lexer": "ipython3",
   "version": "3.12.0"
  }
 },
 "nbformat": 4,
 "nbformat_minor": 2
}
