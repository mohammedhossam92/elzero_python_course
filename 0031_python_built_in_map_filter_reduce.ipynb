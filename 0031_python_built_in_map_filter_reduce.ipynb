{
 "cells": [
  {
   "cell_type": "markdown",
   "metadata": {},
   "source": [
    "## 13 -map function"
   ]
  },
  {
   "cell_type": "markdown",
   "metadata": {},
   "source": [
    "* 1- it takes (function, iterator)\n",
    "* 2- called map because it maps the function on every element\n",
    "* 3- the function can be predefined function or lambda function"
   ]
  },
  {
   "cell_type": "markdown",
   "metadata": {},
   "source": [
    "### using map with predefined function"
   ]
  },
  {
   "cell_type": "code",
   "execution_count": 2,
   "metadata": {
    "ExecuteTime": {
     "end_time": "2024-01-08T06:57:49.171095900Z",
     "start_time": "2024-01-08T06:57:49.161662800Z"
    },
    "collapsed": false
   },
   "outputs": [
    {
     "name": "stdout",
     "output_type": "stream",
     "text": [
      "<map object at 0x000002B184DD61A0>\n",
      "- ahmed -\n",
      "- koko -\n",
      "- mona -\n",
      "- eman -\n",
      "- aicha -\n"
     ]
    }
   ],
   "source": [
    "names = [\"ahmed\", \"koko\", \"mona\", \"eman\", \"aicha\"]\n",
    "\n",
    "def format_name(name):\n",
    "    return f\"- {name} -\"\n",
    "\n",
    "my_formatted_text = map(format_name, names)\n",
    "\n",
    "print(my_formatted_text) # it will give a map object with memory address\n",
    "\n",
    "for name in my_formatted_text:\n",
    "    print(name)"
   ]
  },
  {
   "cell_type": "code",
   "execution_count": 6,
   "metadata": {
    "collapsed": false
   },
   "outputs": [
    {
     "name": "stdout",
     "output_type": "stream",
     "text": [
      "- Ahmed -\n",
      "- Koko -\n",
      "- Mona -\n",
      "- Eman -\n",
      "- Aicha -\n"
     ]
    }
   ],
   "source": [
    "# another way without storing the result in a variable\n",
    "names = [\"ahmed\", \"koko\", \"mona\", \"eman\", \"aicha\"]\n",
    "\n",
    "def format_name(name):\n",
    "    return f\"- {name.strip().capitalize()} -\"\n",
    "\n",
    "for name in map(format_name, names):\n",
    "    print(name)\n"
   ]
  },
  {
   "cell_type": "markdown",
   "metadata": {},
   "source": [
    "### using map with lambda function"
   ]
  },
  {
   "cell_type": "code",
   "execution_count": 1,
   "metadata": {},
   "outputs": [
    {
     "name": "stdout",
     "output_type": "stream",
     "text": [
      "- Ahmed -\n",
      "- Koko -\n",
      "- Mona -\n",
      "- Eman -\n",
      "- Aicha -\n"
     ]
    }
   ],
   "source": [
    "new_names = [\"ahmed\", \"koko\", \"mona\", \"eman\", \"aicha\"]\n",
    "\n",
    "my_new_formatted = map(lambda name : f\"- {name.strip().capitalize()} -\", \n",
    "                       new_names)\n",
    "\n",
    "for name in my_new_formatted:\n",
    "    print(name)\n"
   ]
  },
  {
   "cell_type": "code",
   "execution_count": 3,
   "metadata": {},
   "outputs": [
    {
     "name": "stdout",
     "output_type": "stream",
     "text": [
      "- True -\n",
      "- False -\n",
      "- False -\n",
      "- False -\n",
      "- True -\n"
     ]
    }
   ],
   "source": [
    "new_names = [\"ahmed\", \"koko\", \"mona\", \"eman\", \"aicha\"]\n",
    "\n",
    "my_new_formatted = map(lambda name : f\"- {name.startswith(\"a\")} -\", \n",
    "                       new_names)\n",
    "\n",
    "for name in my_new_formatted:\n",
    "    print(name)"
   ]
  },
  {
   "cell_type": "markdown",
   "metadata": {},
   "source": [
    "# 14- filter function"
   ]
  },
  {
   "cell_type": "markdown",
   "metadata": {},
   "source": [
    "* 1- it takes (function, iterator)\n",
    "* 2- filter runs a function on every element\n",
    "* 3- the function can be predefined or lambda function\n",
    "* 4- filter out all elements where the function return true with them\n",
    "* 5- the function needs to  return boolean value"
   ]
  },
  {
   "cell_type": "code",
   "execution_count": 11,
   "metadata": {},
   "outputs": [
    {
     "name": "stdout",
     "output_type": "stream",
     "text": [
      "17\n",
      "56\n",
      "89\n",
      "12\n",
      "15\n"
     ]
    }
   ],
   "source": [
    "my_numbers = [1, 3, 5, 10, 17, 56, 89, 12, 15]\n",
    "\n",
    "def check_number(num):\n",
    "    if num > 10:\n",
    "        return num\n",
    "    \n",
    "my_result = filter(check_number, my_numbers)\n",
    "\n",
    "for number in my_result:\n",
    "    print(number)\n",
    "\n",
    "# it will return only the values with true outcome"
   ]
  },
  {
   "cell_type": "code",
   "execution_count": 14,
   "metadata": {},
   "outputs": [
    {
     "name": "stdout",
     "output_type": "stream",
     "text": [
      "17\n",
      "56\n",
      "89\n",
      "12\n",
      "15\n"
     ]
    }
   ],
   "source": [
    "my_numbers = [1, 3, 5, 10, 17, 56, 89, 12, 15]\n",
    "\n",
    "def check_number(num):\n",
    "    return num > 10 # if true it will return the number\n",
    "    \n",
    "my_result = filter(check_number, my_numbers)\n",
    "\n",
    "for number in my_result:\n",
    "    print(number)"
   ]
  },
  {
   "cell_type": "code",
   "execution_count": 16,
   "metadata": {},
   "outputs": [
    {
     "name": "stdout",
     "output_type": "stream",
     "text": [
      "omar\n"
     ]
    }
   ],
   "source": [
    "# example with strings\n",
    "\n",
    "my_friends = [\"khaled\", \"omar\", \"ahmed\", \"mona\"]\n",
    "\n",
    "def filter_text(name):\n",
    "    return name.startswith(\"o\")\n",
    "\n",
    "my_data = filter(filter_text, my_friends)\n",
    "\n",
    "for person in my_data:\n",
    "    print(person)"
   ]
  },
  {
   "cell_type": "code",
   "execution_count": 18,
   "metadata": {},
   "outputs": [
    {
     "name": "stdout",
     "output_type": "stream",
     "text": [
      "omar\n"
     ]
    }
   ],
   "source": [
    "# example with lambda function\n",
    "my_names = [\"khaled\", \"omar\", \"ahmed\", \"mona\"]\n",
    "\n",
    "my_returned = filter(lambda name : name.startswith(\"o\"), my_names)\n",
    "\n",
    "for p in my_returned:\n",
    "    print(p)\n"
   ]
  },
  {
   "cell_type": "markdown",
   "metadata": {},
   "source": [
    "# 15- reduce function"
   ]
  },
  {
   "cell_type": "markdown",
   "metadata": {},
   "source": [
    "* 1-reduce like others take a function and iterator\n",
    "* 2- reduce runs the function on the first and second element and gives result\n",
    "* 3- then run the function on result and third element\n",
    "* 4- then runs the function on result and fourth element and so on\n",
    "* 5- till one element is left this is the result of the reduce\n",
    "* 6- the function can be predefined or lambda function"
   ]
  },
  {
   "cell_type": "code",
   "execution_count": 2,
   "metadata": {},
   "outputs": [
    {
     "name": "stdout",
     "output_type": "stream",
     "text": [
      "69\n"
     ]
    }
   ],
   "source": [
    "from functools import reduce\n",
    "def sum_all(num1, num2):\n",
    "    return num1 + num2\n",
    "\n",
    "nums = [1, 8, 10, 20, 30]\n",
    "\n",
    "result = reduce(sum_all, nums)\n",
    "\n",
    "print(result)\n",
    "\n"
   ]
  }
 ],
 "metadata": {
  "kernelspec": {
   "display_name": "Python 3",
   "language": "python",
   "name": "python3"
  },
  "language_info": {
   "codemirror_mode": {
    "name": "ipython",
    "version": 3
   },
   "file_extension": ".py",
   "mimetype": "text/x-python",
   "name": "python",
   "nbconvert_exporter": "python",
   "pygments_lexer": "ipython3",
   "version": "3.12.0"
  }
 },
 "nbformat": 4,
 "nbformat_minor": 2
}
