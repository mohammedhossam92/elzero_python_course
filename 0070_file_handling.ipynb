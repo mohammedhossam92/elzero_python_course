{
 "cells": [
  {
   "cell_type": "markdown",
   "metadata": {},
   "source": [
    "# file handling in python"
   ]
  },
  {
   "cell_type": "markdown",
   "metadata": {},
   "source": [
    "* \"a\" ==> for appending new values, create file if doesn't exist\n",
    "* \"r\" ==> default value and if file not found error return\n",
    "* \"w\" ==> for writing in file, create file if it doesn't exist\n",
    "* \"x\" ==> create file , give error if file exist\n"
   ]
  },
  {
   "cell_type": "code",
   "execution_count": 37,
   "metadata": {},
   "outputs": [],
   "source": [
    "# # to control the path \n",
    "\n",
    "# import os\n",
    "\n",
    "# # print the current working directory\n",
    "# print(os.getcwd())\n",
    "\n",
    "# # directory for the file to be opened\n",
    "\n",
    "# print(os.path.dirname(os.path.abspath(\"__file__\")))\n",
    "\n",
    "# # change directory \n",
    "\n",
    "# os.chdir(os.path.dirname(os.path.abspath(\"__file__\")))\n",
    "\n"
   ]
  },
  {
   "cell_type": "code",
   "execution_count": 3,
   "metadata": {},
   "outputs": [
    {
     "data": {
      "text/plain": [
       "'D:\\\\1-self learning\\\\2- programming courses\\\\2-python\\\\notes_on_learning_python\\\\elzero course\\\\a.txt'"
      ]
     },
     "execution_count": 3,
     "metadata": {},
     "output_type": "execute_result"
    }
   ],
   "source": [
    "# how to open file\n",
    "# create a variable for the file \n",
    "# be default the default value in open is \"r\" ==> read\n",
    "# we can use relative path \"a.txt\" or absolute path like below\n",
    "# to make system deal with string containing escape characters \n",
    "# we use r \"\" before the string to tell the system it is a raw string\n",
    "\n",
    "\n",
    "file = open\n",
    "(r\"D:\\1-self learning\\2- programming courses\\2-python\\notes_on_learning_python\"\n",
    " r\"\\elzero course\\a.txt\")\n"
   ]
  },
  {
   "cell_type": "code",
   "execution_count": 48,
   "metadata": {},
   "outputs": [
    {
     "name": "stdout",
     "output_type": "stream",
     "text": [
      "<_io.TextIOWrapper name='new.txt' mode='r' encoding='cp65001'>\n",
      "new.txt\n",
      "r\n",
      "cp65001\n",
      "====================\n",
      "hello \n",
      "this \n",
      "is \n",
      "my new\n",
      "course\n",
      "001 test\n",
      "002 test\n",
      "003 test\n",
      "====================\n",
      "hello \n",
      "thi\n",
      "====================\n",
      "['hello \\n', 'this \\n', 'is \\n', 'my new\\n', 'course\\n', '001 test\\n', '002 test\\n', '003 test']\n",
      "['hello \\n']\n",
      "====================\n"
     ]
    },
    {
     "data": {
      "text/plain": [
       "'he'"
      ]
     },
     "execution_count": 48,
     "metadata": {},
     "output_type": "execute_result"
    }
   ],
   "source": [
    "my_new_file = open(\"new.txt\", \"r\")    # by default is \"r\"\n",
    "\n",
    "print(my_new_file)  # return data object not the data inside the file\n",
    "print(my_new_file.name)  # print the name of the file\n",
    "print(my_new_file.mode)  # print the mode of the file\n",
    "print(my_new_file.encoding)  # print the encoding\n",
    "print(\"==\" * 10)\n",
    "\n",
    "print(my_new_file.read())   # read all the content of the file\n",
    "print(\"==\" * 10)\n",
    "\n",
    "my_new_file.seek(0)  # to move the cursor to the start again\n",
    "print(my_new_file.read(10))   # read the given content of the file\n",
    "print(\"==\" * 10)\n",
    "\n",
    "my_new_file.seek(0)  # to move the cursor to the start again\n",
    "print(my_new_file.readlines()) # return the content of each line in a list\n",
    "my_new_file.seek(0)  # to move the cursor to the start again\n",
    "print(my_new_file.readlines(1)) # return the content of each line in a list\n",
    "print(\"==\" * 10)\n",
    "\n",
    "my_new_file.seek(0)  # to move the cursor to the start again\n",
    "my_new_file.readline(2) # return a line by line \n",
    "                               # if a index given it will print the\n",
    "                               #  number of characters given"
   ]
  },
  {
   "cell_type": "code",
   "execution_count": 99,
   "metadata": {},
   "outputs": [
    {
     "name": "stdout",
     "output_type": "stream",
     "text": [
      "001 - hello\n",
      "\n",
      "\n",
      "\n",
      "002 - python\n",
      "\n",
      "loop works\n"
     ]
    }
   ],
   "source": [
    "file_to_loop = open(\"a.txt\", \"r\")\n",
    "\n",
    "# using for loop to iterate over file lines\n",
    "for line in file_to_loop:\n",
    "    print(line)\n",
    "\n",
    "    if line.startswith(\"002\"):\n",
    "        print(\"loop works\")\n",
    "\n",
    "file_to_loop.close()  # it is better to close the file after finishing"
   ]
  },
  {
   "cell_type": "markdown",
   "metadata": {},
   "source": [
    "* 2- write mode\n",
    "\n",
    "**.write() ==> write to the file and if data exist it will replace it**"
   ]
  },
  {
   "cell_type": "code",
   "execution_count": 102,
   "metadata": {},
   "outputs": [],
   "source": [
    "# example on writing data\n",
    "\n",
    "storage_file = open(\"storage.txt\", \"w\")\n",
    "\n",
    "storage_file.write(\"my name is hello\")\n",
    "storage_file.close()"
   ]
  },
  {
   "cell_type": "code",
   "execution_count": 105,
   "metadata": {},
   "outputs": [],
   "source": [
    "fun_file = open(\"fun.txt\", \"w\")\n",
    "\n",
    "fun_file.write(\"i love you\\n\" * 50)\n",
    "fun_file.close()"
   ]
  },
  {
   "cell_type": "code",
   "execution_count": 114,
   "metadata": {},
   "outputs": [],
   "source": [
    "list_to_be_added = [\"ahmed\\n\", \"khaled\\n\", \"omar\\n\"]\n",
    "storage_file = open(\"storage_file.txt\", \"w\")\n",
    "storage_file.writelines(list_to_be_added)\n",
    "storage_file.close()"
   ]
  },
  {
   "cell_type": "code",
   "execution_count": 117,
   "metadata": {},
   "outputs": [],
   "source": [
    "list_to_be_added = [\"ahmed\\n\", \"khaled\\n\", \"omar\\n\"]\n",
    "storage_file = open(\"storage_file.txt\", \"a\")\n",
    "storage_file.write(\"list_to_be_added with append mode\\n\")\n",
    "storage_file.writelines([\"new list\\n\", \"is fun\\n\"])\n",
    "storage_file.close()"
   ]
  },
  {
   "cell_type": "code",
   "execution_count": 119,
   "metadata": {},
   "outputs": [],
   "source": [
    "tes_file = open(\"test.txt\", \"a\")\n",
    "tes_file.write(\"hello python there is hello\")\n",
    "tes_file.close()"
   ]
  },
  {
   "cell_type": "code",
   "execution_count": 122,
   "metadata": {},
   "outputs": [],
   "source": [
    "tes_file = open(\"test.txt\", \"a\")\n",
    "tes_file.truncate(10)  # get the given char numbers and remove the others\n",
    "tes_file.close()"
   ]
  },
  {
   "cell_type": "code",
   "execution_count": 128,
   "metadata": {},
   "outputs": [
    {
     "name": "stdout",
     "output_type": "stream",
     "text": [
      "0\n",
      "llo pyth\n"
     ]
    }
   ],
   "source": [
    "tes_file = open(\"test.txt\", \"r\")\n",
    "print(tes_file.tell())  # tells the position of the cursor\n",
    "# new line in windows == 2 characters\n",
    "tes_file.seek(2)\n",
    "print(tes_file.read())\n"
   ]
  }
 ],
 "metadata": {
  "kernelspec": {
   "display_name": "Python 3",
   "language": "python",
   "name": "python3"
  },
  "language_info": {
   "codemirror_mode": {
    "name": "ipython",
    "version": 3
   },
   "file_extension": ".py",
   "mimetype": "text/x-python",
   "name": "python",
   "nbconvert_exporter": "python",
   "pygments_lexer": "ipython3",
   "version": "3.12.0"
  }
 },
 "nbformat": 4,
 "nbformat_minor": 2
}
