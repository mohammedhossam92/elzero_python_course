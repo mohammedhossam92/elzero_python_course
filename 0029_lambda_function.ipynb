{
 "cells": [
  {
   "cell_type": "markdown",
   "metadata": {},
   "source": [
    "# lambda function \n",
    "### also called anonymous function"
   ]
  },
  {
   "cell_type": "markdown",
   "metadata": {},
   "source": [
    "* 1- it has no name\n",
    "* 2- you can call it inline without defining it\n",
    "* 3- you can use it in return data from another function\n",
    "* 4- lambda used for simple function and def function() handle the large tasks\n",
    "* 5- lambda is single line of code and not block of code\n",
    "* 6- lambda type is function"
   ]
  },
  {
   "cell_type": "code",
   "execution_count": 6,
   "metadata": {},
   "outputs": [
    {
     "name": "stdout",
     "output_type": "stream",
     "text": [
      "Hello ahmed\n",
      "Hello Mohammed from lambda function\n",
      "say_hello\n",
      "<lambda>\n"
     ]
    }
   ],
   "source": [
    "def say_hello(name):\n",
    "    return f\"Hello {name}\"\n",
    "\n",
    "print(say_hello(\"ahmed\"))\n",
    "# the same function but using lambda function\n",
    "# variable to store the function in = lambda parameter : expression\n",
    "\n",
    "hello = lambda name : f\"Hello {name}\"\n",
    "\n",
    "print(hello(\"Mohammed from lambda function\"))\n",
    "\n",
    "print(say_hello.__name__) # return the name of the function\n",
    "print(hello.__name__) # return lambda cause the function has no name"
   ]
  },
  {
   "cell_type": "code",
   "execution_count": 10,
   "metadata": {},
   "outputs": [
    {
     "name": "stdout",
     "output_type": "stream",
     "text": [
      "63\n",
      "<class 'function'>\n"
     ]
    }
   ],
   "source": [
    "add = lambda *args : sum(args)\n",
    "\n",
    "print(add(5,6,8,9,10,12,13))\n",
    "\n",
    "print(type(add))"
   ]
  }
 ],
 "metadata": {
  "kernelspec": {
   "display_name": "Python 3",
   "language": "python",
   "name": "python3"
  },
  "language_info": {
   "codemirror_mode": {
    "name": "ipython",
    "version": 3
   },
   "file_extension": ".py",
   "mimetype": "text/x-python",
   "name": "python",
   "nbconvert_exporter": "python",
   "pygments_lexer": "ipython3",
   "version": "3.12.0"
  }
 },
 "nbformat": 4,
 "nbformat_minor": 2
}
