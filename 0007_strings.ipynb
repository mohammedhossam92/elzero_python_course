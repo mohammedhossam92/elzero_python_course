{
 "cells": [
  {
   "cell_type": "markdown",
   "metadata": {},
   "source": [
    "**string can be written in single quote or double quote**"
   ]
  },
  {
   "cell_type": "code",
   "execution_count": 2,
   "metadata": {},
   "outputs": [
    {
     "name": "stdout",
     "output_type": "stream",
     "text": [
      "hello\n",
      "hello\n"
     ]
    }
   ],
   "source": [
    "my_string_1 = \"hello\"\n",
    "my_string_2 = 'hello'\n",
    "\n",
    "print(my_string_1)\n",
    "print(my_string_2)"
   ]
  },
  {
   "cell_type": "markdown",
   "metadata": {},
   "source": [
    "**write quote in string without using escape character**"
   ]
  },
  {
   "cell_type": "code",
   "execution_count": 7,
   "metadata": {},
   "outputs": [
    {
     "name": "stdout",
     "output_type": "stream",
     "text": [
      "hello 'this is quote' \n",
      "hello \"this is quote\"\n"
     ]
    }
   ],
   "source": [
    "my_string_3 = \"hello 'this is quote' \"\n",
    "print(my_string_3)\n",
    "# or\n",
    "my_string_3 = 'hello \"this is quote\"'\n",
    "print(my_string_3)\n",
    "\n"
   ]
  },
  {
   "cell_type": "markdown",
   "metadata": {},
   "source": [
    "**use triple double quotes or triple single quotes to write\n",
    "multiple line string**\n",
    "* triple or double quotes escape the inside characters\n",
    " "
   ]
  },
  {
   "cell_type": "code",
   "execution_count": 10,
   "metadata": {},
   "outputs": [
    {
     "name": "stdout",
     "output_type": "stream",
     "text": [
      "hello\n",
      "this\n",
      "is \n",
      "multi\n"
     ]
    }
   ],
   "source": [
    "triple = \"\"\"hello\n",
    "this\n",
    "is \n",
    "multi\"\"\"\n",
    "\n",
    "\n",
    "print(triple)"
   ]
  },
  {
   "cell_type": "markdown",
   "metadata": {},
   "source": [
    "# string indexing and slicing\n",
    "\n",
    "* all data in python are object\n",
    "* object contain elements\n",
    "* every element has its own index\n",
    "* python use zero based index ( index start from zero)\n",
    "* use square brackets to access the elements\n",
    "* indexing enables accessing parts of strings , Tuples or lists"
   ]
  },
  {
   "cell_type": "markdown",
   "metadata": {},
   "source": [
    "# indexing\n",
    "### access single element "
   ]
  },
  {
   "cell_type": "code",
   "execution_count": 12,
   "metadata": {},
   "outputs": [
    {
     "name": "stdout",
     "output_type": "stream",
     "text": [
      "I\n",
      "t\n"
     ]
    }
   ],
   "source": [
    "my_string = \"I love Python\"\n",
    "print(my_string[0]) # index 0 ==> I\n",
    "print(my_string[9]) # index 9 == > t"
   ]
  },
  {
   "cell_type": "markdown",
   "metadata": {},
   "source": [
    "in python we can use negative indexing to access elements from end to beginning\n",
    "\n"
   ]
  },
  {
   "cell_type": "code",
   "execution_count": 16,
   "metadata": {},
   "outputs": [
    {
     "name": "stdout",
     "output_type": "stream",
     "text": [
      "G\n"
     ]
    }
   ],
   "source": [
    "my_new_string = \" I LOVE PROGRAMMING\"\n",
    "\n",
    "print(my_new_string[-1])  # index -1 ==> first character from the end"
   ]
  },
  {
   "cell_type": "markdown",
   "metadata": {},
   "source": [
    "# Slicing"
   ]
  },
  {
   "cell_type": "markdown",
   "metadata": {},
   "source": [
    "**access multiple sequence elements**\n",
    "\n",
    "syntax:\n",
    "\n",
    "string[start:end:step]   however End isn't included"
   ]
  },
  {
   "cell_type": "code",
   "execution_count": 19,
   "metadata": {},
   "outputs": [
    {
     "name": "stdout",
     "output_type": "stream",
     "text": [
      " I LOVE PR\n"
     ]
    }
   ],
   "source": [
    "print(my_new_string[0:10])   # end isn't included"
   ]
  },
  {
   "cell_type": "code",
   "execution_count": 21,
   "metadata": {},
   "outputs": [
    {
     "name": "stdout",
     "output_type": "stream",
     "text": [
      "  OEPORMI\n"
     ]
    }
   ],
   "source": [
    "print(my_new_string[0:-1:2])"
   ]
  },
  {
   "cell_type": "code",
   "execution_count": 23,
   "metadata": {},
   "outputs": [
    {
     "name": "stdout",
     "output_type": "stream",
     "text": [
      " I LOVE PR\n"
     ]
    }
   ],
   "source": [
    "print(my_new_string[:10]) # if start not specified it will start from zero"
   ]
  },
  {
   "cell_type": "code",
   "execution_count": 25,
   "metadata": {},
   "outputs": [
    {
     "name": "stdout",
     "output_type": "stream",
     "text": [
      " LOVE PROGRAMMING\n"
     ]
    }
   ],
   "source": [
    "print(my_new_string[2:]) # will print from start to end"
   ]
  },
  {
   "cell_type": "code",
   "execution_count": 27,
   "metadata": {},
   "outputs": [
    {
     "name": "stdout",
     "output_type": "stream",
     "text": [
      "  OEPORMIG\n"
     ]
    }
   ],
   "source": [
    "print(my_new_string[::2]) # will print from start to end with step of 2"
   ]
  },
  {
   "cell_type": "code",
   "execution_count": 30,
   "metadata": {},
   "outputs": [
    {
     "name": "stdout",
     "output_type": "stream",
     "text": [
      "GIMROPEO  \n"
     ]
    }
   ],
   "source": [
    "print(my_new_string[::-2]) # from end to start with step of 2"
   ]
  },
  {
   "cell_type": "markdown",
   "metadata": {},
   "source": [
    "# string methods"
   ]
  },
  {
   "cell_type": "markdown",
   "metadata": {},
   "source": [
    "##  1 - len() function ==> return the length of the elements"
   ]
  },
  {
   "cell_type": "code",
   "execution_count": 2,
   "metadata": {},
   "outputs": [
    {
     "name": "stdout",
     "output_type": "stream",
     "text": [
      "12\n"
     ]
    }
   ],
   "source": [
    "a = \"hello python\"\n",
    "print(len(a))"
   ]
  },
  {
   "cell_type": "markdown",
   "metadata": {},
   "source": [
    "## 2- strip()  ==   rstrip()    ==  lstrip()\n",
    "\n",
    "* the three functions are the same but :\n",
    "\n",
    "* strip()  ==> remove spaces from right and left\n",
    "* rstrip() ==> remove space from right\n",
    "* lstrip() ==> remove spaces from left "
   ]
  },
  {
   "cell_type": "code",
   "execution_count": 7,
   "metadata": {},
   "outputs": [
    {
     "name": "stdout",
     "output_type": "stream",
     "text": [
      "i love python\n",
      "    i love python\n",
      "i love python    \n",
      "17\n"
     ]
    }
   ],
   "source": [
    "a = \"    i love python    \"   # with spaces right and left\n",
    "print(a.strip())   # it will remove the spaces right and left\n",
    "a = \"    i love python    \"   # with spaces right and left\n",
    "print(a.rstrip())  # removes spaces from right only\n",
    "print(a.lstrip()) # removes spaces from left only and leave the right\n",
    "print(len(a.rstrip()))  # to count elements including spaces"
   ]
  },
  {
   "cell_type": "code",
   "execution_count": 10,
   "metadata": {},
   "outputs": [
    {
     "name": "stdout",
     "output_type": "stream",
     "text": [
      "i love python\n"
     ]
    }
   ],
   "source": [
    "# if we used character in the parenthesis it will remove it \n",
    "# instead of white space\n",
    "# example\n",
    "a = \"###i love python###\"\n",
    "\n",
    "print(a.strip('#')) # it removes the character given"
   ]
  },
  {
   "cell_type": "code",
   "execution_count": 12,
   "metadata": {},
   "outputs": [
    {
     "name": "stdout",
     "output_type": "stream",
     "text": [
      "i love python\n"
     ]
    }
   ],
   "source": [
    "b = \"@#i love python@#\"\n",
    "print(b.strip('@#'))"
   ]
  },
  {
   "cell_type": "markdown",
   "metadata": {},
   "source": [
    "## 3- title()\n",
    "\n",
    "it makes the first letter of every word capital and letters\n",
    "\n",
    "after numbers are capital\n"
   ]
  },
  {
   "cell_type": "code",
   "execution_count": 14,
   "metadata": {},
   "outputs": [
    {
     "name": "stdout",
     "output_type": "stream",
     "text": [
      "I Love Python\n"
     ]
    }
   ],
   "source": [
    "#example\n",
    "\n",
    "a = \"i love python\"\n",
    "\n",
    "print(a.title())"
   ]
  },
  {
   "cell_type": "code",
   "execution_count": 16,
   "metadata": {},
   "outputs": [
    {
     "name": "stdout",
     "output_type": "stream",
     "text": [
      " I Love 2D Graphics And 3G Tech \n"
     ]
    }
   ],
   "source": [
    "# another example:\n",
    "c = \" i love 2d graphics and 3g tech \"\n",
    "\n",
    "print(c.title())"
   ]
  },
  {
   "cell_type": "markdown",
   "metadata": {},
   "source": [
    "## 4- capitalize()\n",
    "\n",
    "the same like title except for letters after numbers won't be capitalized\n",
    "and it only capitalize the first letter only"
   ]
  },
  {
   "cell_type": "code",
   "execution_count": 21,
   "metadata": {},
   "outputs": [
    {
     "name": "stdout",
     "output_type": "stream",
     "text": [
      "I love 3g technology\n"
     ]
    }
   ],
   "source": [
    "#example\n",
    "v = \"i love 3g technology\"\n",
    "print(v.capitalize())"
   ]
  },
  {
   "cell_type": "markdown",
   "metadata": {},
   "source": [
    "## 5- zfill()   ==> it adds zeros before the number "
   ]
  },
  {
   "cell_type": "code",
   "execution_count": 72,
   "metadata": {},
   "outputs": [
    {
     "name": "stdout",
     "output_type": "stream",
     "text": [
      "001\n",
      "011\n"
     ]
    }
   ],
   "source": [
    "a = \"1\"\n",
    "b = \"11\"\n",
    "c = \"111\"\n",
    "\n",
    "print(a.zfill(3)) # take argument width \n",
    "                        # the number itself is included in width\n",
    "                        # fill width with zeros\n",
    "print(b.zfill(3))"
   ]
  },
  {
   "cell_type": "markdown",
   "metadata": {},
   "source": [
    "## 6- upper() ==> convert the string to uppercase"
   ]
  },
  {
   "cell_type": "code",
   "execution_count": 28,
   "metadata": {},
   "outputs": [
    {
     "name": "stdout",
     "output_type": "stream",
     "text": [
      "MOHAMMED\n"
     ]
    }
   ],
   "source": [
    "# example\n",
    "\n",
    "a = \"mohammed\"\n",
    "\n",
    "print(a.upper())"
   ]
  },
  {
   "cell_type": "markdown",
   "metadata": {},
   "source": [
    "## 7- lower() ==> convert string to lower case"
   ]
  },
  {
   "cell_type": "code",
   "execution_count": 30,
   "metadata": {},
   "outputs": [
    {
     "name": "stdout",
     "output_type": "stream",
     "text": [
      "yes\n"
     ]
    }
   ],
   "source": [
    "answer = \"YES\"\n",
    "print(answer.lower())"
   ]
  },
  {
   "cell_type": "markdown",
   "metadata": {},
   "source": [
    "## 8- split() ==> split the string at certain given position\n",
    "       - splitting by spaces is the default "
   ]
  },
  {
   "cell_type": "code",
   "execution_count": 32,
   "metadata": {},
   "outputs": [
    {
     "name": "stdout",
     "output_type": "stream",
     "text": [
      "['i', 'love', 'python', 'and', 'php']\n"
     ]
    }
   ],
   "source": [
    "# example\n",
    "i = \"i love python and php\"\n",
    "print(i.split())"
   ]
  },
  {
   "cell_type": "code",
   "execution_count": 43,
   "metadata": {},
   "outputs": [
    {
     "name": "stdout",
     "output_type": "stream",
     "text": [
      "['i', 'love', 'python', 'and', 'php']\n",
      "['i', 'love', 'python-and-php']\n"
     ]
    }
   ],
   "source": [
    "ix = \"i-love-python-and-php\"\n",
    "print(i.split('-'))  # separator writing in literal string\n",
    "print(i.split(sep='-', maxsplit= 2)) # split the number of given splits \n",
    "                                    # and the rest are in one index"
   ]
  },
  {
   "cell_type": "code",
   "execution_count": 45,
   "metadata": {},
   "outputs": [
    {
     "name": "stdout",
     "output_type": "stream",
     "text": [
      "['i-love-python-and', 'php', 'and', 'sql']\n"
     ]
    }
   ],
   "source": [
    "# rsplit()  ==> split with the given split parameter but from the right\n",
    "\n",
    "io = \"i-love-python-and-php-and-sql\"\n",
    "print(io.rsplit('-', 3))"
   ]
  },
  {
   "cell_type": "markdown",
   "metadata": {},
   "source": [
    "## 9- center() ===> center(number of returned characters, character given to fill)\n",
    "- by default the character to be given is space"
   ]
  },
  {
   "cell_type": "code",
   "execution_count": 53,
   "metadata": {},
   "outputs": [
    {
     "name": "stdout",
     "output_type": "stream",
     "text": [
      " mohammed \n",
      "*****mohammed*****\n"
     ]
    }
   ],
   "source": [
    "#example\n",
    "\n",
    "name = \"mohammed\"\n",
    "print(name.center(10))  # the default char here is space\n",
    "print(name.center(18, '*')) \n"
   ]
  },
  {
   "cell_type": "markdown",
   "metadata": {},
   "source": [
    "## 10- count() ==> return the count of given chars\n",
    "-- it takes the chars or word to count and optional the start and end position\n",
    "\n",
    "-- count(\"word or char\", start_index, end_index)"
   ]
  },
  {
   "cell_type": "code",
   "execution_count": 63,
   "metadata": {},
   "outputs": [
    {
     "name": "stdout",
     "output_type": "stream",
     "text": [
      "2\n",
      "1\n",
      "1\n",
      "0\n"
     ]
    }
   ],
   "source": [
    "ex = \"i love islam\"\n",
    "print(ex.count(' '))   # here i counted the number of spaces\n",
    "print(ex.count('a'))   # here i counted the number of letter a\n",
    "print(ex.count(\"love\"))  # you can also count words\n",
    "print(ex.count(\"love\", 0, 2))  # you can also count words\n"
   ]
  },
  {
   "cell_type": "markdown",
   "metadata": {},
   "source": [
    "## 11- swapcase() ==> return the small letters into capital and vice versa\n",
    "\n"
   ]
  },
  {
   "cell_type": "code",
   "execution_count": 65,
   "metadata": {},
   "outputs": [
    {
     "name": "stdout",
     "output_type": "stream",
     "text": [
      " I love python\n"
     ]
    }
   ],
   "source": [
    "#example\n",
    "o = \" i LOVE PYTHON\"\n",
    "print(o.swapcase())"
   ]
  },
  {
   "cell_type": "markdown",
   "metadata": {},
   "source": [
    "## 12-startswith() ==> use if you want if certain word is start \n",
    "## with certain char\n",
    "\n",
    "**startswith(\"char\", start, end)**"
   ]
  },
  {
   "cell_type": "code",
   "execution_count": 69,
   "metadata": {},
   "outputs": [
    {
     "name": "stdout",
     "output_type": "stream",
     "text": [
      "True\n"
     ]
    }
   ],
   "source": [
    "b = \"mohammed loves python\"\n",
    "\n",
    "print(b.startswith(\"mohammed\"))"
   ]
  },
  {
   "cell_type": "markdown",
   "metadata": {},
   "source": [
    "## 13-endswith() ==> the same like start with but from the end"
   ]
  },
  {
   "cell_type": "code",
   "execution_count": 71,
   "metadata": {},
   "outputs": [
    {
     "name": "stdout",
     "output_type": "stream",
     "text": [
      "True\n"
     ]
    }
   ],
   "source": [
    "xo = \" hello world we have a lot of things\"\n",
    "print(xo.endswith(\"s\"))"
   ]
  },
  {
   "cell_type": "markdown",
   "metadata": {},
   "source": [
    "## 14- index('',start,end)\n",
    "\n",
    "**return the index of the given char**\n",
    "gives error if the substring is not found"
   ]
  },
  {
   "cell_type": "code",
   "execution_count": 77,
   "metadata": {},
   "outputs": [
    {
     "name": "stdout",
     "output_type": "stream",
     "text": [
      "7\n",
      "7\n"
     ]
    },
    {
     "ename": "ValueError",
     "evalue": "substring not found",
     "output_type": "error",
     "traceback": [
      "\u001b[1;31m---------------------------------------------------------------------------\u001b[0m",
      "\u001b[1;31mValueError\u001b[0m                                Traceback (most recent call last)",
      "\u001b[1;32md:\\1-self learning\\2- programming courses\\2-python\\notes_on_learning_python\\elzero course\\0007_strings.ipynb Cell 53\u001b[0m line \u001b[0;36m4\n\u001b[0;32m      <a href='vscode-notebook-cell:/d%3A/1-self%20learning/2-%20programming%20courses/2-python/notes_on_learning_python/elzero%20course/0007_strings.ipynb#Y142sZmlsZQ%3D%3D?line=1'>2</a>\u001b[0m \u001b[39mprint\u001b[39m(xx\u001b[39m.\u001b[39mindex(\u001b[39m'\u001b[39m\u001b[39mp\u001b[39m\u001b[39m'\u001b[39m)) \u001b[39m# letter is in index 7\u001b[39;00m\n\u001b[0;32m      <a href='vscode-notebook-cell:/d%3A/1-self%20learning/2-%20programming%20courses/2-python/notes_on_learning_python/elzero%20course/0007_strings.ipynb#Y142sZmlsZQ%3D%3D?line=2'>3</a>\u001b[0m \u001b[39mprint\u001b[39m(xx\u001b[39m.\u001b[39mindex(\u001b[39m'\u001b[39m\u001b[39mp\u001b[39m\u001b[39m'\u001b[39m, \u001b[39m0\u001b[39m, \u001b[39m8\u001b[39m)) \u001b[39m# letter is in index 7\u001b[39;00m\n\u001b[1;32m----> <a href='vscode-notebook-cell:/d%3A/1-self%20learning/2-%20programming%20courses/2-python/notes_on_learning_python/elzero%20course/0007_strings.ipynb#Y142sZmlsZQ%3D%3D?line=3'>4</a>\u001b[0m \u001b[39mprint\u001b[39m(xx\u001b[39m.\u001b[39;49mindex(\u001b[39m'\u001b[39;49m\u001b[39mp\u001b[39;49m\u001b[39m'\u001b[39;49m, \u001b[39m0\u001b[39;49m, \u001b[39m6\u001b[39;49m)) \u001b[39m# error substring not found\u001b[39;00m\n",
      "\u001b[1;31mValueError\u001b[0m: substring not found"
     ]
    }
   ],
   "source": [
    "xx = \"i love python\"\n",
    "print(xx.index('p')) # letter is in index 7\n",
    "print(xx.index('p', 0, 8)) # letter is in index 7\n",
    "print(xx.index('p', 0, 6)) # error substring not found\n"
   ]
  },
  {
   "cell_type": "markdown",
   "metadata": {},
   "source": [
    "## 15- find('')\n",
    "\n",
    "**the difference between it and index() is that it return -1 if not found**\n"
   ]
  },
  {
   "cell_type": "code",
   "execution_count": 81,
   "metadata": {},
   "outputs": [
    {
     "name": "stdout",
     "output_type": "stream",
     "text": [
      "7\n",
      "7\n",
      "-1\n"
     ]
    }
   ],
   "source": [
    "bb = \" hello world\"\n",
    "\n",
    "print(bb.find(\"w\"))\n",
    "print(bb.find(\"w\",0, 10))\n",
    "print(bb.find(\"w\",0, 4))"
   ]
  },
  {
   "cell_type": "markdown",
   "metadata": {},
   "source": [
    "## 16- rjust(width,fill_char)\n",
    "##     ljust(width,fill_char)"
   ]
  },
  {
   "cell_type": "code",
   "execution_count": 88,
   "metadata": {},
   "outputs": [
    {
     "name": "stdout",
     "output_type": "stream",
     "text": [
      "##mohammed\n",
      "            mohammed\n",
      "mohammed**\n"
     ]
    }
   ],
   "source": [
    "my_name = \"mohammed\"\n",
    "\n",
    "print(my_name.rjust(10,\"#\"))\n",
    "print(my_name.rjust(20))\n",
    "print(my_name.ljust(10,'*'))"
   ]
  },
  {
   "cell_type": "markdown",
   "metadata": {},
   "source": [
    "## 17- splitlines() ==> return a list containing lines"
   ]
  },
  {
   "cell_type": "code",
   "execution_count": 93,
   "metadata": {},
   "outputs": [
    {
     "name": "stdout",
     "output_type": "stream",
     "text": [
      "['space', 'space', 'first line', 'second line', 'third line', 'space']\n"
     ]
    }
   ],
   "source": [
    "aa = \"\"\"space\n",
    "space\n",
    "first line\n",
    "second line\n",
    "third line\n",
    "space\n",
    "\"\"\"\n",
    "\n",
    "print(aa.splitlines())"
   ]
  },
  {
   "cell_type": "code",
   "execution_count": 98,
   "metadata": {},
   "outputs": [
    {
     "name": "stdout",
     "output_type": "stream",
     "text": [
      "['first line', 'second line', ' third line']\n"
     ]
    }
   ],
   "source": [
    "bbb = \"first line\\nsecond line\\n third line\"\n",
    "print(bbb.splitlines())"
   ]
  },
  {
   "cell_type": "markdown",
   "metadata": {},
   "source": [
    "## 18- expandtabs() ==>  change the number of tabs"
   ]
  },
  {
   "cell_type": "code",
   "execution_count": 12,
   "metadata": {},
   "outputs": [
    {
     "name": "stdout",
     "output_type": "stream",
     "text": [
      "hello   this    is      example\n",
      "hello               this                is                  example\n"
     ]
    }
   ],
   "source": [
    "exam = \"hello\\tthis\\tis\\texample\"\n",
    "\n",
    "print(exam.expandtabs(tabsize=8))\n",
    "print(exam.expandtabs(20))"
   ]
  },
  {
   "cell_type": "markdown",
   "metadata": {},
   "source": [
    "## 19- is...() function\n",
    "**to check if some function is true or not**"
   ]
  },
  {
   "cell_type": "code",
   "execution_count": 23,
   "metadata": {},
   "outputs": [
    {
     "name": "stdout",
     "output_type": "stream",
     "text": [
      "True\n",
      "False\n",
      "True\n",
      "True\n",
      "False\n",
      "True\n",
      "True\n",
      "False\n"
     ]
    }
   ],
   "source": [
    "one = \"I Love Python And 3G\"\n",
    "two = \"i Love Python and 3G\"\n",
    "\n",
    "three = \"hello this is me\"\n",
    "four = \" \"\n",
    "five = \"\"\n",
    "\n",
    "six = \"osama_elzero\"\n",
    "seven = \"osama_elzero100\"\n",
    "eight = \"osama--elzero\"\n",
    "\n",
    "\n",
    "print(one.istitle())\n",
    "print(two.istitle())\n",
    "print(three.islower())\n",
    "print(four.isspace())\n",
    "print(five.isspace())\n",
    "\n",
    "print(six.isidentifier())\n",
    "print(seven.isidentifier())\n",
    "print(eight.isidentifier())\n"
   ]
  },
  {
   "cell_type": "code",
   "execution_count": 26,
   "metadata": {},
   "outputs": [
    {
     "name": "stdout",
     "output_type": "stream",
     "text": [
      "True\n",
      "False\n"
     ]
    }
   ],
   "source": [
    "x = \"aaaaaAAA\"\n",
    "y = \"aaaaaAAA22\"\n",
    "\n",
    "print(x.isalpha())\n",
    "print(y.isalpha())"
   ]
  },
  {
   "cell_type": "code",
   "execution_count": 28,
   "metadata": {},
   "outputs": [
    {
     "name": "stdout",
     "output_type": "stream",
     "text": [
      "True\n",
      "True\n"
     ]
    }
   ],
   "source": [
    "u = \"aaaaaAAA\"\n",
    "z = \"aaaaaAAA22\"\n",
    "\n",
    "print(u.isalnum())\n",
    "print(z.isalnum())"
   ]
  },
  {
   "cell_type": "markdown",
   "metadata": {},
   "source": [
    "# 20- replace(new_value,old_value,count)"
   ]
  },
  {
   "cell_type": "code",
   "execution_count": 43,
   "metadata": {},
   "outputs": [
    {
     "name": "stdout",
     "output_type": "stream",
     "text": [
      " hello hundred two three hundred hundred\n",
      " hello 1 two three 1 one\n"
     ]
    }
   ],
   "source": [
    "old = \" hello one two three one one\"\n",
    "print(old.replace(\"one\",\"hundred\"))\n",
    "print(old.replace(\"one\",\"1\", 2))"
   ]
  },
  {
   "cell_type": "markdown",
   "metadata": {},
   "source": [
    "### 21- join(iterable)\n",
    "\n",
    "iterable like list or tuple"
   ]
  },
  {
   "cell_type": "code",
   "execution_count": 50,
   "metadata": {},
   "outputs": [
    {
     "name": "stdout",
     "output_type": "stream",
     "text": [
      "mohammed Hossam Mohammed\n",
      "mohammed-Hossam-Mohammed\n"
     ]
    }
   ],
   "source": [
    "my_name = [\"mohammed\",\"Hossam\",\"Mohammed\"]\n",
    "\n",
    "print(\" \".join(my_name))\n",
    "# we place the separator first which is space or dash or \n",
    "#whatever then .join(list or tuple or whatever iterable)\n",
    "print(\"-\".join(my_name))"
   ]
  }
 ],
 "metadata": {
  "kernelspec": {
   "display_name": "Python 3",
   "language": "python",
   "name": "python3"
  },
  "language_info": {
   "codemirror_mode": {
    "name": "ipython",
    "version": 3
   },
   "file_extension": ".py",
   "mimetype": "text/x-python",
   "name": "python",
   "nbconvert_exporter": "python",
   "pygments_lexer": "ipython3",
   "version": "3.12.0"
  }
 },
 "nbformat": 4,
 "nbformat_minor": 2
}
