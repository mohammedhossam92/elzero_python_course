{
 "cells": [
  {
   "cell_type": "markdown",
   "metadata": {},
   "source": [
    "## str()   ===> method to convert to string"
   ]
  },
  {
   "cell_type": "code",
   "execution_count": 11,
   "metadata": {},
   "outputs": [
    {
     "name": "stdout",
     "output_type": "stream",
     "text": [
      "<class 'int'>\n",
      "<class 'str'>\n",
      "10 is my favorite number\n"
     ]
    }
   ],
   "source": [
    "a = 10\n",
    "print(type(a))\n",
    "print(type(str(a)))\n",
    "print(str(a) + \" \"+\"is my favorite number\")"
   ]
  },
  {
   "cell_type": "markdown",
   "metadata": {},
   "source": [
    "## tuple()  ==> method to convert to tuple\n",
    "**the method requires iterable object**"
   ]
  },
  {
   "cell_type": "code",
   "execution_count": 18,
   "metadata": {},
   "outputs": [
    {
     "name": "stdout",
     "output_type": "stream",
     "text": [
      "('o', 's', 'a', 'm', 'a')\n",
      "(1, 2, 3, 4, 5)\n",
      "(1, 2, 3, 4)\n",
      "('name', 'age')\n"
     ]
    },
    {
     "ename": "TypeError",
     "evalue": "'int' object is not iterable",
     "output_type": "error",
     "traceback": [
      "\u001b[1;31m---------------------------------------------------------------------------\u001b[0m",
      "\u001b[1;31mTypeError\u001b[0m                                 Traceback (most recent call last)",
      "Cell \u001b[1;32mIn[18], line 12\u001b[0m\n\u001b[0;32m     10\u001b[0m \u001b[38;5;28mprint\u001b[39m(\u001b[38;5;28mtuple\u001b[39m(set_numbers))\n\u001b[0;32m     11\u001b[0m \u001b[38;5;28mprint\u001b[39m(\u001b[38;5;28mtuple\u001b[39m(dictionary))  \u001b[38;5;66;03m# it will only print the keys\u001b[39;00m\n\u001b[1;32m---> 12\u001b[0m \u001b[38;5;28mprint\u001b[39m(\u001b[38;5;28;43mtuple\u001b[39;49m\u001b[43m(\u001b[49m\u001b[38;5;241;43m100\u001b[39;49m\u001b[43m)\u001b[49m)  \u001b[38;5;66;03m# int isn't iterable object\u001b[39;00m\n",
      "\u001b[1;31mTypeError\u001b[0m: 'int' object is not iterable"
     ]
    }
   ],
   "source": [
    "name = \"osama\"  # string\n",
    "numbers = [1, 2, 3, 4, 5] # list\n",
    "set_numbers = {1, 2, 3, 4}  # set\n",
    "dictionary = {\"name\": \"ahmed\", \"age\": 10}   # dictionary\n",
    "\n",
    "\n",
    "\n",
    "print(tuple(name))\n",
    "print(tuple(numbers))\n",
    "print(tuple(set_numbers))\n",
    "print(tuple(dictionary))  # it will only print the keys\n",
    "print(tuple(100))  # int isn't iterable object"
   ]
  },
  {
   "cell_type": "markdown",
   "metadata": {},
   "source": [
    "## list() ==> to convert to list"
   ]
  },
  {
   "cell_type": "code",
   "execution_count": 20,
   "metadata": {},
   "outputs": [
    {
     "name": "stdout",
     "output_type": "stream",
     "text": [
      "['o', 's', 'a', 'm', 'a']\n",
      "[1, 2, 3, 4, 5]\n",
      "[1, 2, 3, 4]\n",
      "['name', 'age']\n"
     ]
    }
   ],
   "source": [
    "name = \"osama\"  # string\n",
    "numbers = (1, 2, 3, 4, 5) # tuple\n",
    "set_numbers = {1, 2, 3, 4}  # set\n",
    "dictionary = {\"name\": \"ahmed\", \"age\": 10}   # dictionary\n",
    "\n",
    "\n",
    "\n",
    "print(list(name))\n",
    "print(list(numbers))\n",
    "print(list(set_numbers))\n",
    "print(list(dictionary))  # it will only print the keys"
   ]
  },
  {
   "cell_type": "markdown",
   "metadata": {},
   "source": [
    "## set() ==> like before to convert to set"
   ]
  },
  {
   "cell_type": "markdown",
   "metadata": {},
   "source": [
    "### dict() ==> to convert to a a dictionary"
   ]
  },
  {
   "cell_type": "code",
   "execution_count": 21,
   "metadata": {},
   "outputs": [],
   "source": [
    "# to covert a tuple or list or set to dictionary it should be written in \n",
    "# nested way that contain keys and values"
   ]
  },
  {
   "cell_type": "code",
   "execution_count": 45,
   "metadata": {},
   "outputs": [
    {
     "name": "stdout",
     "output_type": "stream",
     "text": [
      "{'a': 1, 'B': 2}\n",
      "{'first': 10, 'second': 100}\n"
     ]
    }
   ],
   "source": [
    "tuples = ((\"a\", 1), (\"B\", 2)) \n",
    "# each tuple is consider key: value pair\n",
    "\n",
    "list_numbers = [[\"first\", 10], [\"second\", 100]]\n",
    "\n",
    "# for set it couldn't converted to dict because it is unhashable\n",
    "# example for a set\n",
    "# set_numbers_2 = {{\"A\", 1},{\"B\", 2}}\n",
    "\n",
    "print(dict(tuples))\n",
    "print(dict(list_numbers))\n",
    "# print(dict(set_numbers))"
   ]
  }
 ],
 "metadata": {
  "kernelspec": {
   "display_name": "Python 3",
   "language": "python",
   "name": "python3"
  },
  "language_info": {
   "codemirror_mode": {
    "name": "ipython",
    "version": 3
   },
   "file_extension": ".py",
   "mimetype": "text/x-python",
   "name": "python",
   "nbconvert_exporter": "python",
   "pygments_lexer": "ipython3",
   "version": "3.12.0"
  }
 },
 "nbformat": 4,
 "nbformat_minor": 2
}
