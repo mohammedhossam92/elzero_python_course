{
 "cells": [
  {
   "cell_type": "markdown",
   "metadata": {},
   "source": [
    "**concatenate to connect two strings with each other**"
   ]
  },
  {
   "cell_type": "code",
   "execution_count": 5,
   "metadata": {},
   "outputs": [
    {
     "name": "stdout",
     "output_type": "stream",
     "text": [
      "i Lovepython\n",
      "i Love python\n"
     ]
    }
   ],
   "source": [
    "msg = \"i Love\"\n",
    "lang = \"python\"\n",
    "\n",
    "print(msg + lang)\n",
    "print(msg + ' ' + lang) # empty string to create space"
   ]
  },
  {
   "cell_type": "code",
   "execution_count": 7,
   "metadata": {},
   "outputs": [
    {
     "name": "stdout",
     "output_type": "stream",
     "text": [
      "i Love python\n"
     ]
    }
   ],
   "source": [
    "full_msg = msg + \" \" + lang\n",
    "print(full_msg)  "
   ]
  },
  {
   "cell_type": "code",
   "execution_count": 18,
   "metadata": {},
   "outputs": [
    {
     "name": "stdout",
     "output_type": "stream",
     "text": [
      "first second thirda b c\n",
      "first second third   a b c\n",
      "first second third \n",
      "a b c\n"
     ]
    }
   ],
   "source": [
    "a = \"first\\\n",
    " second\\\n",
    " third\"\n",
    "b = \"a\\\n",
    " b\\\n",
    " c\"\n",
    "\n",
    "print(a + b)\n",
    "print(a + \"   \"+ b)\n",
    "print(a + \" \\n\"+b)   # \\n should be inside string"
   ]
  },
  {
   "cell_type": "code",
   "execution_count": 19,
   "metadata": {},
   "outputs": [
    {
     "ename": "TypeError",
     "evalue": "can only concatenate str (not \"int\") to str",
     "output_type": "error",
     "traceback": [
      "\u001b[1;31m---------------------------------------------------------------------------\u001b[0m",
      "\u001b[1;31mTypeError\u001b[0m                                 Traceback (most recent call last)",
      "\u001b[1;32md:\\1-self learning\\2- programming courses\\2-python\\notes_on_learning_python\\elzero course\\0006_concatenation.ipynb Cell 5\u001b[0m line \u001b[0;36m3\n\u001b[0;32m      <a href='vscode-notebook-cell:/d%3A/1-self%20learning/2-%20programming%20courses/2-python/notes_on_learning_python/elzero%20course/0006_concatenation.ipynb#X11sZmlsZQ%3D%3D?line=0'>1</a>\u001b[0m \u001b[39m# you can't concatenate string with number\u001b[39;00m\n\u001b[1;32m----> <a href='vscode-notebook-cell:/d%3A/1-self%20learning/2-%20programming%20courses/2-python/notes_on_learning_python/elzero%20course/0006_concatenation.ipynb#X11sZmlsZQ%3D%3D?line=2'>3</a>\u001b[0m \u001b[39mprint\u001b[39m(\u001b[39m\"\u001b[39;49m\u001b[39mhello\u001b[39;49m\u001b[39m\"\u001b[39;49m \u001b[39m+\u001b[39;49m \u001b[39m1\u001b[39;49m)\n",
      "\u001b[1;31mTypeError\u001b[0m: can only concatenate str (not \"int\") to str"
     ]
    }
   ],
   "source": [
    "# you can't concatenate string with number\n",
    "\n",
    "print(\"hello\" + 1)"
   ]
  }
 ],
 "metadata": {
  "kernelspec": {
   "display_name": "Python 3",
   "language": "python",
   "name": "python3"
  },
  "language_info": {
   "codemirror_mode": {
    "name": "ipython",
    "version": 3
   },
   "file_extension": ".py",
   "mimetype": "text/x-python",
   "name": "python",
   "nbconvert_exporter": "python",
   "pygments_lexer": "ipython3",
   "version": "3.12.0"
  }
 },
 "nbformat": 4,
 "nbformat_minor": 2
}
