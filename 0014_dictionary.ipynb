{
 "cells": [
  {
   "cell_type": "markdown",
   "metadata": {},
   "source": [
    "# dictionary"
   ]
  },
  {
   "cell_type": "markdown",
   "metadata": {},
   "source": [
    "* 1- Dict items are enclosed in curly braces  ==>   {}\n",
    "* 2- Dict items contain       Key : Value\n",
    "* 3- every key : value pair are separated from the next one with comma    ,\n",
    "* 4-  key ==> is immutable (number, string, Tuple), LISTS are not allowed\n",
    "* 5-  Value ==> can be any DAta type\n",
    "* 6- dictionary  KEY  should be unique\n",
    "* 7- Dict not ordered. You can access values by KEYS\n"
   ]
  },
  {
   "cell_type": "code",
   "execution_count": 3,
   "metadata": {},
   "outputs": [
    {
     "name": "stdout",
     "output_type": "stream",
     "text": [
      "{'name': 'ahmed', 'age': 32}\n",
      "32\n",
      "32\n",
      "dict_keys(['name', 'age'])\n",
      "dict_values(['ahmed', 32])\n"
     ]
    }
   ],
   "source": [
    "#example\n",
    "\n",
    "user = {\n",
    "    \"name\" : \"mohammed\",\n",
    "    \"age\" : 32,\n",
    "    \"name\" : \"ahmed\"        # it will consider this key and cancel\n",
    "                            # the previous one\n",
    "                            # that is why  KEY should be unique\n",
    "}\n",
    "\n",
    "print(user)\n",
    "print(user[\"age\"])\n",
    "print(user.get(\"age\")) # the same like the line before it\n",
    " \n",
    "print(user.keys())      # to print all keys of DICT\n",
    "print(user.values())    # to print all values of DICT"
   ]
  },
  {
   "cell_type": "markdown",
   "metadata": {},
   "source": [
    "## TWo Dimensional Dictionary or Nested DICTionary"
   ]
  },
  {
   "cell_type": "code",
   "execution_count": 32,
   "metadata": {},
   "outputs": [
    {
     "name": "stdout",
     "output_type": "stream",
     "text": [
      "{'one': {'name': 'HTML', 'progress': '80%'}, 'two': {'Name': 'CSS', 'progress': '70%'}}\n",
      "<==><==><==><==><==><==><==><==><==><==><==><==><==><==><==><==><==><==><==><==>\n",
      "dict_keys(['one', 'two'])\n",
      "dict_values([{'name': 'HTML', 'progress': '80%'}, {'Name': 'CSS', 'progress': '70%'}])\n",
      "<==><==><==><==><==><==><==><==><==><==><==><==><==><==><==><==><==><==><==><==>\n",
      "{'name': 'HTML', 'progress': '80%'}\n",
      "<==><==><==><==><==><==><==><==><==><==><==><==><==><==><==><==><==><==><==><==>\n",
      "HTML\n",
      "<==><==><==><==><==><==><==><==><==><==><==><==><==><==><==><==><==><==><==><==>\n",
      "2\n",
      "<==><==><==><==><==><==><==><==><==><==><==><==><==><==><==><==><==><==><==><==>\n",
      "2\n",
      "<==><==><==><==><==><==><==><==><==><==><==><==><==><==><==><==><==><==><==><==>\n"
     ]
    }
   ],
   "source": [
    "languages = {\n",
    "    \"one\" : {\n",
    "        \"name\" : \"HTML\",\n",
    "        \"progress\" : \"80%\"\n",
    "    },\n",
    "\n",
    "    \"two\" : {\n",
    "        \"Name\" : \"CSS\",\n",
    "        \"progress\" : \"70%\"\n",
    "    }\n",
    "}\n",
    "\n",
    "print(languages)\n",
    "print(\"<==>\" * 20)\n",
    "print(languages.keys())\n",
    "print(languages.values())\n",
    "print(\"<==>\" * 20)\n",
    "print(languages[\"one\"]) # to access a value in the main DICT\n",
    "print(\"<==>\" * 20)\n",
    "print(languages[\"one\"][\"name\"]) # to access a value in the nested DICT\n",
    "print(\"<==>\" * 20)\n",
    "print(len(languages)) # to get the length of the DICT\n",
    "print(\"<==>\" * 20)\n",
    "print(len(languages[\"two\"])) # to get the length of nested DICT\n",
    "print(\"<==>\" * 20)\n"
   ]
  },
  {
   "cell_type": "markdown",
   "metadata": {},
   "source": [
    "**create DICT from variable**"
   ]
  },
  {
   "cell_type": "code",
   "execution_count": 35,
   "metadata": {},
   "outputs": [
    {
     "name": "stdout",
     "output_type": "stream",
     "text": [
      "{'one': {'name': 'Angular', 'progress': '80%'}, 'two': {'name': 'Vue Js', 'progress': '80%'}, 'three': {'name': 'REact Js', 'progress': '80%'}}\n"
     ]
    }
   ],
   "source": [
    "# example\n",
    "\n",
    "frame_work_1 = {\n",
    "    \"name\" : \"Angular\",\n",
    "    \"progress\": \"80%\"\n",
    "}\n",
    "\n",
    "frame_work_2 = {\n",
    "    \"name\" : \"Vue Js\",\n",
    "    \"progress\": \"80%\"\n",
    "}\n",
    "\n",
    "frame_work_3 = {\n",
    "    \"name\" : \"REact Js\",\n",
    "    \"progress\": \"80%\"\n",
    "}\n",
    "\n",
    "all_frame_Works = {\n",
    "    \"one\": frame_work_1,\n",
    "    \"two\": frame_work_2,\n",
    "    \"three\": frame_work_3\n",
    "}\n",
    "\n",
    "print(all_frame_Works)\n"
   ]
  },
  {
   "cell_type": "markdown",
   "metadata": {},
   "source": [
    "# DICT methods"
   ]
  },
  {
   "cell_type": "markdown",
   "metadata": {},
   "source": [
    "* 1- .clear()"
   ]
  },
  {
   "cell_type": "code",
   "execution_count": 36,
   "metadata": {},
   "outputs": [
    {
     "name": "stdout",
     "output_type": "stream",
     "text": [
      "{'NaMe': 'osama'}\n",
      "{}\n"
     ]
    }
   ],
   "source": [
    "user = {\n",
    "    \"NaMe\": \"osama\"\n",
    "}\n",
    "\n",
    "print(user)\n",
    "user.clear()\n",
    "print(user)"
   ]
  },
  {
   "cell_type": "markdown",
   "metadata": {},
   "source": [
    "* 2- .update()"
   ]
  },
  {
   "cell_type": "code",
   "execution_count": 40,
   "metadata": {},
   "outputs": [
    {
     "name": "stdout",
     "output_type": "stream",
     "text": [
      "{'name': 'Mohammed'}\n",
      "{'name': 'Mohammed', 'age': 32}\n",
      "<==><==><==><==><==><==><==><==><==><==>\n",
      "{'name': 'Mohammed', 'age': 32, 'country': 'Egypt'}\n",
      "<==><==><==><==><==><==><==><==><==><==>\n",
      "{'name': 'Mohammed', 'age': 32, 'country': 'Egypt', 'hobby': 'CS'}\n"
     ]
    }
   ],
   "source": [
    "member ={\n",
    "    \"name\" : \"Mohammed\"\n",
    "} \n",
    "\n",
    "print(member)\n",
    "member[\"age\"] = 32   # adding new key with the value\n",
    "print(member)\n",
    "print(\"<==>\" * 10)\n",
    "member.update({\"country\":\"Egypt\"})  \n",
    "# inside the () we add {} and then inside them we add the KEY : VALUE\n",
    "print(member)\n",
    "print(\"<==>\" * 10)\n",
    "member.update({\"country\":\"Egypt\", \"hobby\": \"CS\"})  \n",
    "print(member)\n"
   ]
  },
  {
   "cell_type": "markdown",
   "metadata": {},
   "source": [
    "* 3- .copy()"
   ]
  },
  {
   "cell_type": "code",
   "execution_count": 42,
   "metadata": {},
   "outputs": [
    {
     "name": "stdout",
     "output_type": "stream",
     "text": [
      "{'name': 'osama'}\n"
     ]
    }
   ],
   "source": [
    "main = {\n",
    "    \"name\" : \"osama\"\n",
    "}\n",
    "\n",
    "branch = main.copy()\n",
    "\n",
    "print(branch)"
   ]
  },
  {
   "cell_type": "markdown",
   "metadata": {},
   "source": [
    "* 4- .keys()\n",
    "* 5- .values()"
   ]
  },
  {
   "cell_type": "code",
   "execution_count": 43,
   "metadata": {},
   "outputs": [
    {
     "name": "stdout",
     "output_type": "stream",
     "text": [
      "dict_keys(['name'])\n",
      "dict_values(['osama'])\n"
     ]
    }
   ],
   "source": [
    "main = {\n",
    "    \"name\" : \"osama\"\n",
    "}\n",
    "\n",
    "print(main.keys())\n",
    "print(main.values())"
   ]
  },
  {
   "cell_type": "markdown",
   "metadata": {},
   "source": [
    "* 6- setdefault() ==> if the key is present it returns its value\n",
    "\n",
    "and if it doesn't exist it return the new value and add\n",
    "both key : value to the DICT"
   ]
  },
  {
   "cell_type": "code",
   "execution_count": 47,
   "metadata": {},
   "outputs": [
    {
     "name": "stdout",
     "output_type": "stream",
     "text": [
      "{'name_1': 'Ahmed', 'name_2': 'mohammed'}\n",
      "Ahmed\n",
      "{'name_1': 'Ahmed', 'name_2': 'mohammed'}\n",
      "++++++++++++++++++++++++++++++++++++++++\n",
      "Osama\n",
      "{'name_1': 'Ahmed', 'name_2': 'mohammed', 'name_3': 'Osama'}\n"
     ]
    }
   ],
   "source": [
    "Users = {\n",
    "    \"name_1\" : \"Ahmed\",\n",
    "    \"name_2\" : \"mohammed\"\n",
    "}\n",
    "\n",
    "print(Users)\n",
    "print(Users.setdefault(\"name_1\", \"Osama\"))\n",
    "# search for key named (name_1) if it doesn't exist\n",
    "# add the key with the given value after comma\n",
    "print(Users)\n",
    "print(\"++\" * 20)\n",
    "print(Users.setdefault(\"name_3\", \"Osama\"))\n",
    "# because the key isn't exist it will be added with the value osama\n",
    "print(Users)\n"
   ]
  },
  {
   "cell_type": "markdown",
   "metadata": {},
   "source": [
    "* 7- .popitem() ==> removes the last element added"
   ]
  },
  {
   "cell_type": "code",
   "execution_count": 50,
   "metadata": {},
   "outputs": [
    {
     "name": "stdout",
     "output_type": "stream",
     "text": [
      "{'member': 'ahmed', 'age': 45}\n",
      "('age', 45)\n",
      "{'member': 'ahmed'}\n"
     ]
    }
   ],
   "source": [
    "dictionary = {\n",
    "    \"member\" : \"ahmed\",\n",
    "    \"age\": 45\n",
    "}\n",
    "\n",
    "print(dictionary)\n",
    "print(dictionary.popitem())  # return a tuple contain the key : value popped\n",
    "print(dictionary)"
   ]
  },
  {
   "cell_type": "markdown",
   "metadata": {},
   "source": [
    "* 8- .items() ==> return all items of dictionary in a list containing\n",
    "Tuple\n",
    "\n",
    "[(key, value), (key, value)]"
   ]
  },
  {
   "cell_type": "code",
   "execution_count": 51,
   "metadata": {},
   "outputs": [
    {
     "name": "stdout",
     "output_type": "stream",
     "text": [
      "dict_items([('Name', 'osama'), ('age', '45'), ('skill', 'JS')])\n"
     ]
    }
   ],
   "source": [
    "new_dict = {\n",
    "    \"Name\": \"osama\",\n",
    "    \"age\": \"45\",\n",
    "    \"skill\": \"JS\"\n",
    "}\n",
    "\n",
    "new_dict_items = new_dict.items()\n",
    "print(new_dict_items)"
   ]
  },
  {
   "cell_type": "markdown",
   "metadata": {},
   "source": [
    "* 9- fromkeys()  ==> get keys from the first list or tuple and value from the\n",
    " other tuple"
   ]
  },
  {
   "cell_type": "code",
   "execution_count": 55,
   "metadata": {},
   "outputs": [
    {
     "name": "stdout",
     "output_type": "stream",
     "text": [
      "{'name': ('ahmed', 42, 'Egypt'), 'age': ('ahmed', 42, 'Egypt'), 'country': ('ahmed', 42, 'Egypt')}\n",
      "{'name': 42, 'age': 42, 'country': 42}\n"
     ]
    }
   ],
   "source": [
    "keys = (\"name\", \"age\", \"country\")\n",
    "values = (\"ahmed\", 42, \"Egypt\") # the value should be only one\n",
    "value_2 = (42)\n",
    "\n",
    "user = dict.fromkeys(keys,values)\n",
    "user_2 = dict.fromkeys(keys,value_2)\n",
    "print(user)\n",
    "print(user_2)"
   ]
  },
  {
   "cell_type": "markdown",
   "metadata": {},
   "source": [
    "* 10- .get(name,value) ==> value is optional\n",
    " - A value to return if the specified key does not exist.\n",
    "Default value None\n",
    "- return the value of the given key name if present"
   ]
  },
  {
   "cell_type": "code",
   "execution_count": 4,
   "metadata": {},
   "outputs": [
    {
     "name": "stdout",
     "output_type": "stream",
     "text": [
      "EGYPT\n",
      "location is not found\n"
     ]
    }
   ],
   "source": [
    "# example:\n",
    "last_dict = {\n",
    "    \"name\" : \"ahmed\",\n",
    "    \"age\": 45,\n",
    "    \"country\": \"EGYPT\"\n",
    "}\n",
    "\n",
    "print(last_dict.get(\"country\"))\n",
    "print(last_dict.get(\"location\", \"location is not found\")) \n",
    "# the value is optional\n"
   ]
  }
 ],
 "metadata": {
  "kernelspec": {
   "display_name": "Python 3",
   "language": "python",
   "name": "python3"
  },
  "language_info": {
   "codemirror_mode": {
    "name": "ipython",
    "version": 3
   },
   "file_extension": ".py",
   "mimetype": "text/x-python",
   "name": "python",
   "nbconvert_exporter": "python",
   "pygments_lexer": "ipython3",
   "version": "3.12.0"
  }
 },
 "nbformat": 4,
 "nbformat_minor": 2
}
