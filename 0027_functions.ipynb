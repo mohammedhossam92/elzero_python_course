{
 "cells": [
  {
   "cell_type": "markdown",
   "metadata": {},
   "source": [
    "# function and return"
   ]
  },
  {
   "cell_type": "markdown",
   "metadata": {},
   "source": [
    "* reusable block of code the do specific task\n",
    "* function runs only when you call it\n",
    "* functions can accept elements to deal with called (parameters)\n",
    "* function can do the task without returning data\n",
    "* also function do tasks and can return data\n",
    "* function can accept elements when u call it called (arguments)\n",
    "* there are built in functions and user-defined functions"
   ]
  },
  {
   "cell_type": "code",
   "execution_count": 6,
   "metadata": {},
   "outputs": [
    {
     "name": "stdout",
     "output_type": "stream",
     "text": [
      "hello function\n",
      "hello return statement\n"
     ]
    }
   ],
   "source": [
    "# syntax\n",
    "# def function_name(parameters_if_needed):\n",
    "#   code_block\n",
    "\n",
    "# example for function with no return statement\n",
    "\n",
    "def function_():\n",
    "    print(\"hello function\")\n",
    "\n",
    "# calling( the function to make it work\n",
    "function_()\n",
    "\n",
    "# example for function with return statement\n",
    "\n",
    "def _function():\n",
    "    return \"hello return statement\"\n",
    "# we can store the returned data in a variable\n",
    "returned_data = _function()\n",
    "# then print the variable that contain the returned data\n",
    "print(returned_data)\n"
   ]
  },
  {
   "cell_type": "code",
   "execution_count": 3,
   "metadata": {},
   "outputs": [
    {
     "name": "stdout",
     "output_type": "stream",
     "text": [
      "hello ahmed\n",
      "hello Ibrahim\n"
     ]
    }
   ],
   "source": [
    "# example\n",
    "\n",
    "def say_hello(n):\n",
    "    print(f\"hello {n}\")\n",
    "\n",
    "say_hello(\"ahmed\")\n",
    "say_hello(\"Ibrahim\")\n"
   ]
  },
  {
   "cell_type": "code",
   "execution_count": 6,
   "metadata": {},
   "outputs": [
    {
     "name": "stdout",
     "output_type": "stream",
     "text": [
      "11\n"
     ]
    }
   ],
   "source": [
    "def addition(n1, n2):\n",
    "    print(n1 + n2)\n",
    "\n",
    "\n",
    "addition(5 , 6)"
   ]
  },
  {
   "cell_type": "code",
   "execution_count": 10,
   "metadata": {},
   "outputs": [
    {
     "name": "stdout",
     "output_type": "stream",
     "text": [
      "only integers allowed\n",
      "only integers allowed\n",
      "11\n"
     ]
    }
   ],
   "source": [
    "def addition(n1, n2):\n",
    "    if type(n1) != int or type(n2) != int:\n",
    "        print(\"only integers allowed\")\n",
    "    else:\n",
    "        print(n1 + n2)\n",
    "\n",
    "addition(\"5\" , 6)\n",
    "addition(5 , \"osama\")\n",
    "\n",
    "addition(5 , 6)"
   ]
  },
  {
   "cell_type": "code",
   "execution_count": 14,
   "metadata": {},
   "outputs": [
    {
     "name": "stdout",
     "output_type": "stream",
     "text": [
      "only integers allowed\n",
      "only integers allowed\n",
      "16\n"
     ]
    }
   ],
   "source": [
    "def addition(n1, n2):\n",
    "    # another way to check using isinstance\n",
    "    if not isinstance(n1, int) or not isinstance(n2, int):\n",
    "        print(\"only integers allowed\") \n",
    "    else:\n",
    "        print(n1 + n2)\n",
    "\n",
    "addition(\"5\" , 6)\n",
    "addition(5 , \"osama\")\n",
    "\n",
    "addition(10, 6)"
   ]
  },
  {
   "cell_type": "code",
   "execution_count": 17,
   "metadata": {},
   "outputs": [
    {
     "name": "stdout",
     "output_type": "stream",
     "text": [
      "hello Mohammed H Mohammed\n"
     ]
    }
   ],
   "source": [
    "def print_name(first, middle, last):\n",
    "    print(f\"hello {first.strip().capitalize()} {middle.upper():.1s}\"\n",
    "           f\" {last.strip().capitalize()}\")\n",
    "# remember to write f-string in two lines u have to use f twice\n",
    "    \n",
    "print_name(\"mohammed\", \"hossam\", \"mohammed\")"
   ]
  },
  {
   "cell_type": "markdown",
   "metadata": {},
   "source": [
    "# packing and unpacking arguments  *args"
   ]
  },
  {
   "cell_type": "code",
   "execution_count": 21,
   "metadata": {},
   "outputs": [
    {
     "name": "stdout",
     "output_type": "stream",
     "text": [
      "1 2 3 4\n",
      "[1, 2, 3, 4]\n",
      "1 2 3 4\n"
     ]
    }
   ],
   "source": [
    "print(1, 2, 3, 4)\n",
    "\n",
    "my_list = [1, 2, 3, 4]\n",
    "print(my_list)\n",
    "print(*my_list) # * is used to unpack "
   ]
  },
  {
   "cell_type": "code",
   "execution_count": 23,
   "metadata": {},
   "outputs": [
    {
     "name": "stdout",
     "output_type": "stream",
     "text": [
      "hello ahmed\n",
      "hello eman\n",
      "hello aich\n",
      "hello maryam\n"
     ]
    }
   ],
   "source": [
    "#simple example\n",
    "\n",
    "def say_hi(n1, n2, n3, n4):\n",
    "    people = [n1, n2, n3, n4]\n",
    "    for person in people:\n",
    "        print(f\"hello {person}\")\n",
    "\n",
    "say_hi(\"ahmed\", \"eman\", \"aicha\", \"maryam\")"
   ]
  },
  {
   "cell_type": "code",
   "execution_count": 26,
   "metadata": {},
   "outputs": [
    {
     "name": "stdout",
     "output_type": "stream",
     "text": [
      "hello ahmed\n",
      "hello eman\n",
      "hello aich\n",
      "hello maryam\n",
      "hello Alaa\n"
     ]
    }
   ],
   "source": [
    "# with *args\n",
    "\n",
    "def say_hi_hi(*args):\n",
    "    for person in args:\n",
    "        print(f\"hello {person}\")\n",
    "\n",
    "say_hi_hi(\"ahmed\", \"eman\", \"aicha\", \"maryam\", \"Alaa\")"
   ]
  },
  {
   "cell_type": "code",
   "execution_count": 34,
   "metadata": {},
   "outputs": [
    {
     "name": "stdout",
     "output_type": "stream",
     "text": [
      "hello ahmed your skills are:\n",
      "- python\n",
      "- HTML\n",
      "****************************************\n",
      "hello osama your skills are:\n",
      "- python\n",
      "- HTML\n",
      "- CSS\n",
      "- JS\n"
     ]
    }
   ],
   "source": [
    "# another example for *args\n",
    "# *args can be named with any name what is important is * sign\n",
    "def show_skills(name, *skills):\n",
    "    print(f\"hello {name} your skills are:\")\n",
    "    for skill in skills:\n",
    "        print(f\"- {skill}\")\n",
    "\n",
    "show_skills(\"ahmed\", \"python\", \"HTML\")\n",
    "print(\"**\" * 20)\n",
    "show_skills(\"osama\", \"python\", \"HTML\", \"CSS\", \"JS\")\n"
   ]
  },
  {
   "cell_type": "markdown",
   "metadata": {},
   "source": [
    "# function default parameters\n",
    "\n"
   ]
  },
  {
   "cell_type": "code",
   "execution_count": 36,
   "metadata": {},
   "outputs": [
    {
     "name": "stdout",
     "output_type": "stream",
     "text": [
      "hello hamed ur age is 23 and u r from egypt\n",
      "hello hamed ur age is 23 and u r from unknown\n"
     ]
    }
   ],
   "source": [
    "# default value is added at the end\n",
    "# if added from the start then all parameters should have then a default\n",
    "# value\n",
    "def say(name, age, country = \"unknown\"):\n",
    "    print(f\"hello {name} ur age is {age} and u r from {country}\")\n",
    "\n",
    "say(\"hamed\", 23, \"egypt\")\n",
    "# if the third argument not given the default value will be printed\n",
    "\n",
    "say(\"hamed\", 23)"
   ]
  },
  {
   "cell_type": "code",
   "execution_count": 43,
   "metadata": {},
   "outputs": [
    {
     "name": "stdout",
     "output_type": "stream",
     "text": [
      "hello ahmed ur age is 12 and u r from Egypt\n",
      "hello mohammed ur age is 12 and u r from Egypt\n",
      "hello osama ur age is 38 and u r from Egypt\n",
      "hello osama ur age is 38 and u r from USA\n"
     ]
    }
   ],
   "source": [
    "def say_default(name = \"ahmed\", age = \"12\", country = \"Egypt\"):\n",
    "    print(f\"hello {name} ur age is {age} and u r from {country}\")\n",
    "\n",
    "# next we will call the function with no arguments and it will work\n",
    "    # cause default values were given\n",
    "say_default()\n",
    "# if we give values it will override the default\n",
    "say_default(\"mohammed\")\n",
    "say_default(\"osama\", 38)\n",
    "say_default(\"osama\", 38, \"USA\")"
   ]
  },
  {
   "cell_type": "markdown",
   "metadata": {},
   "source": [
    "# function packing and unpacking arguments **kwargs\n"
   ]
  },
  {
   "cell_type": "code",
   "execution_count": 48,
   "metadata": {},
   "outputs": [
    {
     "name": "stdout",
     "output_type": "stream",
     "text": [
      "<class 'tuple'>\n",
      " - html\n",
      " - css\n",
      " - js\n"
     ]
    }
   ],
   "source": [
    "def print_skills(*skills):\n",
    "    print(type(skills))\n",
    "    for skill in skills:\n",
    "        print(f\" - {skill}\")\n",
    "\n",
    "\n",
    "\n",
    "print_skills(\"html\", \"css\", \"js\")"
   ]
  },
  {
   "cell_type": "code",
   "execution_count": 62,
   "metadata": {},
   "outputs": [
    {
     "name": "stdout",
     "output_type": "stream",
     "text": [
      "<class 'dict'>\n",
      "- html ==> 80%\n",
      "- css ==> 50%\n",
      "- js ==> 70%\n",
      "-*--*--*--*--*--*--*--*--*--*-\n",
      "<class 'dict'>\n",
      "- html ==> 10%\n",
      "- css ==> 20%\n",
      "- js ==> 80%\n",
      "********************\n",
      "<class 'dict'>\n",
      "- html ==> 50%\n",
      "- css ==> 90%\n",
      "- js ==> 80%\n"
     ]
    }
   ],
   "source": [
    "skills_as_dict = {\n",
    "    \"html\": \"50%\",\n",
    "    \"css\": \"90%\",\n",
    "    \"js\": \"80%\",\n",
    "}\n",
    "\n",
    "def print_new_skills(**new_skills):\n",
    "    print(type(new_skills))\n",
    "\n",
    "    for new_skill, new_skill_progress in new_skills.items():\n",
    "        print(f\"- {new_skill} ==> {new_skill_progress}\")\n",
    "\n",
    "# to write dict as argument we write key = value\n",
    "        # note that string typed key is written without double quotes\n",
    "\n",
    "print_new_skills(html = \"80%\", css = \"50%\", js = \"70%\")\n",
    "print(\"-*-\" * 10)\n",
    "print_new_skills(html = \"10%\", css = \"20%\", js = \"80%\")\n",
    "print(\"**\" * 10)\n",
    "# to print a given dictionary we put ** before it \n",
    "print_new_skills(**skills_as_dict)"
   ]
  },
  {
   "cell_type": "markdown",
   "metadata": {},
   "source": [
    "## function packing and unpacking arguments training"
   ]
  },
  {
   "cell_type": "code",
   "execution_count": 64,
   "metadata": {},
   "outputs": [
    {
     "name": "stdout",
     "output_type": "stream",
     "text": [
      "ahmed is without balance\n",
      "mohammed is without balance\n",
      "mona is without balance\n",
      "- eman with balance ==> 50\n",
      "- yomna with balance ==> 70\n"
     ]
    }
   ],
   "source": [
    "def print_clients(*names, **names_with_balance):\n",
    "    for name in names:\n",
    "        print(f\"{name} is without balance\")\n",
    "\n",
    "    for c_name, balance in names_with_balance.items():\n",
    "        print(f\"- {c_name} with balance ==> {balance}\")\n",
    "\n",
    "\n",
    "print_clients(\"ahmed\", \"mohammed\", \"mona\", eman = 50, yomna = 70)"
   ]
  },
  {
   "cell_type": "markdown",
   "metadata": {},
   "source": [
    "# function scope"
   ]
  },
  {
   "cell_type": "code",
   "execution_count": 74,
   "metadata": {},
   "outputs": [
    {
     "name": "stdout",
     "output_type": "stream",
     "text": [
      "10 from global scope\n",
      "---------------\n",
      "2 from function scope\n",
      "---------------\n",
      "4 from function scope\n",
      "---------------\n",
      "2 from global scope after function print_x is called\n"
     ]
    }
   ],
   "source": [
    "x = 10 # this is global scope and can be accessed anywhere\n",
    "\n",
    "print(f\"{x} from global scope\")\n",
    "\n",
    "def print_x():\n",
    "    global x\n",
    "    x = 2\n",
    "    print(\"---\" * 5)\n",
    "    print(f\"{x} from function scope\")\n",
    "\n",
    "def print_four():\n",
    "    x = 4\n",
    "    print(\"---\" * 5)\n",
    "    print(f\"{x} from function scope\")\n",
    "\n",
    "print_x()\n",
    "print_four()\n",
    "print(\"---\" * 5)\n",
    "print(f\"{x} from global scope after function print_x is called\")"
   ]
  }
 ],
 "metadata": {
  "kernelspec": {
   "display_name": "Python 3",
   "language": "python",
   "name": "python3"
  },
  "language_info": {
   "codemirror_mode": {
    "name": "ipython",
    "version": 3
   },
   "file_extension": ".py",
   "mimetype": "text/x-python",
   "name": "python",
   "nbconvert_exporter": "python",
   "pygments_lexer": "ipython3",
   "version": "3.12.0"
  }
 },
 "nbformat": 4,
 "nbformat_minor": 2
}
