{
 "cells": [
  {
   "cell_type": "markdown",
   "metadata": {},
   "source": [
    "### while loop runs while certain condition is true the code will run\n",
    "### once the condition become false the while loop stops running"
   ]
  },
  {
   "cell_type": "code",
   "execution_count": 3,
   "metadata": {},
   "outputs": [
    {
     "name": "stdout",
     "output_type": "stream",
     "text": [
      "0\n",
      "1\n",
      "2\n",
      "3\n",
      "4\n",
      "5\n",
      "6\n",
      "7\n",
      "8\n",
      "9\n",
      "loop has done\n"
     ]
    }
   ],
   "source": [
    "# example\n",
    "\n",
    "a = 0\n",
    "\n",
    "while a < 10:\n",
    "    print(a)\n",
    "\n",
    "    a += 1     #increment here is a must to avoid infinite loop\n",
    "else:\n",
    "    print(\"loop has done\")   # will executed after loop is done normally"
   ]
  },
  {
   "cell_type": "code",
   "execution_count": 8,
   "metadata": {},
   "outputs": [
    {
     "name": "stdout",
     "output_type": "stream",
     "text": [
      "0\n",
      "1\n",
      "2\n",
      "3\n"
     ]
    }
   ],
   "source": [
    "# example\n",
    "\n",
    "a = 0\n",
    "\n",
    "while a < 10:\n",
    "    print(a)\n",
    "    if a == 3:\n",
    "        break\n",
    "    a += 1     #increment here is a must to avoid infinite loop\n",
    "    \n",
    "else:\n",
    "    print(\"loop has done\")   # will executed after loop is done normally\n",
    "        # here the loop is done with break statement so else won't be executed"
   ]
  },
  {
   "cell_type": "code",
   "execution_count": 15,
   "metadata": {},
   "outputs": [
    {
     "name": "stdout",
     "output_type": "stream",
     "text": [
      "#01 ahmed\n",
      "#02 mona\n",
      "#03 eman\n",
      "#04 aicha\n",
      "#05 maryam\n",
      "#06 koko\n",
      "#07 hossam\n"
     ]
    }
   ],
   "source": [
    "list_friends = [\"ahmed\", \"mona\", \"eman\", \"aicha\", \"maryam\", \"koko\", \"hossam\"]\n",
    "\n",
    "# print the list using while loop\n",
    "\n",
    "a = 0\n",
    "\n",
    "while a < len(list_friends):\n",
    "    print(f\"#{str(a + 1).zfill(2)} {list_friends[a]}\")\n",
    "    a += 1\n",
    "\n"
   ]
  },
  {
   "cell_type": "code",
   "execution_count": 16,
   "metadata": {},
   "outputs": [],
   "source": [
    "#practice while loop"
   ]
  },
  {
   "cell_type": "code",
   "execution_count": 22,
   "metadata": {},
   "outputs": [
    {
     "name": "stdout",
     "output_type": "stream",
     "text": [
      "website added successfully\n",
      "4 spaces left in the list to be added\n",
      "website added successfully\n",
      "3 spaces left in the list to be added\n",
      "website added successfully\n",
      "2 spaces left in the list to be added\n",
      "website added successfully\n",
      "1 spaces left in the list to be added\n",
      "website added successfully\n",
      "0 spaces left in the list to be added\n",
      "no more spaces to add websites\n",
      "https://elzero..dev\n",
      "https://elzero.com\n",
      "https://elzero.dev\n",
      "https://elzero.me\n",
      "https://elzero.net\n"
     ]
    }
   ],
   "source": [
    "# adding websites to a list\n",
    "\n",
    "websites_list = []\n",
    "\n",
    "maximum_num_webs = 5\n",
    "\n",
    "while maximum_num_webs > 0:\n",
    "    webSite = input(\"write the website without https://\").strip().lower()\n",
    "\n",
    "    maximum_num_webs -= 1\n",
    "    websites_list.append(f\"https://{webSite}\")\n",
    "    # print(websites_list)\n",
    "    print(\"website added successfully\")\n",
    "    print(f\"{maximum_num_webs} spaces left in the list to be added\")\n",
    "\n",
    "else:\n",
    "    print(\"no more spaces to add websites\")\n",
    "\n",
    "websites_list.sort()\n",
    "\n",
    "index = 0\n",
    "\n",
    "while index < len(websites_list):\n",
    "    print(websites_list[index])\n",
    "    index += 1\n"
   ]
  },
  {
   "cell_type": "code",
   "execution_count": 24,
   "metadata": {},
   "outputs": [
    {
     "name": "stdout",
     "output_type": "stream",
     "text": [
      "wrong password. 4 chances left\n",
      "wrong password. 3 chances left\n",
      "wrong password. 2 chances left\n",
      "wrong password. last chances left\n",
      "right password\n"
     ]
    }
   ],
   "source": [
    "#---------------------------------------------------------\n",
    "#---------------- password guess -------------------------\n",
    "#---------------------------------------------------------\n",
    "\n",
    "right_password = \"@osama\"\n",
    "\n",
    "tries = 5\n",
    "\n",
    "password = input(\"write the right password: \")\n",
    "\n",
    "while password != right_password:\n",
    "    tries -= 1\n",
    "    print(f\"wrong password. {'last' if tries == 1 else tries} chances left\")\n",
    "    password = input(\"write the right password: \")\n",
    "\n",
    "    if tries == 0:\n",
    "        print(\"0 chances left\")\n",
    "        break\n",
    "else:  # will executed only if loop ends normally without break \n",
    "    print(\"right password\")"
   ]
  }
 ],
 "metadata": {
  "kernelspec": {
   "display_name": "Python 3",
   "language": "python",
   "name": "python3"
  },
  "language_info": {
   "codemirror_mode": {
    "name": "ipython",
    "version": 3
   },
   "file_extension": ".py",
   "mimetype": "text/x-python",
   "name": "python",
   "nbconvert_exporter": "python",
   "pygments_lexer": "ipython3",
   "version": "3.12.0"
  }
 },
 "nbformat": 4,
 "nbformat_minor": 2
}
