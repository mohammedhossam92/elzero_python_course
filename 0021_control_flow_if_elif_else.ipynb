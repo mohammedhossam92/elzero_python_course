{
 "cells": [
  {
   "cell_type": "code",
   "execution_count": null,
   "metadata": {},
   "outputs": [],
   "source": [
    "# syntax of if \n",
    "# if condition:\n",
    "#   do this \n",
    "#   do this"
   ]
  },
  {
   "cell_type": "code",
   "execution_count": 8,
   "metadata": {},
   "outputs": [
    {
     "name": "stdout",
     "output_type": "stream",
     "text": [
      "hello osama because Your are from USA\n",
      "the course price is 80\n"
     ]
    }
   ],
   "source": [
    "# example\n",
    "\n",
    "user_name = \"osama\"\n",
    "user_country = \"USA\"\n",
    "course_price = 100\n",
    "discount = 0\n",
    "\n",
    "if user_country == \"EGYPT\":\n",
    "    discount = 70\n",
    "elif user_country == \"KSA\":\n",
    "    discount = 50\n",
    "else:\n",
    "    discount = 20\n",
    "\n",
    "print(f\"hello {user_name} because Your are from {user_country}\")\n",
    "print(f\"the course price is {course_price - discount}\")"
   ]
  },
  {
   "cell_type": "code",
   "execution_count": 4,
   "metadata": {},
   "outputs": [
    {
     "name": "stdout",
     "output_type": "stream",
     "text": [
      "hello osama because Your are from EGYPT\n",
      "the course price is 40\n"
     ]
    }
   ],
   "source": [
    "# nested if \n",
    "# example\n",
    "\n",
    "user_name = \"osama\"\n",
    "user_country = \"EGYPT\"\n",
    "course_price = 100\n",
    "is_student = False\n",
    "discount = 0\n",
    "\n",
    "if user_country == \"EGYPT\":\n",
    "    if is_student:\n",
    "        discount = 70\n",
    "    else:\n",
    "        discount = 60\n",
    "elif user_country == \"KSA\":\n",
    "    discount = 50\n",
    "else:\n",
    "    discount = 20\n",
    "\n",
    "print(f\"hello {user_name} because Your are from {user_country}\")\n",
    "print(f\"the course price is {course_price - discount}\")"
   ]
  },
  {
   "cell_type": "markdown",
   "metadata": {},
   "source": [
    "# short syntax of if condition\n",
    "\n",
    "**(condition if true)(if condition)(else)(condition if false)**"
   ]
  },
  {
   "cell_type": "code",
   "execution_count": 7,
   "metadata": {},
   "outputs": [
    {
     "name": "stdout",
     "output_type": "stream",
     "text": [
      "condition if true\n"
     ]
    }
   ],
   "source": [
    "print(\"condition if true\") if 3 < 5 else print(\"condition if false\")"
   ]
  },
  {
   "cell_type": "code",
   "execution_count": null,
   "metadata": {},
   "outputs": [],
   "source": []
  }
 ],
 "metadata": {
  "kernelspec": {
   "display_name": "Python 3",
   "language": "python",
   "name": "python3"
  },
  "language_info": {
   "codemirror_mode": {
    "name": "ipython",
    "version": 3
   },
   "file_extension": ".py",
   "mimetype": "text/x-python",
   "name": "python",
   "nbconvert_exporter": "python",
   "pygments_lexer": "ipython3",
   "version": "3.12.0"
  }
 },
 "nbformat": 4,
 "nbformat_minor": 2
}
