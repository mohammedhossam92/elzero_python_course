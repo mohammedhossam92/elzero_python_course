{
 "cells": [
  {
   "cell_type": "markdown",
   "metadata": {},
   "source": [
    "# built-in functions"
   ]
  },
  {
   "cell_type": "markdown",
   "metadata": {},
   "source": [
    "## part 1"
   ]
  },
  {
   "cell_type": "markdown",
   "metadata": {},
   "source": [
    "* 1- all()\n",
    "\n",
    "return true if all elements in iterator all true"
   ]
  },
  {
   "cell_type": "code",
   "execution_count": 7,
   "metadata": {},
   "outputs": [
    {
     "name": "stdout",
     "output_type": "stream",
     "text": [
      "True\n",
      "----------------------------------------\n",
      "False\n",
      "----------------------------------------\n",
      "all elements are true\n",
      "----------------------------------------\n",
      "there is at least one false element\n"
     ]
    }
   ],
   "source": [
    "x= [1,2,3,4,5,6]\n",
    "y= [1,2,3,4,5,6,[]]\n",
    "\n",
    "print(all(x))\n",
    "print(\"--\" * 20)\n",
    "print(all(y))\n",
    "print(\"--\" * 20)\n",
    "if all(x):\n",
    "    print(\"all elements are true\")\n",
    "else:\n",
    "    print(\"there is at least one false element\")\n",
    "print(\"--\" * 20)\n",
    "if all(y):\n",
    "    print(\"all elements are true\")\n",
    "else:\n",
    "    print(\"there is at least one false element\")"
   ]
  },
  {
   "cell_type": "markdown",
   "metadata": {},
   "source": [
    "* 2- any()\n",
    "\n",
    "return true if any one of the elements is True "
   ]
  },
  {
   "cell_type": "code",
   "execution_count": 13,
   "metadata": {},
   "outputs": [
    {
     "name": "stdout",
     "output_type": "stream",
     "text": [
      "True\n",
      "----------------------------------------\n",
      "True\n",
      "----------------------------------------\n",
      "False\n",
      "----------------------------------------\n",
      "there is at least one True elements\n",
      "----------------------------------------\n",
      "there is at least one True element\n"
     ]
    }
   ],
   "source": [
    "m= [1,2,3,4,5,6]\n",
    "n= [1,2,3,4,5,6,[]]\n",
    "z= [False,[]]\n",
    "\n",
    "print(any(m))\n",
    "print(\"--\" * 20)\n",
    "print(any(n))\n",
    "print(\"--\" * 20)\n",
    "print(any(z)) # return false cause all elements are false\n",
    "print(\"--\" * 20)\n",
    "\n",
    "if any(m):\n",
    "    print(\"there is at least one True elements\")\n",
    "else:\n",
    "    print(\"there is no any True Element\")\n",
    "print(\"--\" * 20)\n",
    "if any(n):\n",
    "    print(\"there is at least one True element\")\n",
    "else:\n",
    "    print(\"there is no any True Element\")"
   ]
  },
  {
   "cell_type": "markdown",
   "metadata": {},
   "source": [
    "* 3- bin()\n",
    "\n",
    "return the binary number of an integer\n"
   ]
  },
  {
   "cell_type": "code",
   "execution_count": 14,
   "metadata": {},
   "outputs": [
    {
     "data": {
      "text/plain": [
       "'0b1111'"
      ]
     },
     "execution_count": 14,
     "metadata": {},
     "output_type": "execute_result"
    }
   ],
   "source": [
    "bin(15)"
   ]
  },
  {
   "cell_type": "markdown",
   "metadata": {},
   "source": [
    " * 4-id()\n",
    "\n",
    " **return the identity of an object**\n",
    " \n",
    " **python use the memory address**"
   ]
  },
  {
   "cell_type": "code",
   "execution_count": 15,
   "metadata": {},
   "outputs": [
    {
     "name": "stdout",
     "output_type": "stream",
     "text": [
      "140725517601528\n",
      "140725517601336\n"
     ]
    }
   ],
   "source": [
    "a = 11\n",
    "b = 5\n",
    "\n",
    "print(id(a))\n",
    "print(id(b))"
   ]
  },
  {
   "cell_type": "markdown",
   "metadata": {},
   "source": [
    "## part 2"
   ]
  },
  {
   "cell_type": "markdown",
   "metadata": {},
   "source": [
    "* 5- sum(iterable, start ==> optional)\n",
    "\n",
    "return the sum of iterable elements"
   ]
  },
  {
   "cell_type": "code",
   "execution_count": 18,
   "metadata": {},
   "outputs": [
    {
     "name": "stdout",
     "output_type": "stream",
     "text": [
      "100\n",
      "115\n"
     ]
    }
   ],
   "source": [
    "a = [10,20,30,40]\n",
    "print(sum(a))\n",
    "print(sum(a,15)) # it will start form 10 and add it to the sum"
   ]
  },
  {
   "cell_type": "markdown",
   "metadata": {},
   "source": [
    "* 6- round(number, number of digits to appear after floating point)\n",
    "\n",
    "it rounds the number to the nearest possible larger\n",
    "\n",
    "if digits after float point will be considered it will round the last number\n"
   ]
  },
  {
   "cell_type": "code",
   "execution_count": 24,
   "metadata": {},
   "outputs": [
    {
     "name": "stdout",
     "output_type": "stream",
     "text": [
      "6\n",
      "5\n",
      "5.46\n",
      "5.47\n"
     ]
    }
   ],
   "source": [
    "print(round(5.5))\n",
    "print(round(5.465))\n",
    "print(round(5.465, 2))\n",
    "print(round(5.466, 2))"
   ]
  },
  {
   "cell_type": "markdown",
   "metadata": {},
   "source": [
    "* 7- range(start,end,step)\n",
    "\n",
    "start ==> optional\n",
    "\n",
    "end ==> mandatory and not included\n",
    "\n",
    "step ==> by default is 1"
   ]
  },
  {
   "cell_type": "code",
   "execution_count": 29,
   "metadata": {},
   "outputs": [
    {
     "name": "stdout",
     "output_type": "stream",
     "text": [
      "[]\n",
      "[0, 1, 2, 3, 4, 5, 6, 7, 8, 9]\n",
      "[0, 2, 4, 6, 8]\n"
     ]
    }
   ],
   "source": [
    "print(list(range(0)))\n",
    "print(list(range(10)))\n",
    "print(list(range(0,10,2)))"
   ]
  },
  {
   "cell_type": "markdown",
   "metadata": {},
   "source": [
    "* 8- print()"
   ]
  },
  {
   "cell_type": "code",
   "execution_count": 49,
   "metadata": {},
   "outputs": [
    {
     "name": "stdout",
     "output_type": "stream",
     "text": [
      "hello osama\n",
      "hello osama\n",
      "hello/osama/how/are/you\n"
     ]
    }
   ],
   "source": [
    "print(\"hello osama\")\n",
    "print(\"hello\",\"osama\") # the same result like the above one\n",
    "                    # comma in print means two messages\n",
    "# default separator in print is space\n",
    "# to change it we use sep\n",
    "print(\"hello\", \"osama\", \"how\", \"are\", \"you\", sep=\"/\")"
   ]
  },
  {
   "cell_type": "code",
   "execution_count": 50,
   "metadata": {},
   "outputs": [
    {
     "name": "stdout",
     "output_type": "stream",
     "text": [
      "ahmed! &osama\n"
     ]
    }
   ],
   "source": [
    "# using end in print\n",
    "# by default end=\"\\n\"\n",
    "print(\"ahmed\", end=\"! &\")\n",
    "print(\"osama\")"
   ]
  },
  {
   "cell_type": "markdown",
   "metadata": {},
   "source": [
    "## part 3"
   ]
  },
  {
   "cell_type": "markdown",
   "metadata": {},
   "source": [
    " * 9-abs() \n",
    "\n",
    " space between number and zero"
   ]
  },
  {
   "cell_type": "code",
   "execution_count": 1,
   "metadata": {},
   "outputs": [
    {
     "name": "stdout",
     "output_type": "stream",
     "text": [
      "100\n",
      "100\n"
     ]
    }
   ],
   "source": [
    "print(abs(100))\n",
    "print(abs(-100))"
   ]
  },
  {
   "cell_type": "markdown",
   "metadata": {},
   "source": [
    " * 10-pow(base, exp, mod) "
   ]
  },
  {
   "cell_type": "code",
   "execution_count": 4,
   "metadata": {},
   "outputs": [
    {
     "name": "stdout",
     "output_type": "stream",
     "text": [
      "4\n",
      "0\n"
     ]
    }
   ],
   "source": [
    "print(pow(2,2))\n",
    "print(pow(2,2,2))"
   ]
  },
  {
   "cell_type": "code",
   "execution_count": null,
   "metadata": {},
   "outputs": [],
   "source": [
    "print(pow(2,2))\n",
    "print(pow(2,2,2))"
   ]
  },
  {
   "cell_type": "markdown",
   "metadata": {},
   "source": [
    "* 11- min()\n",
    "\n",
    "return the minimum element in iterator or items it also works on strings"
   ]
  },
  {
   "cell_type": "code",
   "execution_count": 8,
   "metadata": {},
   "outputs": [
    {
     "name": "stdout",
     "output_type": "stream",
     "text": [
      "Osama\n",
      "23\n"
     ]
    }
   ],
   "source": [
    "x = list(range(23,50))\n",
    "strings = [\"z\", \"y\", \"Osama\"] # name printed cause o is the min\n",
    "print(min(strings))\n",
    "print(min(x))"
   ]
  },
  {
   "cell_type": "markdown",
   "metadata": {},
   "source": [
    "* 12- max()\n",
    "\n",
    "return the maximum \n",
    "\n",
    "it is the opposite of the min()"
   ]
  },
  {
   "cell_type": "code",
   "execution_count": 9,
   "metadata": {},
   "outputs": [
    {
     "name": "stdout",
     "output_type": "stream",
     "text": [
      "49\n"
     ]
    }
   ],
   "source": [
    "# example\n",
    "y = list(range(23,50))\n",
    "print(max(y))"
   ]
  },
  {
   "cell_type": "markdown",
   "metadata": {},
   "source": [
    "* 13- slice(start,end,step)"
   ]
  },
  {
   "cell_type": "code",
   "execution_count": 12,
   "metadata": {},
   "outputs": [
    {
     "name": "stdout",
     "output_type": "stream",
     "text": [
      "['a', 'b', 'c']\n",
      "['a', 'b', 'c', 'd']\n",
      "['b', 'd']\n"
     ]
    }
   ],
   "source": [
    "a = [\"a\", \"b\", \"c\", \"d\"]\n",
    "\n",
    "print(a[:3])\n",
    "print(a[slice(4)])\n",
    "print(a[slice(1,4,2)])"
   ]
  }
 ],
 "metadata": {
  "kernelspec": {
   "display_name": "Python 3",
   "language": "python",
   "name": "python3"
  },
  "language_info": {
   "codemirror_mode": {
    "name": "ipython",
    "version": 3
   },
   "file_extension": ".py",
   "mimetype": "text/x-python",
   "name": "python",
   "nbconvert_exporter": "python",
   "pygments_lexer": "ipython3",
   "version": "3.12.0"
  }
 },
 "nbformat": 4,
 "nbformat_minor": 2
}
