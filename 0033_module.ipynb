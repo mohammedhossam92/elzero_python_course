{
 "cells": [
  {
   "cell_type": "markdown",
   "metadata": {},
   "source": [
    "# Module"
   ]
  },
  {
   "cell_type": "markdown",
   "metadata": {},
   "source": [
    "## part 1"
   ]
  },
  {
   "cell_type": "markdown",
   "metadata": {},
   "source": [
    "* 1- module is a file contains a set of functions\n",
    "* 2- u can use this module by importing it in the app\n",
    "* 3- u can import multiple modules\n",
    "* 4- u can create ur own module\n",
    "* 5- modules are made to save time"
   ]
  },
  {
   "cell_type": "code",
   "execution_count": 154,
   "metadata": {},
   "outputs": [
    {
     "name": "stdout",
     "output_type": "stream",
     "text": [
      "<module 'random' from 'c:\\\\Users\\\\moham\\\\AppData\\\\Local\\\\Programs\\\\Python\\\\Python312\\\\Lib\\\\random.py'>\n",
      "----------------------------------------------------------------------------------------------------\n",
      "a random float from the random module: 0.2476663110288554\n",
      "----------------------------------------------------------------------------------------------------\n",
      "2.667\n"
     ]
    }
   ],
   "source": [
    "# importing a module\n",
    "# example\n",
    "\n",
    "import random\n",
    "print( random) # print the module and its location in local device\n",
    "print(\"--\" * 50)\n",
    "# to print a random float between 0,1\n",
    "print(f\"a random float from the random module: {random.random()}\")\n",
    "print(\"--\" * 50)\n",
    "# to print a random float between a range of given float numbers\n",
    "print(f\"{random.uniform(1.0, 20.0):.3f}\")"
   ]
  },
  {
   "cell_type": "code",
   "execution_count": 161,
   "metadata": {},
   "outputs": [
    {
     "name": "stdout",
     "output_type": "stream",
     "text": [
      "['BPF', 'LOG4', 'NV_MAGICCONST', 'RECIP_BPF', 'Random', 'SG_MAGICCONST', 'SystemRandom', 'TWOPI', '_ONE', '_Sequence', '__all__', '__builtins__', '__cached__', '__doc__', '__file__', '__loader__', '__name__', '__package__', '__spec__', '_accumulate', '_acos', '_bisect', '_ceil', '_cos', '_e', '_exp', '_fabs', '_floor', '_index', '_inst', '_isfinite', '_lgamma', '_log', '_log2', '_os', '_pi', '_random', '_repeat', '_sha512', '_sin', '_sqrt', '_test', '_test_generator', '_urandom', '_warn', 'betavariate', 'binomialvariate', 'choice', 'choices', 'expovariate', 'gammavariate', 'gauss', 'getrandbits', 'getstate', 'lognormvariate', 'normalvariate', 'paretovariate', 'randbytes', 'randint', 'random', 'randrange', 'sample', 'seed', 'setstate', 'shuffle', 'triangular', 'uniform', 'vonmisesvariate', 'weibullvariate']\n",
      "----------------------------------------------------------------------------------------------------\n"
     ]
    }
   ],
   "source": [
    "# to show all functions in the module\n",
    "# we use the dir() function\n",
    "\n",
    "print(dir(random))\n",
    "print(\"--\" * 50)\n",
    "# print(help(random))"
   ]
  },
  {
   "cell_type": "code",
   "execution_count": 164,
   "metadata": {},
   "outputs": [
    {
     "name": "stdout",
     "output_type": "stream",
     "text": [
      "120\n",
      "220.81422044031268\n"
     ]
    }
   ],
   "source": [
    "# import one or two functions form the module\n",
    "\n",
    "from random import randint, uniform\n",
    "\n",
    "print(randint(100,900))\n",
    "print(uniform(100,900))\n",
    "\n"
   ]
  },
  {
   "cell_type": "markdown",
   "metadata": {},
   "source": [
    "## part 2"
   ]
  },
  {
   "cell_type": "markdown",
   "metadata": {},
   "source": [
    "### how to create a module"
   ]
  },
  {
   "cell_type": "code",
   "execution_count": 1,
   "metadata": {},
   "outputs": [],
   "source": [
    "# create ur own file with ur chosen name\n",
    "# my_module.py\n",
    "# write functions in the module u created\n"
   ]
  },
  {
   "cell_type": "code",
   "execution_count": 4,
   "metadata": {},
   "outputs": [],
   "source": [
    "# to get the paths u r working on \n",
    "\n",
    "# import sys <== code not comment\n",
    "# print(sys.path) <== this is code not comment\n",
    "#--------------------------------------------------------------------------\n",
    "# one of the passes that python deals with is the current working directory\n",
    "# to append another directory to the paths\n",
    "#--------------------------------------------------------------------------\n",
    "# sys.append(r\"ur working directory goes here\")  <== code not comment\n",
    "#--------------------------------------------------------------------------\n",
    "# the working directory should be a raw string to\n",
    "# treat with the escaping character \\ as literal"
   ]
  },
  {
   "cell_type": "code",
   "execution_count": 5,
   "metadata": {},
   "outputs": [],
   "source": [
    "# how to import ur module\n",
    "\n",
    "# import  file_name\n",
    "\n",
    "# filename.ur_function\n",
    "# and so on"
   ]
  },
  {
   "cell_type": "code",
   "execution_count": 6,
   "metadata": {},
   "outputs": [],
   "source": [
    "# importing module as alias\n",
    "# means to import module and make the name to another one and use it \n",
    "# like\n",
    "\n",
    "# import my_module as m\n",
    "# m.my_function"
   ]
  },
  {
   "cell_type": "code",
   "execution_count": 7,
   "metadata": {},
   "outputs": [],
   "source": [
    "# error while importing a module like unresolved import \n",
    "# can be solved by:\n",
    "# 1- open setting.json\n",
    "# 2- after python.pythonpath : \n",
    "# 3- add the line\n",
    "# python.autocomplete.extrapaths:[\"the path goes here\"]\n",
    "# -------------------------------------------------------------\n"
   ]
  },
  {
   "cell_type": "markdown",
   "metadata": {},
   "source": [
    "## part 3"
   ]
  },
  {
   "cell_type": "markdown",
   "metadata": {},
   "source": [
    "## installing external package\n",
    "\n"
   ]
  },
  {
   "cell_type": "markdown",
   "metadata": {},
   "source": [
    "* 1- module vs package\n",
    "\n",
    "**package is a group of modules or files**\n",
    "* 2- External package download from the internet\n",
    "* 3- you can install package with python package manager  PIP ( preferred installer program )\n",
    "* 4- PIP install the package and its dependencies\n",
    "* 5- Modules list \"https://docs.python.org/3/py-modindex.html\"\n",
    "* 6- package and modules directory \"https://pypi.org/\"\n",
    "* 7- PIP manual \"https://pip.pypa.io/en/stable/\"\n"
   ]
  },
  {
   "cell_type": "code",
   "execution_count": 1,
   "metadata": {},
   "outputs": [],
   "source": [
    "# #--------------------- pip commands---------------------------#\n",
    "# pip --version   ==> to check the version of pip\n",
    "# pip list ==> to list all available packages to install\n",
    "# pip install package_name\n",
    "# pip install module_name \n",
    "# pip install module_name module_name ==> install multiple packages or modules\n",
    "# pip install package_name == version_number\n",
    "# pip install package_name >= version_number\n",
    "# pip install pip --upgrade ==> to upgrade the version of pip\n",
    "\n"
   ]
  },
  {
   "cell_type": "code",
   "execution_count": 4,
   "metadata": {},
   "outputs": [
    {
     "name": "stdout",
     "output_type": "stream",
     "text": [
      "['COLOR_CODES', 'CharNotPrinted', 'DEFAULT_FONT', 'Figlet', 'FigletBuilder', 'FigletError', 'FigletFont', 'FigletProduct', 'FigletRenderingEngine', 'FigletString', 'FontError', 'FontNotFound', 'InvalidColor', 'OptionParser', 'RESET_COLORS', 'SHARED_DIRECTORY', '__author__', '__builtins__', '__cached__', '__copyright__', '__doc__', '__file__', '__loader__', '__name__', '__package__', '__path__', '__spec__', '__version__', 'color_to_ansi', 'figlet_format', 'fonts', 'importlib', 'itertools', 'main', 'os', 'parse_color', 'pathlib', 'print_figlet', 'print_function', 're', 'shutil', 'sys', 'unicode_literals', 'unicode_string', 'version', 'zipfile']\n",
      "['ATTRIBUTES', 'COLORS', 'HIGHLIGHTS', 'RESET', '__all__', '__builtins__', '__cached__', '__doc__', '__file__', '__loader__', '__name__', '__package__', '__path__', '__spec__', '_types', 'annotations', 'colored', 'cprint', 'termcolor']\n",
      "\u001b[33m                 _                                        _ \n",
      " _ __ ___   ___ | |__   __ _ _ __ ___  _ __ ___   ___  __| |\n",
      "| '_ ` _ \\ / _ \\| '_ \\ / _` | '_ ` _ \\| '_ ` _ \\ / _ \\/ _` |\n",
      "| | | | | | (_) | | | | (_| | | | | | | | | | | |  __/ (_| |\n",
      "|_| |_| |_|\\___/|_| |_|\\__,_|_| |_| |_|_| |_| |_|\\___|\\__,_|\n",
      "                                                            \n",
      "\u001b[0m\n"
     ]
    }
   ],
   "source": [
    "import termcolor\n",
    "import pyfiglet\n",
    "\n",
    "print(dir(pyfiglet))\n",
    "print(dir(termcolor))\n",
    "\n",
    "name = (pyfiglet.figlet_format(\"mohammed\"))\n",
    "print(termcolor.colored(name, color=\"yellow\"))\n"
   ]
  }
 ],
 "metadata": {
  "kernelspec": {
   "display_name": "Python 3",
   "language": "python",
   "name": "python3"
  },
  "language_info": {
   "codemirror_mode": {
    "name": "ipython",
    "version": 3
   },
   "file_extension": ".py",
   "mimetype": "text/x-python",
   "name": "python",
   "nbconvert_exporter": "python",
   "pygments_lexer": "ipython3",
   "version": "3.12.0"
  }
 },
 "nbformat": 4,
 "nbformat_minor": 2
}
