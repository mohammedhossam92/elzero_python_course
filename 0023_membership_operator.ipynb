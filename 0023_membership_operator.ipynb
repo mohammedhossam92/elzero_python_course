{
 "cells": [
  {
   "cell_type": "markdown",
   "metadata": {},
   "source": [
    "# membership operators\n",
    "\n",
    "### in\n",
    "### not in\n",
    "\n"
   ]
  },
  {
   "cell_type": "code",
   "execution_count": 3,
   "metadata": {},
   "outputs": [
    {
     "name": "stdout",
     "output_type": "stream",
     "text": [
      "True\n",
      "True\n",
      "False\n"
     ]
    }
   ],
   "source": [
    "# example for strings\n",
    "\n",
    "\n",
    "name = \"mohammed\"\n",
    "print(\"s\" not in name)\n",
    "print(\"m\" in name)\n",
    "print(\"x\" in name)"
   ]
  },
  {
   "cell_type": "code",
   "execution_count": 7,
   "metadata": {},
   "outputs": [
    {
     "name": "stdout",
     "output_type": "stream",
     "text": [
      "because You are from Ugreen your discount is 0$\n"
     ]
    }
   ],
   "source": [
    "# another application on lists\n",
    "\n",
    "countries_list_1 = [\"Egypt\", \"Syria\", \"KSA\", \"Kuwait\"]\n",
    "countries_list_2 = [\"USA\", \"Italy\", \"Canada\", \"England\"]\n",
    "discount = 0\n",
    "my_country = \"Canada\"\n",
    "\n",
    "if my_country in countries_list_1:\n",
    "    discount = 70\n",
    "elif my_country in countries_list_2:\n",
    "    discount = 50\n",
    "else:\n",
    "    discount = 0\n",
    "\n",
    "print(f\"because You are from {my_country} your discount is {discount}$\")"
   ]
  }
 ],
 "metadata": {
  "kernelspec": {
   "display_name": "Python 3",
   "language": "python",
   "name": "python3"
  },
  "language_info": {
   "codemirror_mode": {
    "name": "ipython",
    "version": 3
   },
   "file_extension": ".py",
   "mimetype": "text/x-python",
   "name": "python",
   "nbconvert_exporter": "python",
   "pygments_lexer": "ipython3",
   "version": "3.12.0"
  }
 },
 "nbformat": 4,
 "nbformat_minor": 2
}
