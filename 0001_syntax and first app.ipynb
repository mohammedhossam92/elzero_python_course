{
 "cells": [
  {
   "cell_type": "markdown",
   "metadata": {},
   "source": [
    "**1- when to use semicolon in python ?**\n",
    "\n",
    "semicolon used when to write two statements on the same line \n",
    "\n",
    "for example "
   ]
  },
  {
   "cell_type": "code",
   "execution_count": 1,
   "metadata": {},
   "outputs": [
    {
     "name": "stdout",
     "output_type": "stream",
     "text": [
      "hello semicolon\n",
      "hello\n"
     ]
    }
   ],
   "source": [
    "print(\"hello semicolon\"); print(\"hello\")\n"
   ]
  },
  {
   "cell_type": "markdown",
   "metadata": {},
   "source": [
    "**2-python syntax is based on indentation** \n",
    "* indentation configure the code block\n",
    "* as long as the code has the same indentation it is in the same code block\n",
    "  for example \n",
    "* no matter the size of indentation left the code will work\n",
    "*  but to follow pycode-style formatiing is good for readability of code\n",
    "*  according to pep8 rules the indentation should be four spaces"
   ]
  },
  {
   "cell_type": "code",
   "execution_count": 2,
   "metadata": {},
   "outputs": [
    {
     "name": "stdout",
     "output_type": "stream",
     "text": [
      "space\n",
      "ConnectionAbortedError\n",
      "hello\n",
      "this is better for code reading\n"
     ]
    }
   ],
   "source": [
    "\n",
    "print(\"space\")      # the text between the double quotes is called string\n",
    "                # and it tell the print function where the text start and end\n",
    "print(\"ConnectionAbortedError\")\n",
    "\n",
    "\n",
    "if True:\n",
    "              print(\"hello\")   # example of large indentation  \n",
    "if True:\n",
    "        print(\"this is better for code reading\")"
   ]
  }
 ],
 "metadata": {
  "kernelspec": {
   "display_name": "Python 3",
   "language": "python",
   "name": "python3"
  },
  "language_info": {
   "codemirror_mode": {
    "name": "ipython",
    "version": 3
   },
   "file_extension": ".py",
   "mimetype": "text/x-python",
   "name": "python",
   "nbconvert_exporter": "python",
   "pygments_lexer": "ipython3",
   "version": "3.11.4"
  },
  "orig_nbformat": 4
 },
 "nbformat": 4,
 "nbformat_minor": 2
}
